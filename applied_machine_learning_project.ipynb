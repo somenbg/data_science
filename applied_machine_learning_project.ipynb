{
 "cells": [
  {
   "cell_type": "markdown",
   "metadata": {},
   "source": [
    "# APPLIED MACHINE LEARNING Project\n",
    "\n",
    "### Data Source:\n",
    "\n",
    "Regression: https://www.kaggle.com/anthonypino/melbourne-housing-market\n",
    "\n",
    "Classification: https://www.kaggle.com/jsphyg/weather-dataset-rattle-package"
   ]
  },
  {
   "cell_type": "markdown",
   "metadata": {},
   "source": [
    "# Regression Problem"
   ]
  },
  {
   "cell_type": "markdown",
   "metadata": {},
   "source": [
    "### Packages required:"
   ]
  },
  {
   "cell_type": "code",
   "execution_count": 1,
   "metadata": {},
   "outputs": [],
   "source": [
    "import pandas as pd\n",
    "import numpy as np\n",
    "import seaborn as sns\n",
    "import matplotlib.pyplot as plt\n",
    "from sklearn.model_selection import train_test_split\n",
    "from sklearn.preprocessing import StandardScaler\n",
    "from sklearn.preprocessing import PolynomialFeatures\n",
    "\n",
    "from sklearn.model_selection import GridSearchCV\n",
    "from sklearn.linear_model import LinearRegression\n",
    "from sklearn.neighbors import KNeighborsRegressor\n",
    "from sklearn.svm import SVR\n",
    "from sklearn import linear_model\n",
    "from sklearn.svm import LinearSVC\n",
    "\n",
    "from sklearn.metrics import explained_variance_score, mean_absolute_error, mean_squared_error, mean_squared_log_error, median_absolute_error, r2_score"
   ]
  },
  {
   "cell_type": "markdown",
   "metadata": {},
   "source": [
    "### Read the datafile and describe the data"
   ]
  },
  {
   "cell_type": "code",
   "execution_count": 2,
   "metadata": {
    "scrolled": true
   },
   "outputs": [
    {
     "name": "stdout",
     "output_type": "stream",
     "text": [
      "<class 'pandas.core.frame.DataFrame'>\n",
      "RangeIndex: 34857 entries, 0 to 34856\n",
      "Data columns (total 21 columns):\n",
      "Suburb           34857 non-null object\n",
      "Address          34857 non-null object\n",
      "Rooms            34857 non-null int64\n",
      "Type             34857 non-null object\n",
      "Price            27247 non-null float64\n",
      "Method           34857 non-null object\n",
      "SellerG          34857 non-null object\n",
      "Date             34857 non-null object\n",
      "Distance         34856 non-null float64\n",
      "Postcode         34856 non-null float64\n",
      "Bedroom2         26640 non-null float64\n",
      "Bathroom         26631 non-null float64\n",
      "Car              26129 non-null float64\n",
      "Landsize         23047 non-null float64\n",
      "BuildingArea     13742 non-null float64\n",
      "YearBuilt        15551 non-null float64\n",
      "CouncilArea      34854 non-null object\n",
      "Lattitude        26881 non-null float64\n",
      "Longtitude       26881 non-null float64\n",
      "Regionname       34854 non-null object\n",
      "Propertycount    34854 non-null float64\n",
      "dtypes: float64(12), int64(1), object(8)\n",
      "memory usage: 5.6+ MB\n"
     ]
    },
    {
     "data": {
      "text/html": [
       "<div>\n",
       "<style scoped>\n",
       "    .dataframe tbody tr th:only-of-type {\n",
       "        vertical-align: middle;\n",
       "    }\n",
       "\n",
       "    .dataframe tbody tr th {\n",
       "        vertical-align: top;\n",
       "    }\n",
       "\n",
       "    .dataframe thead th {\n",
       "        text-align: right;\n",
       "    }\n",
       "</style>\n",
       "<table border=\"1\" class=\"dataframe\">\n",
       "  <thead>\n",
       "    <tr style=\"text-align: right;\">\n",
       "      <th></th>\n",
       "      <th>Rooms</th>\n",
       "      <th>Price</th>\n",
       "      <th>Distance</th>\n",
       "      <th>Postcode</th>\n",
       "      <th>Bedroom2</th>\n",
       "      <th>Bathroom</th>\n",
       "      <th>Car</th>\n",
       "      <th>Landsize</th>\n",
       "      <th>BuildingArea</th>\n",
       "      <th>YearBuilt</th>\n",
       "      <th>Lattitude</th>\n",
       "      <th>Longtitude</th>\n",
       "      <th>Propertycount</th>\n",
       "    </tr>\n",
       "  </thead>\n",
       "  <tbody>\n",
       "    <tr>\n",
       "      <th>count</th>\n",
       "      <td>34857.000000</td>\n",
       "      <td>2.724700e+04</td>\n",
       "      <td>34856.000000</td>\n",
       "      <td>34856.000000</td>\n",
       "      <td>26640.000000</td>\n",
       "      <td>26631.000000</td>\n",
       "      <td>26129.000000</td>\n",
       "      <td>23047.000000</td>\n",
       "      <td>13742.00000</td>\n",
       "      <td>15551.000000</td>\n",
       "      <td>26881.000000</td>\n",
       "      <td>26881.000000</td>\n",
       "      <td>34854.000000</td>\n",
       "    </tr>\n",
       "    <tr>\n",
       "      <th>mean</th>\n",
       "      <td>3.031012</td>\n",
       "      <td>1.050173e+06</td>\n",
       "      <td>11.184929</td>\n",
       "      <td>3116.062859</td>\n",
       "      <td>3.084647</td>\n",
       "      <td>1.624798</td>\n",
       "      <td>1.728845</td>\n",
       "      <td>593.598993</td>\n",
       "      <td>160.25640</td>\n",
       "      <td>1965.289885</td>\n",
       "      <td>-37.810634</td>\n",
       "      <td>145.001851</td>\n",
       "      <td>7572.888306</td>\n",
       "    </tr>\n",
       "    <tr>\n",
       "      <th>std</th>\n",
       "      <td>0.969933</td>\n",
       "      <td>6.414671e+05</td>\n",
       "      <td>6.788892</td>\n",
       "      <td>109.023903</td>\n",
       "      <td>0.980690</td>\n",
       "      <td>0.724212</td>\n",
       "      <td>1.010771</td>\n",
       "      <td>3398.841946</td>\n",
       "      <td>401.26706</td>\n",
       "      <td>37.328178</td>\n",
       "      <td>0.090279</td>\n",
       "      <td>0.120169</td>\n",
       "      <td>4428.090313</td>\n",
       "    </tr>\n",
       "    <tr>\n",
       "      <th>min</th>\n",
       "      <td>1.000000</td>\n",
       "      <td>8.500000e+04</td>\n",
       "      <td>0.000000</td>\n",
       "      <td>3000.000000</td>\n",
       "      <td>0.000000</td>\n",
       "      <td>0.000000</td>\n",
       "      <td>0.000000</td>\n",
       "      <td>0.000000</td>\n",
       "      <td>0.00000</td>\n",
       "      <td>1196.000000</td>\n",
       "      <td>-38.190430</td>\n",
       "      <td>144.423790</td>\n",
       "      <td>83.000000</td>\n",
       "    </tr>\n",
       "    <tr>\n",
       "      <th>25%</th>\n",
       "      <td>2.000000</td>\n",
       "      <td>6.350000e+05</td>\n",
       "      <td>6.400000</td>\n",
       "      <td>3051.000000</td>\n",
       "      <td>2.000000</td>\n",
       "      <td>1.000000</td>\n",
       "      <td>1.000000</td>\n",
       "      <td>224.000000</td>\n",
       "      <td>102.00000</td>\n",
       "      <td>1940.000000</td>\n",
       "      <td>-37.862950</td>\n",
       "      <td>144.933500</td>\n",
       "      <td>4385.000000</td>\n",
       "    </tr>\n",
       "    <tr>\n",
       "      <th>50%</th>\n",
       "      <td>3.000000</td>\n",
       "      <td>8.700000e+05</td>\n",
       "      <td>10.300000</td>\n",
       "      <td>3103.000000</td>\n",
       "      <td>3.000000</td>\n",
       "      <td>2.000000</td>\n",
       "      <td>2.000000</td>\n",
       "      <td>521.000000</td>\n",
       "      <td>136.00000</td>\n",
       "      <td>1970.000000</td>\n",
       "      <td>-37.807600</td>\n",
       "      <td>145.007800</td>\n",
       "      <td>6763.000000</td>\n",
       "    </tr>\n",
       "    <tr>\n",
       "      <th>75%</th>\n",
       "      <td>4.000000</td>\n",
       "      <td>1.295000e+06</td>\n",
       "      <td>14.000000</td>\n",
       "      <td>3156.000000</td>\n",
       "      <td>4.000000</td>\n",
       "      <td>2.000000</td>\n",
       "      <td>2.000000</td>\n",
       "      <td>670.000000</td>\n",
       "      <td>188.00000</td>\n",
       "      <td>2000.000000</td>\n",
       "      <td>-37.754100</td>\n",
       "      <td>145.071900</td>\n",
       "      <td>10412.000000</td>\n",
       "    </tr>\n",
       "    <tr>\n",
       "      <th>max</th>\n",
       "      <td>16.000000</td>\n",
       "      <td>1.120000e+07</td>\n",
       "      <td>48.100000</td>\n",
       "      <td>3978.000000</td>\n",
       "      <td>30.000000</td>\n",
       "      <td>12.000000</td>\n",
       "      <td>26.000000</td>\n",
       "      <td>433014.000000</td>\n",
       "      <td>44515.00000</td>\n",
       "      <td>2106.000000</td>\n",
       "      <td>-37.390200</td>\n",
       "      <td>145.526350</td>\n",
       "      <td>21650.000000</td>\n",
       "    </tr>\n",
       "  </tbody>\n",
       "</table>\n",
       "</div>"
      ],
      "text/plain": [
       "              Rooms         Price      Distance      Postcode      Bedroom2  \\\n",
       "count  34857.000000  2.724700e+04  34856.000000  34856.000000  26640.000000   \n",
       "mean       3.031012  1.050173e+06     11.184929   3116.062859      3.084647   \n",
       "std        0.969933  6.414671e+05      6.788892    109.023903      0.980690   \n",
       "min        1.000000  8.500000e+04      0.000000   3000.000000      0.000000   \n",
       "25%        2.000000  6.350000e+05      6.400000   3051.000000      2.000000   \n",
       "50%        3.000000  8.700000e+05     10.300000   3103.000000      3.000000   \n",
       "75%        4.000000  1.295000e+06     14.000000   3156.000000      4.000000   \n",
       "max       16.000000  1.120000e+07     48.100000   3978.000000     30.000000   \n",
       "\n",
       "           Bathroom           Car       Landsize  BuildingArea     YearBuilt  \\\n",
       "count  26631.000000  26129.000000   23047.000000   13742.00000  15551.000000   \n",
       "mean       1.624798      1.728845     593.598993     160.25640   1965.289885   \n",
       "std        0.724212      1.010771    3398.841946     401.26706     37.328178   \n",
       "min        0.000000      0.000000       0.000000       0.00000   1196.000000   \n",
       "25%        1.000000      1.000000     224.000000     102.00000   1940.000000   \n",
       "50%        2.000000      2.000000     521.000000     136.00000   1970.000000   \n",
       "75%        2.000000      2.000000     670.000000     188.00000   2000.000000   \n",
       "max       12.000000     26.000000  433014.000000   44515.00000   2106.000000   \n",
       "\n",
       "          Lattitude    Longtitude  Propertycount  \n",
       "count  26881.000000  26881.000000   34854.000000  \n",
       "mean     -37.810634    145.001851    7572.888306  \n",
       "std        0.090279      0.120169    4428.090313  \n",
       "min      -38.190430    144.423790      83.000000  \n",
       "25%      -37.862950    144.933500    4385.000000  \n",
       "50%      -37.807600    145.007800    6763.000000  \n",
       "75%      -37.754100    145.071900   10412.000000  \n",
       "max      -37.390200    145.526350   21650.000000  "
      ]
     },
     "execution_count": 2,
     "metadata": {},
     "output_type": "execute_result"
    }
   ],
   "source": [
    "df = pd.read_csv('Melbourne_housing_FULL.csv')\n",
    "df.info()\n",
    "df.describe()"
   ]
  },
  {
   "cell_type": "markdown",
   "metadata": {},
   "source": [
    "### Count and print Nulls"
   ]
  },
  {
   "cell_type": "code",
   "execution_count": 3,
   "metadata": {},
   "outputs": [
    {
     "name": "stdout",
     "output_type": "stream",
     "text": [
      "Price             7610\n",
      "Distance             1\n",
      "Postcode             1\n",
      "Bedroom2          8217\n",
      "Bathroom          8226\n",
      "Car               8728\n",
      "Landsize         11810\n",
      "BuildingArea     21115\n",
      "YearBuilt        19306\n",
      "CouncilArea          3\n",
      "Lattitude         7976\n",
      "Longtitude        7976\n",
      "Regionname           3\n",
      "Propertycount        3\n",
      "dtype: int64\n"
     ]
    }
   ],
   "source": [
    "count = df.isnull().count()\n",
    "nonnull = df.count()\n",
    "nulls = df.isnull().sum()\n",
    "print(nulls[nulls>0])"
   ]
  },
  {
   "cell_type": "code",
   "execution_count": 4,
   "metadata": {},
   "outputs": [
    {
     "data": {
      "text/plain": [
       "Index(['Suburb', 'Address', 'Rooms', 'Type', 'Price', 'Method', 'SellerG',\n",
       "       'Date', 'Distance', 'Postcode', 'Bedroom2', 'Bathroom', 'Car',\n",
       "       'Landsize', 'BuildingArea', 'YearBuilt', 'CouncilArea', 'Lattitude',\n",
       "       'Longtitude', 'Regionname', 'Propertycount'],\n",
       "      dtype='object')"
      ]
     },
     "execution_count": 4,
     "metadata": {},
     "output_type": "execute_result"
    }
   ],
   "source": [
    "df.columns"
   ]
  },
  {
   "cell_type": "markdown",
   "metadata": {},
   "source": [
    "### Convert object to category"
   ]
  },
  {
   "cell_type": "code",
   "execution_count": 5,
   "metadata": {},
   "outputs": [],
   "source": [
    "cat_col = []\n",
    "for i in range(len(df.select_dtypes(include =  ['O']).columns)):\n",
    "    cat_col.append(df.select_dtypes(include =  ['O']).columns[i])\n",
    "for i in cat_col:\n",
    "    df[i] = df[i].astype('category')"
   ]
  },
  {
   "cell_type": "markdown",
   "metadata": {},
   "source": [
    "### Create purchase category based on date of purchase"
   ]
  },
  {
   "cell_type": "code",
   "execution_count": 6,
   "metadata": {},
   "outputs": [],
   "source": [
    "df['Date'] = pd.to_datetime(df['Date'])\n",
    "\n",
    "df['DateYearPurchase'] = df['Date'].dt.dayofyear\n",
    "df['Year'] = df['Date'].dt.year\n",
    "\n",
    "spring = range(80,172)\n",
    "summer = range(172,264)\n",
    "fall = range(264,355)\n",
    "\n",
    "season_list = []\n",
    "\n",
    "for i in df['DateYearPurchase']:\n",
    "    if i in spring:\n",
    "        season = 'Spring'\n",
    "    elif i in summer:\n",
    "        season = 'Summer'\n",
    "    elif i in fall:\n",
    "        season = 'Fall'\n",
    "    else:\n",
    "        season = 'Winter'\n",
    "    season_list.append(season)\n",
    "    \n",
    "df['Season'] = pd.Series(season_list)\n",
    "\n",
    "df['Season'] = df['Season'].astype('category')\n",
    "df['Year'] = df['Year'].astype('category')\n",
    "\n",
    "df = df.drop(['DateYearPurchase','Date'],axis=1)"
   ]
  },
  {
   "cell_type": "markdown",
   "metadata": {},
   "source": [
    "### Convert Postcode to category datatype"
   ]
  },
  {
   "cell_type": "code",
   "execution_count": 7,
   "metadata": {},
   "outputs": [],
   "source": [
    "df['Postcode'] = df['Postcode'].astype('category')"
   ]
  },
  {
   "cell_type": "markdown",
   "metadata": {},
   "source": [
    "### Comparing column Rooms vs Bedroom2"
   ]
  },
  {
   "cell_type": "code",
   "execution_count": 8,
   "metadata": {},
   "outputs": [
    {
     "data": {
      "text/plain": [
       "0\n",
       "False    25692\n",
       "True      9165\n",
       "dtype: int64"
      ]
     },
     "execution_count": 8,
     "metadata": {},
     "output_type": "execute_result"
    }
   ],
   "source": [
    "pd.DataFrame(df['Rooms'] - df['Bedroom2'] != 0).groupby(0).size()"
   ]
  },
  {
   "cell_type": "markdown",
   "metadata": {},
   "source": [
    "### Dropping Bedroom2 as it is similar to Rooms and is scraped from a diferrent source"
   ]
  },
  {
   "cell_type": "code",
   "execution_count": 9,
   "metadata": {},
   "outputs": [],
   "source": [
    "df = df.drop(['Bedroom2'],axis=1)"
   ]
  },
  {
   "cell_type": "markdown",
   "metadata": {},
   "source": [
    "### Dropping rows with null values from selected columns"
   ]
  },
  {
   "cell_type": "code",
   "execution_count": 10,
   "metadata": {},
   "outputs": [],
   "source": [
    "df = df.drop(df[df['Distance'].isnull()\\\n",
    "   |df['Postcode'].isnull()\\\n",
    "   |df['CouncilArea'].isnull()\\\n",
    "   |df['Regionname'].isnull()\\\n",
    "   |df['Propertycount'].isnull()].index)"
   ]
  },
  {
   "cell_type": "markdown",
   "metadata": {},
   "source": [
    "### Create house type based on Age"
   ]
  },
  {
   "cell_type": "code",
   "execution_count": 11,
   "metadata": {},
   "outputs": [],
   "source": [
    "df['Age'] = 2019 - df['YearBuilt']\n",
    "\n",
    "df['AgeType'] = np.where(df['Age'] >= 40, 'Old', 'Modern')\n",
    "\n",
    "df['AgeType'] = df['AgeType'].astype('category')"
   ]
  },
  {
   "cell_type": "code",
   "execution_count": 12,
   "metadata": {},
   "outputs": [
    {
     "data": {
      "text/plain": [
       "Modern    25591\n",
       "Old        9263\n",
       "Name: AgeType, dtype: int64"
      ]
     },
     "execution_count": 12,
     "metadata": {},
     "output_type": "execute_result"
    }
   ],
   "source": [
    "df.AgeType.value_counts()"
   ]
  },
  {
   "cell_type": "markdown",
   "metadata": {},
   "source": [
    "### Checking null percentage"
   ]
  },
  {
   "cell_type": "code",
   "execution_count": 13,
   "metadata": {},
   "outputs": [
    {
     "data": {
      "text/plain": [
       "Suburb            0.000000\n",
       "Address           0.000000\n",
       "Rooms             0.000000\n",
       "Type              0.000000\n",
       "Price            21.833936\n",
       "Method            0.000000\n",
       "SellerG           0.000000\n",
       "Distance          0.000000\n",
       "Postcode          0.000000\n",
       "Bathroom         23.592701\n",
       "Car              25.032995\n",
       "Landsize         33.875595\n",
       "BuildingArea     60.572675\n",
       "YearBuilt        55.382453\n",
       "CouncilArea       0.000000\n",
       "Lattitude        22.875423\n",
       "Longtitude       22.875423\n",
       "Regionname        0.000000\n",
       "Propertycount     0.000000\n",
       "Year              0.000000\n",
       "Season            0.000000\n",
       "Age              55.382453\n",
       "AgeType           0.000000\n",
       "dtype: float64"
      ]
     },
     "execution_count": 13,
     "metadata": {},
     "output_type": "execute_result"
    }
   ],
   "source": [
    "df.isnull().sum()/len(df)*100"
   ]
  },
  {
   "cell_type": "code",
   "execution_count": 14,
   "metadata": {},
   "outputs": [],
   "source": [
    "#Dataframe for reference\n",
    "df_year = df['YearBuilt']"
   ]
  },
  {
   "cell_type": "markdown",
   "metadata": {},
   "source": [
    "### Create house types based on size"
   ]
  },
  {
   "cell_type": "code",
   "execution_count": 15,
   "metadata": {},
   "outputs": [
    {
     "data": {
      "text/html": [
       "<div>\n",
       "<style scoped>\n",
       "    .dataframe tbody tr th:only-of-type {\n",
       "        vertical-align: middle;\n",
       "    }\n",
       "\n",
       "    .dataframe tbody tr th {\n",
       "        vertical-align: top;\n",
       "    }\n",
       "\n",
       "    .dataframe thead th {\n",
       "        text-align: right;\n",
       "    }\n",
       "</style>\n",
       "<table border=\"1\" class=\"dataframe\">\n",
       "  <thead>\n",
       "    <tr style=\"text-align: right;\">\n",
       "      <th></th>\n",
       "      <th>Rooms</th>\n",
       "      <th>BuildingArea</th>\n",
       "    </tr>\n",
       "  </thead>\n",
       "  <tbody>\n",
       "    <tr>\n",
       "      <th>count</th>\n",
       "      <td>34854.000000</td>\n",
       "      <td>13742.00000</td>\n",
       "    </tr>\n",
       "    <tr>\n",
       "      <th>mean</th>\n",
       "      <td>3.031072</td>\n",
       "      <td>160.25640</td>\n",
       "    </tr>\n",
       "    <tr>\n",
       "      <th>std</th>\n",
       "      <td>0.969943</td>\n",
       "      <td>401.26706</td>\n",
       "    </tr>\n",
       "    <tr>\n",
       "      <th>min</th>\n",
       "      <td>1.000000</td>\n",
       "      <td>0.00000</td>\n",
       "    </tr>\n",
       "    <tr>\n",
       "      <th>25%</th>\n",
       "      <td>2.000000</td>\n",
       "      <td>102.00000</td>\n",
       "    </tr>\n",
       "    <tr>\n",
       "      <th>50%</th>\n",
       "      <td>3.000000</td>\n",
       "      <td>136.00000</td>\n",
       "    </tr>\n",
       "    <tr>\n",
       "      <th>75%</th>\n",
       "      <td>4.000000</td>\n",
       "      <td>188.00000</td>\n",
       "    </tr>\n",
       "    <tr>\n",
       "      <th>max</th>\n",
       "      <td>16.000000</td>\n",
       "      <td>44515.00000</td>\n",
       "    </tr>\n",
       "  </tbody>\n",
       "</table>\n",
       "</div>"
      ],
      "text/plain": [
       "              Rooms  BuildingArea\n",
       "count  34854.000000   13742.00000\n",
       "mean       3.031072     160.25640\n",
       "std        0.969943     401.26706\n",
       "min        1.000000       0.00000\n",
       "25%        2.000000     102.00000\n",
       "50%        3.000000     136.00000\n",
       "75%        4.000000     188.00000\n",
       "max       16.000000   44515.00000"
      ]
     },
     "execution_count": 15,
     "metadata": {},
     "output_type": "execute_result"
    }
   ],
   "source": [
    "df[['Rooms','BuildingArea']].describe()"
   ]
  },
  {
   "cell_type": "code",
   "execution_count": 16,
   "metadata": {},
   "outputs": [],
   "source": [
    "df['SizeType'] = np.where(df['BuildingArea'] >= 100, 'Old', 'Modern')\n",
    "\n",
    "conditions = [ df['BuildingArea'] >= 200, (df['BuildingArea'] < 200) & (df['BuildingArea']> 100), df['BuildingArea'] <= 100 ]\n",
    "types = [ 'Big', 'Medium', 'Small']\n",
    "\n",
    "df['SizeType'] = np.select(conditions, types, default=np.nan)\n",
    "\n",
    "df['SizeType'] = df['SizeType'].astype('category')"
   ]
  },
  {
   "cell_type": "markdown",
   "metadata": {},
   "source": [
    "### Create a housestructure dataframe for future"
   ]
  },
  {
   "cell_type": "code",
   "execution_count": 17,
   "metadata": {},
   "outputs": [],
   "source": [
    "df_housestructure = df[['Rooms','BuildingArea','SizeType']]"
   ]
  },
  {
   "cell_type": "markdown",
   "metadata": {},
   "source": [
    "### Dropping redundant and converted columns"
   ]
  },
  {
   "cell_type": "code",
   "execution_count": 18,
   "metadata": {},
   "outputs": [],
   "source": [
    "df = df.drop(['BuildingArea','SizeType','YearBuilt','Age'],axis=1)"
   ]
  },
  {
   "cell_type": "markdown",
   "metadata": {},
   "source": [
    "### Create a test data with the original null for prices"
   ]
  },
  {
   "cell_type": "code",
   "execution_count": 19,
   "metadata": {},
   "outputs": [],
   "source": [
    "df_pure_test = df[df['Price'].isna()]"
   ]
  },
  {
   "cell_type": "markdown",
   "metadata": {},
   "source": [
    "### Remove all nulls"
   ]
  },
  {
   "cell_type": "code",
   "execution_count": 20,
   "metadata": {},
   "outputs": [],
   "source": [
    "df_clean = df.dropna()"
   ]
  },
  {
   "cell_type": "markdown",
   "metadata": {},
   "source": [
    "### Overview of the data"
   ]
  },
  {
   "cell_type": "code",
   "execution_count": 21,
   "metadata": {
    "scrolled": true
   },
   "outputs": [
    {
     "data": {
      "text/html": [
       "<div>\n",
       "<style scoped>\n",
       "    .dataframe tbody tr th:only-of-type {\n",
       "        vertical-align: middle;\n",
       "    }\n",
       "\n",
       "    .dataframe tbody tr th {\n",
       "        vertical-align: top;\n",
       "    }\n",
       "\n",
       "    .dataframe thead th {\n",
       "        text-align: right;\n",
       "    }\n",
       "</style>\n",
       "<table border=\"1\" class=\"dataframe\">\n",
       "  <thead>\n",
       "    <tr style=\"text-align: right;\">\n",
       "      <th></th>\n",
       "      <th>count</th>\n",
       "      <th>mean</th>\n",
       "      <th>std</th>\n",
       "      <th>min</th>\n",
       "      <th>25%</th>\n",
       "      <th>50%</th>\n",
       "      <th>75%</th>\n",
       "      <th>max</th>\n",
       "    </tr>\n",
       "  </thead>\n",
       "  <tbody>\n",
       "    <tr>\n",
       "      <th>Rooms</th>\n",
       "      <td>17679.0</td>\n",
       "      <td>3.053849e+00</td>\n",
       "      <td>0.944396</td>\n",
       "      <td>1.00000</td>\n",
       "      <td>2.00000</td>\n",
       "      <td>3.0000</td>\n",
       "      <td>4.000000e+00</td>\n",
       "      <td>1.200000e+01</td>\n",
       "    </tr>\n",
       "    <tr>\n",
       "      <th>Price</th>\n",
       "      <td>17679.0</td>\n",
       "      <td>1.094974e+06</td>\n",
       "      <td>655981.504660</td>\n",
       "      <td>85000.00000</td>\n",
       "      <td>660000.00000</td>\n",
       "      <td>912500.0000</td>\n",
       "      <td>1.345000e+06</td>\n",
       "      <td>1.120000e+07</td>\n",
       "    </tr>\n",
       "    <tr>\n",
       "      <th>Distance</th>\n",
       "      <td>17679.0</td>\n",
       "      <td>1.115311e+01</td>\n",
       "      <td>6.643855</td>\n",
       "      <td>0.00000</td>\n",
       "      <td>6.50000</td>\n",
       "      <td>10.4000</td>\n",
       "      <td>1.390000e+01</td>\n",
       "      <td>4.810000e+01</td>\n",
       "    </tr>\n",
       "    <tr>\n",
       "      <th>Bathroom</th>\n",
       "      <td>17679.0</td>\n",
       "      <td>1.584422e+00</td>\n",
       "      <td>0.704733</td>\n",
       "      <td>0.00000</td>\n",
       "      <td>1.00000</td>\n",
       "      <td>1.0000</td>\n",
       "      <td>2.000000e+00</td>\n",
       "      <td>9.000000e+00</td>\n",
       "    </tr>\n",
       "    <tr>\n",
       "      <th>Car</th>\n",
       "      <td>17679.0</td>\n",
       "      <td>1.698739e+00</td>\n",
       "      <td>0.999023</td>\n",
       "      <td>0.00000</td>\n",
       "      <td>1.00000</td>\n",
       "      <td>2.0000</td>\n",
       "      <td>2.000000e+00</td>\n",
       "      <td>1.800000e+01</td>\n",
       "    </tr>\n",
       "    <tr>\n",
       "      <th>Landsize</th>\n",
       "      <td>17679.0</td>\n",
       "      <td>5.948663e+02</td>\n",
       "      <td>3786.375295</td>\n",
       "      <td>0.00000</td>\n",
       "      <td>222.50000</td>\n",
       "      <td>517.0000</td>\n",
       "      <td>6.640000e+02</td>\n",
       "      <td>4.330140e+05</td>\n",
       "    </tr>\n",
       "    <tr>\n",
       "      <th>Lattitude</th>\n",
       "      <td>17679.0</td>\n",
       "      <td>-3.780651e+01</td>\n",
       "      <td>0.089326</td>\n",
       "      <td>-38.19043</td>\n",
       "      <td>-37.85926</td>\n",
       "      <td>-37.7998</td>\n",
       "      <td>-3.774960e+01</td>\n",
       "      <td>-3.739946e+01</td>\n",
       "    </tr>\n",
       "    <tr>\n",
       "      <th>Longtitude</th>\n",
       "      <td>17679.0</td>\n",
       "      <td>1.449963e+02</td>\n",
       "      <td>0.116925</td>\n",
       "      <td>144.42379</td>\n",
       "      <td>144.92529</td>\n",
       "      <td>145.0027</td>\n",
       "      <td>1.450673e+02</td>\n",
       "      <td>1.455264e+02</td>\n",
       "    </tr>\n",
       "    <tr>\n",
       "      <th>Propertycount</th>\n",
       "      <td>17679.0</td>\n",
       "      <td>7.480045e+03</td>\n",
       "      <td>4398.062457</td>\n",
       "      <td>83.00000</td>\n",
       "      <td>4380.00000</td>\n",
       "      <td>6567.0000</td>\n",
       "      <td>1.033100e+04</td>\n",
       "      <td>2.165000e+04</td>\n",
       "    </tr>\n",
       "  </tbody>\n",
       "</table>\n",
       "</div>"
      ],
      "text/plain": [
       "                 count          mean            std          min  \\\n",
       "Rooms          17679.0  3.053849e+00       0.944396      1.00000   \n",
       "Price          17679.0  1.094974e+06  655981.504660  85000.00000   \n",
       "Distance       17679.0  1.115311e+01       6.643855      0.00000   \n",
       "Bathroom       17679.0  1.584422e+00       0.704733      0.00000   \n",
       "Car            17679.0  1.698739e+00       0.999023      0.00000   \n",
       "Landsize       17679.0  5.948663e+02    3786.375295      0.00000   \n",
       "Lattitude      17679.0 -3.780651e+01       0.089326    -38.19043   \n",
       "Longtitude     17679.0  1.449963e+02       0.116925    144.42379   \n",
       "Propertycount  17679.0  7.480045e+03    4398.062457     83.00000   \n",
       "\n",
       "                        25%          50%           75%           max  \n",
       "Rooms               2.00000       3.0000  4.000000e+00  1.200000e+01  \n",
       "Price          660000.00000  912500.0000  1.345000e+06  1.120000e+07  \n",
       "Distance            6.50000      10.4000  1.390000e+01  4.810000e+01  \n",
       "Bathroom            1.00000       1.0000  2.000000e+00  9.000000e+00  \n",
       "Car                 1.00000       2.0000  2.000000e+00  1.800000e+01  \n",
       "Landsize          222.50000     517.0000  6.640000e+02  4.330140e+05  \n",
       "Lattitude         -37.85926     -37.7998 -3.774960e+01 -3.739946e+01  \n",
       "Longtitude        144.92529     145.0027  1.450673e+02  1.455264e+02  \n",
       "Propertycount    4380.00000    6567.0000  1.033100e+04  2.165000e+04  "
      ]
     },
     "execution_count": 21,
     "metadata": {},
     "output_type": "execute_result"
    }
   ],
   "source": [
    "df_clean.describe().transpose()"
   ]
  },
  {
   "cell_type": "markdown",
   "metadata": {},
   "source": [
    "### Viewing suspected outlier"
   ]
  },
  {
   "cell_type": "code",
   "execution_count": 22,
   "metadata": {},
   "outputs": [
    {
     "data": {
      "text/html": [
       "<div>\n",
       "<style scoped>\n",
       "    .dataframe tbody tr th:only-of-type {\n",
       "        vertical-align: middle;\n",
       "    }\n",
       "\n",
       "    .dataframe tbody tr th {\n",
       "        vertical-align: top;\n",
       "    }\n",
       "\n",
       "    .dataframe thead th {\n",
       "        text-align: right;\n",
       "    }\n",
       "</style>\n",
       "<table border=\"1\" class=\"dataframe\">\n",
       "  <thead>\n",
       "    <tr style=\"text-align: right;\">\n",
       "      <th></th>\n",
       "      <th>Suburb</th>\n",
       "      <th>Address</th>\n",
       "      <th>Rooms</th>\n",
       "      <th>Type</th>\n",
       "      <th>Price</th>\n",
       "      <th>Method</th>\n",
       "      <th>SellerG</th>\n",
       "      <th>Distance</th>\n",
       "      <th>Postcode</th>\n",
       "      <th>Bathroom</th>\n",
       "      <th>Car</th>\n",
       "      <th>Landsize</th>\n",
       "      <th>CouncilArea</th>\n",
       "      <th>Lattitude</th>\n",
       "      <th>Longtitude</th>\n",
       "      <th>Regionname</th>\n",
       "      <th>Propertycount</th>\n",
       "      <th>Year</th>\n",
       "      <th>Season</th>\n",
       "      <th>AgeType</th>\n",
       "    </tr>\n",
       "  </thead>\n",
       "  <tbody>\n",
       "    <tr>\n",
       "      <th>27150</th>\n",
       "      <td>Melton</td>\n",
       "      <td>213 Station Rd</td>\n",
       "      <td>12</td>\n",
       "      <td>h</td>\n",
       "      <td>710000.0</td>\n",
       "      <td>S</td>\n",
       "      <td>PRDNationwide</td>\n",
       "      <td>31.7</td>\n",
       "      <td>3337.0</td>\n",
       "      <td>5.0</td>\n",
       "      <td>3.0</td>\n",
       "      <td>960.0</td>\n",
       "      <td>Melton City Council</td>\n",
       "      <td>-37.6883</td>\n",
       "      <td>144.5776</td>\n",
       "      <td>Western Victoria</td>\n",
       "      <td>3600.0</td>\n",
       "      <td>2017</td>\n",
       "      <td>Fall</td>\n",
       "      <td>Old</td>\n",
       "    </tr>\n",
       "  </tbody>\n",
       "</table>\n",
       "</div>"
      ],
      "text/plain": [
       "       Suburb         Address  Rooms Type     Price Method        SellerG  \\\n",
       "27150  Melton  213 Station Rd     12    h  710000.0      S  PRDNationwide   \n",
       "\n",
       "       Distance Postcode  Bathroom  Car  Landsize          CouncilArea  \\\n",
       "27150      31.7   3337.0       5.0  3.0     960.0  Melton City Council   \n",
       "\n",
       "       Lattitude  Longtitude        Regionname  Propertycount  Year Season  \\\n",
       "27150   -37.6883    144.5776  Western Victoria         3600.0  2017   Fall   \n",
       "\n",
       "      AgeType  \n",
       "27150     Old  "
      ]
     },
     "execution_count": 22,
     "metadata": {},
     "output_type": "execute_result"
    }
   ],
   "source": [
    "df_clean[df_clean['Rooms'] == 12]"
   ]
  },
  {
   "cell_type": "code",
   "execution_count": 23,
   "metadata": {},
   "outputs": [
    {
     "data": {
      "text/html": [
       "<div>\n",
       "<style scoped>\n",
       "    .dataframe tbody tr th:only-of-type {\n",
       "        vertical-align: middle;\n",
       "    }\n",
       "\n",
       "    .dataframe tbody tr th {\n",
       "        vertical-align: top;\n",
       "    }\n",
       "\n",
       "    .dataframe thead th {\n",
       "        text-align: right;\n",
       "    }\n",
       "</style>\n",
       "<table border=\"1\" class=\"dataframe\">\n",
       "  <thead>\n",
       "    <tr style=\"text-align: right;\">\n",
       "      <th></th>\n",
       "      <th>Suburb</th>\n",
       "      <th>Address</th>\n",
       "      <th>Rooms</th>\n",
       "      <th>Type</th>\n",
       "      <th>Price</th>\n",
       "      <th>Method</th>\n",
       "      <th>SellerG</th>\n",
       "      <th>Distance</th>\n",
       "      <th>Postcode</th>\n",
       "      <th>Bathroom</th>\n",
       "      <th>Car</th>\n",
       "      <th>Landsize</th>\n",
       "      <th>CouncilArea</th>\n",
       "      <th>Lattitude</th>\n",
       "      <th>Longtitude</th>\n",
       "      <th>Regionname</th>\n",
       "      <th>Propertycount</th>\n",
       "      <th>Year</th>\n",
       "      <th>Season</th>\n",
       "      <th>AgeType</th>\n",
       "    </tr>\n",
       "  </thead>\n",
       "  <tbody>\n",
       "    <tr>\n",
       "      <th>25717</th>\n",
       "      <td>Burwood</td>\n",
       "      <td>79 Elgar Rd</td>\n",
       "      <td>10</td>\n",
       "      <td>h</td>\n",
       "      <td>2315000.0</td>\n",
       "      <td>SP</td>\n",
       "      <td>Buxton</td>\n",
       "      <td>10.4</td>\n",
       "      <td>3125.0</td>\n",
       "      <td>9.0</td>\n",
       "      <td>2.0</td>\n",
       "      <td>612.0</td>\n",
       "      <td>Monash City Council</td>\n",
       "      <td>-37.84461</td>\n",
       "      <td>145.10968</td>\n",
       "      <td>Southern Metropolitan</td>\n",
       "      <td>5678.0</td>\n",
       "      <td>2017</td>\n",
       "      <td>Fall</td>\n",
       "      <td>Modern</td>\n",
       "    </tr>\n",
       "  </tbody>\n",
       "</table>\n",
       "</div>"
      ],
      "text/plain": [
       "        Suburb      Address  Rooms Type      Price Method SellerG  Distance  \\\n",
       "25717  Burwood  79 Elgar Rd     10    h  2315000.0     SP  Buxton      10.4   \n",
       "\n",
       "      Postcode  Bathroom  Car  Landsize          CouncilArea  Lattitude  \\\n",
       "25717   3125.0       9.0  2.0     612.0  Monash City Council  -37.84461   \n",
       "\n",
       "       Longtitude             Regionname  Propertycount  Year Season AgeType  \n",
       "25717   145.10968  Southern Metropolitan         5678.0  2017   Fall  Modern  "
      ]
     },
     "execution_count": 23,
     "metadata": {},
     "output_type": "execute_result"
    }
   ],
   "source": [
    "df_clean[df_clean['Bathroom'] == 9]"
   ]
  },
  {
   "cell_type": "code",
   "execution_count": 24,
   "metadata": {
    "scrolled": false
   },
   "outputs": [
    {
     "data": {
      "text/html": [
       "<div>\n",
       "<style scoped>\n",
       "    .dataframe tbody tr th:only-of-type {\n",
       "        vertical-align: middle;\n",
       "    }\n",
       "\n",
       "    .dataframe tbody tr th {\n",
       "        vertical-align: top;\n",
       "    }\n",
       "\n",
       "    .dataframe thead th {\n",
       "        text-align: right;\n",
       "    }\n",
       "</style>\n",
       "<table border=\"1\" class=\"dataframe\">\n",
       "  <thead>\n",
       "    <tr style=\"text-align: right;\">\n",
       "      <th></th>\n",
       "      <th>Suburb</th>\n",
       "      <th>Address</th>\n",
       "      <th>Rooms</th>\n",
       "      <th>Type</th>\n",
       "      <th>Price</th>\n",
       "      <th>Method</th>\n",
       "      <th>SellerG</th>\n",
       "      <th>Distance</th>\n",
       "      <th>Postcode</th>\n",
       "      <th>Bathroom</th>\n",
       "      <th>Car</th>\n",
       "      <th>Landsize</th>\n",
       "      <th>CouncilArea</th>\n",
       "      <th>Lattitude</th>\n",
       "      <th>Longtitude</th>\n",
       "      <th>Regionname</th>\n",
       "      <th>Propertycount</th>\n",
       "      <th>Year</th>\n",
       "      <th>Season</th>\n",
       "      <th>AgeType</th>\n",
       "    </tr>\n",
       "  </thead>\n",
       "  <tbody>\n",
       "    <tr>\n",
       "      <th>25839</th>\n",
       "      <td>Croydon</td>\n",
       "      <td>26 Railway Cr</td>\n",
       "      <td>2</td>\n",
       "      <td>h</td>\n",
       "      <td>1105000.0</td>\n",
       "      <td>SP</td>\n",
       "      <td>iTRAK</td>\n",
       "      <td>23.0</td>\n",
       "      <td>3136.0</td>\n",
       "      <td>1.0</td>\n",
       "      <td>18.0</td>\n",
       "      <td>1250.0</td>\n",
       "      <td>Maroondah City Council</td>\n",
       "      <td>-37.79097</td>\n",
       "      <td>145.28695</td>\n",
       "      <td>Eastern Metropolitan</td>\n",
       "      <td>11925.0</td>\n",
       "      <td>2017</td>\n",
       "      <td>Fall</td>\n",
       "      <td>Modern</td>\n",
       "    </tr>\n",
       "  </tbody>\n",
       "</table>\n",
       "</div>"
      ],
      "text/plain": [
       "        Suburb        Address  Rooms Type      Price Method SellerG  Distance  \\\n",
       "25839  Croydon  26 Railway Cr      2    h  1105000.0     SP   iTRAK      23.0   \n",
       "\n",
       "      Postcode  Bathroom   Car  Landsize             CouncilArea  Lattitude  \\\n",
       "25839   3136.0       1.0  18.0    1250.0  Maroondah City Council  -37.79097   \n",
       "\n",
       "       Longtitude            Regionname  Propertycount  Year Season AgeType  \n",
       "25839   145.28695  Eastern Metropolitan        11925.0  2017   Fall  Modern  "
      ]
     },
     "execution_count": 24,
     "metadata": {},
     "output_type": "execute_result"
    }
   ],
   "source": [
    "df_clean[df_clean['Car'] == 18]"
   ]
  },
  {
   "cell_type": "code",
   "execution_count": 25,
   "metadata": {},
   "outputs": [
    {
     "data": {
      "text/html": [
       "<div>\n",
       "<style scoped>\n",
       "    .dataframe tbody tr th:only-of-type {\n",
       "        vertical-align: middle;\n",
       "    }\n",
       "\n",
       "    .dataframe tbody tr th {\n",
       "        vertical-align: top;\n",
       "    }\n",
       "\n",
       "    .dataframe thead th {\n",
       "        text-align: right;\n",
       "    }\n",
       "</style>\n",
       "<table border=\"1\" class=\"dataframe\">\n",
       "  <thead>\n",
       "    <tr style=\"text-align: right;\">\n",
       "      <th></th>\n",
       "      <th>Suburb</th>\n",
       "      <th>Address</th>\n",
       "      <th>Rooms</th>\n",
       "      <th>Type</th>\n",
       "      <th>Price</th>\n",
       "      <th>Method</th>\n",
       "      <th>SellerG</th>\n",
       "      <th>Distance</th>\n",
       "      <th>Postcode</th>\n",
       "      <th>Bathroom</th>\n",
       "      <th>Car</th>\n",
       "      <th>Landsize</th>\n",
       "      <th>CouncilArea</th>\n",
       "      <th>Lattitude</th>\n",
       "      <th>Longtitude</th>\n",
       "      <th>Regionname</th>\n",
       "      <th>Propertycount</th>\n",
       "      <th>Year</th>\n",
       "      <th>Season</th>\n",
       "      <th>AgeType</th>\n",
       "    </tr>\n",
       "  </thead>\n",
       "  <tbody>\n",
       "    <tr>\n",
       "      <th>17</th>\n",
       "      <td>Abbotsford</td>\n",
       "      <td>6/241 Nicholson St</td>\n",
       "      <td>1</td>\n",
       "      <td>u</td>\n",
       "      <td>300000.0</td>\n",
       "      <td>S</td>\n",
       "      <td>Biggin</td>\n",
       "      <td>2.5</td>\n",
       "      <td>3067.0</td>\n",
       "      <td>1.0</td>\n",
       "      <td>1.0</td>\n",
       "      <td>0.0</td>\n",
       "      <td>Yarra City Council</td>\n",
       "      <td>-37.80080</td>\n",
       "      <td>144.99730</td>\n",
       "      <td>Northern Metropolitan</td>\n",
       "      <td>4019.0</td>\n",
       "      <td>2016</td>\n",
       "      <td>Summer</td>\n",
       "      <td>Modern</td>\n",
       "    </tr>\n",
       "    <tr>\n",
       "      <th>23</th>\n",
       "      <td>Abbotsford</td>\n",
       "      <td>411/8 Grosvenor St</td>\n",
       "      <td>2</td>\n",
       "      <td>u</td>\n",
       "      <td>700000.0</td>\n",
       "      <td>VB</td>\n",
       "      <td>Jellis</td>\n",
       "      <td>2.5</td>\n",
       "      <td>3067.0</td>\n",
       "      <td>2.0</td>\n",
       "      <td>1.0</td>\n",
       "      <td>0.0</td>\n",
       "      <td>Yarra City Council</td>\n",
       "      <td>-37.81100</td>\n",
       "      <td>145.00670</td>\n",
       "      <td>Northern Metropolitan</td>\n",
       "      <td>4019.0</td>\n",
       "      <td>2016</td>\n",
       "      <td>Fall</td>\n",
       "      <td>Modern</td>\n",
       "    </tr>\n",
       "    <tr>\n",
       "      <th>25</th>\n",
       "      <td>Abbotsford</td>\n",
       "      <td>123/56 Nicholson St</td>\n",
       "      <td>2</td>\n",
       "      <td>u</td>\n",
       "      <td>750000.0</td>\n",
       "      <td>S</td>\n",
       "      <td>Biggin</td>\n",
       "      <td>2.5</td>\n",
       "      <td>3067.0</td>\n",
       "      <td>2.0</td>\n",
       "      <td>1.0</td>\n",
       "      <td>0.0</td>\n",
       "      <td>Yarra City Council</td>\n",
       "      <td>-37.80780</td>\n",
       "      <td>144.99650</td>\n",
       "      <td>Northern Metropolitan</td>\n",
       "      <td>4019.0</td>\n",
       "      <td>2016</td>\n",
       "      <td>Fall</td>\n",
       "      <td>Modern</td>\n",
       "    </tr>\n",
       "    <tr>\n",
       "      <th>29</th>\n",
       "      <td>Abbotsford</td>\n",
       "      <td>7/20 Abbotsford St</td>\n",
       "      <td>1</td>\n",
       "      <td>u</td>\n",
       "      <td>441000.0</td>\n",
       "      <td>SP</td>\n",
       "      <td>Greg</td>\n",
       "      <td>2.5</td>\n",
       "      <td>3067.0</td>\n",
       "      <td>1.0</td>\n",
       "      <td>1.0</td>\n",
       "      <td>0.0</td>\n",
       "      <td>Yarra City Council</td>\n",
       "      <td>-37.80160</td>\n",
       "      <td>144.99880</td>\n",
       "      <td>Northern Metropolitan</td>\n",
       "      <td>4019.0</td>\n",
       "      <td>2016</td>\n",
       "      <td>Spring</td>\n",
       "      <td>Modern</td>\n",
       "    </tr>\n",
       "    <tr>\n",
       "      <th>40</th>\n",
       "      <td>Abbotsford</td>\n",
       "      <td>13/11 Nicholson St</td>\n",
       "      <td>3</td>\n",
       "      <td>t</td>\n",
       "      <td>900000.0</td>\n",
       "      <td>S</td>\n",
       "      <td>Beller</td>\n",
       "      <td>2.5</td>\n",
       "      <td>3067.0</td>\n",
       "      <td>2.0</td>\n",
       "      <td>2.0</td>\n",
       "      <td>0.0</td>\n",
       "      <td>Yarra City Council</td>\n",
       "      <td>-37.80930</td>\n",
       "      <td>144.99590</td>\n",
       "      <td>Northern Metropolitan</td>\n",
       "      <td>4019.0</td>\n",
       "      <td>2017</td>\n",
       "      <td>Winter</td>\n",
       "      <td>Modern</td>\n",
       "    </tr>\n",
       "    <tr>\n",
       "      <th>42</th>\n",
       "      <td>Abbotsford</td>\n",
       "      <td>6/219 Nicholson St</td>\n",
       "      <td>2</td>\n",
       "      <td>u</td>\n",
       "      <td>500000.0</td>\n",
       "      <td>S</td>\n",
       "      <td>Collins</td>\n",
       "      <td>2.5</td>\n",
       "      <td>3067.0</td>\n",
       "      <td>1.0</td>\n",
       "      <td>1.0</td>\n",
       "      <td>0.0</td>\n",
       "      <td>Yarra City Council</td>\n",
       "      <td>-37.80150</td>\n",
       "      <td>144.99720</td>\n",
       "      <td>Northern Metropolitan</td>\n",
       "      <td>4019.0</td>\n",
       "      <td>2016</td>\n",
       "      <td>Spring</td>\n",
       "      <td>Old</td>\n",
       "    </tr>\n",
       "    <tr>\n",
       "      <th>48</th>\n",
       "      <td>Abbotsford</td>\n",
       "      <td>5/20 Abbotsford St</td>\n",
       "      <td>1</td>\n",
       "      <td>u</td>\n",
       "      <td>426000.0</td>\n",
       "      <td>SP</td>\n",
       "      <td>Greg</td>\n",
       "      <td>2.5</td>\n",
       "      <td>3067.0</td>\n",
       "      <td>1.0</td>\n",
       "      <td>1.0</td>\n",
       "      <td>0.0</td>\n",
       "      <td>Yarra City Council</td>\n",
       "      <td>-37.80160</td>\n",
       "      <td>144.99880</td>\n",
       "      <td>Northern Metropolitan</td>\n",
       "      <td>4019.0</td>\n",
       "      <td>2016</td>\n",
       "      <td>Summer</td>\n",
       "      <td>Modern</td>\n",
       "    </tr>\n",
       "    <tr>\n",
       "      <th>50</th>\n",
       "      <td>Abbotsford</td>\n",
       "      <td>116/56 Nicholson St</td>\n",
       "      <td>1</td>\n",
       "      <td>u</td>\n",
       "      <td>457000.0</td>\n",
       "      <td>S</td>\n",
       "      <td>Jellis</td>\n",
       "      <td>2.5</td>\n",
       "      <td>3067.0</td>\n",
       "      <td>1.0</td>\n",
       "      <td>1.0</td>\n",
       "      <td>0.0</td>\n",
       "      <td>Yarra City Council</td>\n",
       "      <td>-37.80780</td>\n",
       "      <td>144.99650</td>\n",
       "      <td>Northern Metropolitan</td>\n",
       "      <td>4019.0</td>\n",
       "      <td>2016</td>\n",
       "      <td>Summer</td>\n",
       "      <td>Modern</td>\n",
       "    </tr>\n",
       "    <tr>\n",
       "      <th>53</th>\n",
       "      <td>Abbotsford</td>\n",
       "      <td>31 Turner St</td>\n",
       "      <td>4</td>\n",
       "      <td>h</td>\n",
       "      <td>1542000.0</td>\n",
       "      <td>S</td>\n",
       "      <td>Collins</td>\n",
       "      <td>2.5</td>\n",
       "      <td>3067.0</td>\n",
       "      <td>3.0</td>\n",
       "      <td>1.0</td>\n",
       "      <td>0.0</td>\n",
       "      <td>Yarra City Council</td>\n",
       "      <td>-37.79940</td>\n",
       "      <td>144.99650</td>\n",
       "      <td>Northern Metropolitan</td>\n",
       "      <td>4019.0</td>\n",
       "      <td>2016</td>\n",
       "      <td>Fall</td>\n",
       "      <td>Modern</td>\n",
       "    </tr>\n",
       "    <tr>\n",
       "      <th>57</th>\n",
       "      <td>Abbotsford</td>\n",
       "      <td>11/205 Gipps St</td>\n",
       "      <td>1</td>\n",
       "      <td>u</td>\n",
       "      <td>470000.0</td>\n",
       "      <td>S</td>\n",
       "      <td>Nelson</td>\n",
       "      <td>2.5</td>\n",
       "      <td>3067.0</td>\n",
       "      <td>1.0</td>\n",
       "      <td>1.0</td>\n",
       "      <td>0.0</td>\n",
       "      <td>Yarra City Council</td>\n",
       "      <td>-37.80550</td>\n",
       "      <td>144.99610</td>\n",
       "      <td>Northern Metropolitan</td>\n",
       "      <td>4019.0</td>\n",
       "      <td>2016</td>\n",
       "      <td>Summer</td>\n",
       "      <td>Modern</td>\n",
       "    </tr>\n",
       "    <tr>\n",
       "      <th>67</th>\n",
       "      <td>Airport West</td>\n",
       "      <td>50 Bedford St</td>\n",
       "      <td>3</td>\n",
       "      <td>h</td>\n",
       "      <td>730000.0</td>\n",
       "      <td>VB</td>\n",
       "      <td>Nelson</td>\n",
       "      <td>13.5</td>\n",
       "      <td>3042.0</td>\n",
       "      <td>2.0</td>\n",
       "      <td>1.0</td>\n",
       "      <td>0.0</td>\n",
       "      <td>Moonee Valley City Council</td>\n",
       "      <td>-37.72030</td>\n",
       "      <td>144.87550</td>\n",
       "      <td>Western Metropolitan</td>\n",
       "      <td>3464.0</td>\n",
       "      <td>2016</td>\n",
       "      <td>Winter</td>\n",
       "      <td>Old</td>\n",
       "    </tr>\n",
       "    <tr>\n",
       "      <th>68</th>\n",
       "      <td>Airport West</td>\n",
       "      <td>50 Bedford St</td>\n",
       "      <td>3</td>\n",
       "      <td>h</td>\n",
       "      <td>770000.0</td>\n",
       "      <td>SP</td>\n",
       "      <td>Nelson</td>\n",
       "      <td>13.5</td>\n",
       "      <td>3042.0</td>\n",
       "      <td>2.0</td>\n",
       "      <td>1.0</td>\n",
       "      <td>0.0</td>\n",
       "      <td>Moonee Valley City Council</td>\n",
       "      <td>-37.72030</td>\n",
       "      <td>144.87550</td>\n",
       "      <td>Western Metropolitan</td>\n",
       "      <td>3464.0</td>\n",
       "      <td>2017</td>\n",
       "      <td>Spring</td>\n",
       "      <td>Old</td>\n",
       "    </tr>\n",
       "    <tr>\n",
       "      <th>88</th>\n",
       "      <td>Airport West</td>\n",
       "      <td>13 Etzel St</td>\n",
       "      <td>3</td>\n",
       "      <td>h</td>\n",
       "      <td>805000.0</td>\n",
       "      <td>S</td>\n",
       "      <td>Nelson</td>\n",
       "      <td>13.5</td>\n",
       "      <td>3042.0</td>\n",
       "      <td>1.0</td>\n",
       "      <td>1.0</td>\n",
       "      <td>0.0</td>\n",
       "      <td>Moonee Valley City Council</td>\n",
       "      <td>-37.72170</td>\n",
       "      <td>144.87830</td>\n",
       "      <td>Western Metropolitan</td>\n",
       "      <td>3464.0</td>\n",
       "      <td>2016</td>\n",
       "      <td>Fall</td>\n",
       "      <td>Old</td>\n",
       "    </tr>\n",
       "    <tr>\n",
       "      <th>155</th>\n",
       "      <td>Albert Park</td>\n",
       "      <td>4a Gatehouse La</td>\n",
       "      <td>3</td>\n",
       "      <td>h</td>\n",
       "      <td>1370000.0</td>\n",
       "      <td>S</td>\n",
       "      <td>Greg</td>\n",
       "      <td>3.3</td>\n",
       "      <td>3206.0</td>\n",
       "      <td>2.0</td>\n",
       "      <td>2.0</td>\n",
       "      <td>0.0</td>\n",
       "      <td>Port Phillip City Council</td>\n",
       "      <td>-37.84510</td>\n",
       "      <td>144.95110</td>\n",
       "      <td>Southern Metropolitan</td>\n",
       "      <td>3280.0</td>\n",
       "      <td>2016</td>\n",
       "      <td>Fall</td>\n",
       "      <td>Modern</td>\n",
       "    </tr>\n",
       "    <tr>\n",
       "      <th>170</th>\n",
       "      <td>Albert Park</td>\n",
       "      <td>10/140 Kerferd Rd</td>\n",
       "      <td>2</td>\n",
       "      <td>u</td>\n",
       "      <td>647000.0</td>\n",
       "      <td>S</td>\n",
       "      <td>Greg</td>\n",
       "      <td>3.3</td>\n",
       "      <td>3206.0</td>\n",
       "      <td>1.0</td>\n",
       "      <td>1.0</td>\n",
       "      <td>0.0</td>\n",
       "      <td>Port Phillip City Council</td>\n",
       "      <td>-37.84600</td>\n",
       "      <td>144.95420</td>\n",
       "      <td>Southern Metropolitan</td>\n",
       "      <td>3280.0</td>\n",
       "      <td>2016</td>\n",
       "      <td>Spring</td>\n",
       "      <td>Modern</td>\n",
       "    </tr>\n",
       "    <tr>\n",
       "      <th>177</th>\n",
       "      <td>Albert Park</td>\n",
       "      <td>13/52 Moubray St</td>\n",
       "      <td>1</td>\n",
       "      <td>u</td>\n",
       "      <td>442500.0</td>\n",
       "      <td>S</td>\n",
       "      <td>Marshall</td>\n",
       "      <td>3.3</td>\n",
       "      <td>3206.0</td>\n",
       "      <td>1.0</td>\n",
       "      <td>0.0</td>\n",
       "      <td>0.0</td>\n",
       "      <td>Port Phillip City Council</td>\n",
       "      <td>-37.84210</td>\n",
       "      <td>144.95170</td>\n",
       "      <td>Southern Metropolitan</td>\n",
       "      <td>3280.0</td>\n",
       "      <td>2017</td>\n",
       "      <td>Winter</td>\n",
       "      <td>Old</td>\n",
       "    </tr>\n",
       "    <tr>\n",
       "      <th>181</th>\n",
       "      <td>Albert Park</td>\n",
       "      <td>2b Dundas Pl</td>\n",
       "      <td>3</td>\n",
       "      <td>h</td>\n",
       "      <td>1532000.0</td>\n",
       "      <td>S</td>\n",
       "      <td>Chisholm</td>\n",
       "      <td>3.3</td>\n",
       "      <td>3206.0</td>\n",
       "      <td>3.0</td>\n",
       "      <td>1.0</td>\n",
       "      <td>0.0</td>\n",
       "      <td>Port Phillip City Council</td>\n",
       "      <td>-37.84150</td>\n",
       "      <td>144.95850</td>\n",
       "      <td>Southern Metropolitan</td>\n",
       "      <td>3280.0</td>\n",
       "      <td>2016</td>\n",
       "      <td>Summer</td>\n",
       "      <td>Modern</td>\n",
       "    </tr>\n",
       "    <tr>\n",
       "      <th>192</th>\n",
       "      <td>Albert Park</td>\n",
       "      <td>74 Bridport St</td>\n",
       "      <td>3</td>\n",
       "      <td>h</td>\n",
       "      <td>2800000.0</td>\n",
       "      <td>VB</td>\n",
       "      <td>Buxton</td>\n",
       "      <td>3.3</td>\n",
       "      <td>3206.0</td>\n",
       "      <td>3.0</td>\n",
       "      <td>1.0</td>\n",
       "      <td>0.0</td>\n",
       "      <td>Port Phillip City Council</td>\n",
       "      <td>-37.83990</td>\n",
       "      <td>144.95770</td>\n",
       "      <td>Southern Metropolitan</td>\n",
       "      <td>3280.0</td>\n",
       "      <td>2016</td>\n",
       "      <td>Summer</td>\n",
       "      <td>Modern</td>\n",
       "    </tr>\n",
       "    <tr>\n",
       "      <th>206</th>\n",
       "      <td>Alphington</td>\n",
       "      <td>2/5 Yarana Rd</td>\n",
       "      <td>2</td>\n",
       "      <td>u</td>\n",
       "      <td>465000.0</td>\n",
       "      <td>S</td>\n",
       "      <td>McGrath</td>\n",
       "      <td>6.4</td>\n",
       "      <td>3078.0</td>\n",
       "      <td>1.0</td>\n",
       "      <td>1.0</td>\n",
       "      <td>0.0</td>\n",
       "      <td>Darebin City Council</td>\n",
       "      <td>-37.77730</td>\n",
       "      <td>145.03140</td>\n",
       "      <td>Northern Metropolitan</td>\n",
       "      <td>2211.0</td>\n",
       "      <td>2016</td>\n",
       "      <td>Fall</td>\n",
       "      <td>Modern</td>\n",
       "    </tr>\n",
       "    <tr>\n",
       "      <th>217</th>\n",
       "      <td>Alphington</td>\n",
       "      <td>5/5 Yarana Rd</td>\n",
       "      <td>2</td>\n",
       "      <td>u</td>\n",
       "      <td>390000.0</td>\n",
       "      <td>VB</td>\n",
       "      <td>Nelson</td>\n",
       "      <td>6.4</td>\n",
       "      <td>3078.0</td>\n",
       "      <td>1.0</td>\n",
       "      <td>1.0</td>\n",
       "      <td>0.0</td>\n",
       "      <td>Darebin City Council</td>\n",
       "      <td>-37.77730</td>\n",
       "      <td>145.03140</td>\n",
       "      <td>Northern Metropolitan</td>\n",
       "      <td>2211.0</td>\n",
       "      <td>2016</td>\n",
       "      <td>Spring</td>\n",
       "      <td>Old</td>\n",
       "    </tr>\n",
       "    <tr>\n",
       "      <th>218</th>\n",
       "      <td>Alphington</td>\n",
       "      <td>7/7 Chandler Hwy</td>\n",
       "      <td>2</td>\n",
       "      <td>t</td>\n",
       "      <td>650000.0</td>\n",
       "      <td>SP</td>\n",
       "      <td>Brace</td>\n",
       "      <td>6.4</td>\n",
       "      <td>3078.0</td>\n",
       "      <td>1.0</td>\n",
       "      <td>0.0</td>\n",
       "      <td>0.0</td>\n",
       "      <td>Darebin City Council</td>\n",
       "      <td>-37.78480</td>\n",
       "      <td>145.02500</td>\n",
       "      <td>Northern Metropolitan</td>\n",
       "      <td>2211.0</td>\n",
       "      <td>2016</td>\n",
       "      <td>Fall</td>\n",
       "      <td>Modern</td>\n",
       "    </tr>\n",
       "    <tr>\n",
       "      <th>219</th>\n",
       "      <td>Alphington</td>\n",
       "      <td>1/14 Fulham Rd</td>\n",
       "      <td>2</td>\n",
       "      <td>u</td>\n",
       "      <td>512000.0</td>\n",
       "      <td>S</td>\n",
       "      <td>Love</td>\n",
       "      <td>6.4</td>\n",
       "      <td>3078.0</td>\n",
       "      <td>1.0</td>\n",
       "      <td>1.0</td>\n",
       "      <td>0.0</td>\n",
       "      <td>Darebin City Council</td>\n",
       "      <td>-37.78050</td>\n",
       "      <td>145.02620</td>\n",
       "      <td>Northern Metropolitan</td>\n",
       "      <td>2211.0</td>\n",
       "      <td>2017</td>\n",
       "      <td>Winter</td>\n",
       "      <td>Old</td>\n",
       "    </tr>\n",
       "    <tr>\n",
       "      <th>249</th>\n",
       "      <td>Altona</td>\n",
       "      <td>4/31 Millers Rd</td>\n",
       "      <td>2</td>\n",
       "      <td>u</td>\n",
       "      <td>391000.0</td>\n",
       "      <td>SP</td>\n",
       "      <td>Greg</td>\n",
       "      <td>13.8</td>\n",
       "      <td>3018.0</td>\n",
       "      <td>1.0</td>\n",
       "      <td>1.0</td>\n",
       "      <td>0.0</td>\n",
       "      <td>Hobsons Bay City Council</td>\n",
       "      <td>-37.86780</td>\n",
       "      <td>144.83840</td>\n",
       "      <td>Western Metropolitan</td>\n",
       "      <td>5301.0</td>\n",
       "      <td>2017</td>\n",
       "      <td>Fall</td>\n",
       "      <td>Old</td>\n",
       "    </tr>\n",
       "    <tr>\n",
       "      <th>250</th>\n",
       "      <td>Altona</td>\n",
       "      <td>111/112 Pier St</td>\n",
       "      <td>2</td>\n",
       "      <td>u</td>\n",
       "      <td>440000.0</td>\n",
       "      <td>SP</td>\n",
       "      <td>hockingstuart</td>\n",
       "      <td>13.8</td>\n",
       "      <td>3018.0</td>\n",
       "      <td>1.0</td>\n",
       "      <td>1.0</td>\n",
       "      <td>0.0</td>\n",
       "      <td>Hobsons Bay City Council</td>\n",
       "      <td>-37.86590</td>\n",
       "      <td>144.83100</td>\n",
       "      <td>Western Metropolitan</td>\n",
       "      <td>5301.0</td>\n",
       "      <td>2017</td>\n",
       "      <td>Fall</td>\n",
       "      <td>Modern</td>\n",
       "    </tr>\n",
       "    <tr>\n",
       "      <th>295</th>\n",
       "      <td>Altona North</td>\n",
       "      <td>1/5 Little St</td>\n",
       "      <td>3</td>\n",
       "      <td>h</td>\n",
       "      <td>720000.0</td>\n",
       "      <td>VB</td>\n",
       "      <td>Greg</td>\n",
       "      <td>11.1</td>\n",
       "      <td>3025.0</td>\n",
       "      <td>2.0</td>\n",
       "      <td>1.0</td>\n",
       "      <td>0.0</td>\n",
       "      <td>Hobsons Bay City Council</td>\n",
       "      <td>-37.83790</td>\n",
       "      <td>144.85830</td>\n",
       "      <td>Western Metropolitan</td>\n",
       "      <td>5132.0</td>\n",
       "      <td>2016</td>\n",
       "      <td>Spring</td>\n",
       "      <td>Modern</td>\n",
       "    </tr>\n",
       "    <tr>\n",
       "      <th>365</th>\n",
       "      <td>Armadale</td>\n",
       "      <td>8/19 Mercer Rd</td>\n",
       "      <td>2</td>\n",
       "      <td>u</td>\n",
       "      <td>599000.0</td>\n",
       "      <td>S</td>\n",
       "      <td>Jellis</td>\n",
       "      <td>6.3</td>\n",
       "      <td>3143.0</td>\n",
       "      <td>1.0</td>\n",
       "      <td>1.0</td>\n",
       "      <td>0.0</td>\n",
       "      <td>Stonnington City Council</td>\n",
       "      <td>-37.85430</td>\n",
       "      <td>145.02620</td>\n",
       "      <td>Southern Metropolitan</td>\n",
       "      <td>4836.0</td>\n",
       "      <td>2016</td>\n",
       "      <td>Winter</td>\n",
       "      <td>Old</td>\n",
       "    </tr>\n",
       "    <tr>\n",
       "      <th>367</th>\n",
       "      <td>Armadale</td>\n",
       "      <td>14/71 Denbigh Rd</td>\n",
       "      <td>3</td>\n",
       "      <td>u</td>\n",
       "      <td>995000.0</td>\n",
       "      <td>S</td>\n",
       "      <td>Marshall</td>\n",
       "      <td>6.3</td>\n",
       "      <td>3143.0</td>\n",
       "      <td>2.0</td>\n",
       "      <td>2.0</td>\n",
       "      <td>0.0</td>\n",
       "      <td>Stonnington City Council</td>\n",
       "      <td>-37.85520</td>\n",
       "      <td>145.01600</td>\n",
       "      <td>Southern Metropolitan</td>\n",
       "      <td>4836.0</td>\n",
       "      <td>2016</td>\n",
       "      <td>Winter</td>\n",
       "      <td>Modern</td>\n",
       "    </tr>\n",
       "    <tr>\n",
       "      <th>372</th>\n",
       "      <td>Armadale</td>\n",
       "      <td>9/55 Northcote Rd</td>\n",
       "      <td>1</td>\n",
       "      <td>u</td>\n",
       "      <td>421500.0</td>\n",
       "      <td>S</td>\n",
       "      <td>Biggin</td>\n",
       "      <td>6.3</td>\n",
       "      <td>3143.0</td>\n",
       "      <td>1.0</td>\n",
       "      <td>0.0</td>\n",
       "      <td>0.0</td>\n",
       "      <td>Stonnington City Council</td>\n",
       "      <td>-37.85300</td>\n",
       "      <td>145.01670</td>\n",
       "      <td>Southern Metropolitan</td>\n",
       "      <td>4836.0</td>\n",
       "      <td>2016</td>\n",
       "      <td>Winter</td>\n",
       "      <td>Modern</td>\n",
       "    </tr>\n",
       "    <tr>\n",
       "      <th>377</th>\n",
       "      <td>Armadale</td>\n",
       "      <td>3/16 Fulton St</td>\n",
       "      <td>2</td>\n",
       "      <td>u</td>\n",
       "      <td>678000.0</td>\n",
       "      <td>S</td>\n",
       "      <td>hockingstuart</td>\n",
       "      <td>6.3</td>\n",
       "      <td>3143.0</td>\n",
       "      <td>1.0</td>\n",
       "      <td>2.0</td>\n",
       "      <td>0.0</td>\n",
       "      <td>Stonnington City Council</td>\n",
       "      <td>-37.85380</td>\n",
       "      <td>145.01270</td>\n",
       "      <td>Southern Metropolitan</td>\n",
       "      <td>4836.0</td>\n",
       "      <td>2017</td>\n",
       "      <td>Spring</td>\n",
       "      <td>Modern</td>\n",
       "    </tr>\n",
       "    <tr>\n",
       "      <th>380</th>\n",
       "      <td>Armadale</td>\n",
       "      <td>3/20 Mercer Rd</td>\n",
       "      <td>3</td>\n",
       "      <td>t</td>\n",
       "      <td>1918000.0</td>\n",
       "      <td>SP</td>\n",
       "      <td>Jellis</td>\n",
       "      <td>6.3</td>\n",
       "      <td>3143.0</td>\n",
       "      <td>2.0</td>\n",
       "      <td>2.0</td>\n",
       "      <td>0.0</td>\n",
       "      <td>Stonnington City Council</td>\n",
       "      <td>-37.85370</td>\n",
       "      <td>145.02670</td>\n",
       "      <td>Southern Metropolitan</td>\n",
       "      <td>4836.0</td>\n",
       "      <td>2017</td>\n",
       "      <td>Spring</td>\n",
       "      <td>Modern</td>\n",
       "    </tr>\n",
       "    <tr>\n",
       "      <th>...</th>\n",
       "      <td>...</td>\n",
       "      <td>...</td>\n",
       "      <td>...</td>\n",
       "      <td>...</td>\n",
       "      <td>...</td>\n",
       "      <td>...</td>\n",
       "      <td>...</td>\n",
       "      <td>...</td>\n",
       "      <td>...</td>\n",
       "      <td>...</td>\n",
       "      <td>...</td>\n",
       "      <td>...</td>\n",
       "      <td>...</td>\n",
       "      <td>...</td>\n",
       "      <td>...</td>\n",
       "      <td>...</td>\n",
       "      <td>...</td>\n",
       "      <td>...</td>\n",
       "      <td>...</td>\n",
       "      <td>...</td>\n",
       "    </tr>\n",
       "    <tr>\n",
       "      <th>19324</th>\n",
       "      <td>Brunswick East</td>\n",
       "      <td>603/29 Nicholson St</td>\n",
       "      <td>2</td>\n",
       "      <td>u</td>\n",
       "      <td>615000.0</td>\n",
       "      <td>SP</td>\n",
       "      <td>hockingstuart</td>\n",
       "      <td>4.0</td>\n",
       "      <td>3057.0</td>\n",
       "      <td>1.0</td>\n",
       "      <td>1.0</td>\n",
       "      <td>0.0</td>\n",
       "      <td>Moreland City Council</td>\n",
       "      <td>-37.77887</td>\n",
       "      <td>144.97797</td>\n",
       "      <td>Northern Metropolitan</td>\n",
       "      <td>5533.0</td>\n",
       "      <td>2017</td>\n",
       "      <td>Summer</td>\n",
       "      <td>Modern</td>\n",
       "    </tr>\n",
       "    <tr>\n",
       "      <th>19328</th>\n",
       "      <td>Brunswick West</td>\n",
       "      <td>7/80 Hopetoun Av</td>\n",
       "      <td>2</td>\n",
       "      <td>u</td>\n",
       "      <td>400000.0</td>\n",
       "      <td>VB</td>\n",
       "      <td>Nelson</td>\n",
       "      <td>5.2</td>\n",
       "      <td>3055.0</td>\n",
       "      <td>2.0</td>\n",
       "      <td>1.0</td>\n",
       "      <td>0.0</td>\n",
       "      <td>Moreland City Council</td>\n",
       "      <td>-37.75201</td>\n",
       "      <td>144.93360</td>\n",
       "      <td>Northern Metropolitan</td>\n",
       "      <td>7082.0</td>\n",
       "      <td>2017</td>\n",
       "      <td>Summer</td>\n",
       "      <td>Modern</td>\n",
       "    </tr>\n",
       "    <tr>\n",
       "      <th>19370</th>\n",
       "      <td>Clifton Hill</td>\n",
       "      <td>7/16 The Esplanade</td>\n",
       "      <td>2</td>\n",
       "      <td>u</td>\n",
       "      <td>591000.0</td>\n",
       "      <td>S</td>\n",
       "      <td>Ray</td>\n",
       "      <td>3.6</td>\n",
       "      <td>3068.0</td>\n",
       "      <td>1.0</td>\n",
       "      <td>1.0</td>\n",
       "      <td>0.0</td>\n",
       "      <td>Yarra City Council</td>\n",
       "      <td>-37.78791</td>\n",
       "      <td>145.00588</td>\n",
       "      <td>Northern Metropolitan</td>\n",
       "      <td>2954.0</td>\n",
       "      <td>2017</td>\n",
       "      <td>Summer</td>\n",
       "      <td>Old</td>\n",
       "    </tr>\n",
       "    <tr>\n",
       "      <th>19430</th>\n",
       "      <td>Elwood</td>\n",
       "      <td>4/19 Ruskin St</td>\n",
       "      <td>3</td>\n",
       "      <td>t</td>\n",
       "      <td>1035000.0</td>\n",
       "      <td>S</td>\n",
       "      <td>Chisholm</td>\n",
       "      <td>7.2</td>\n",
       "      <td>3184.0</td>\n",
       "      <td>2.0</td>\n",
       "      <td>2.0</td>\n",
       "      <td>0.0</td>\n",
       "      <td>Port Phillip City Council</td>\n",
       "      <td>-37.87472</td>\n",
       "      <td>144.98235</td>\n",
       "      <td>Southern Metropolitan</td>\n",
       "      <td>8989.0</td>\n",
       "      <td>2017</td>\n",
       "      <td>Summer</td>\n",
       "      <td>Modern</td>\n",
       "    </tr>\n",
       "    <tr>\n",
       "      <th>19432</th>\n",
       "      <td>Elwood</td>\n",
       "      <td>4/505 St Kilda St</td>\n",
       "      <td>2</td>\n",
       "      <td>t</td>\n",
       "      <td>710000.0</td>\n",
       "      <td>S</td>\n",
       "      <td>McGrath</td>\n",
       "      <td>7.2</td>\n",
       "      <td>3184.0</td>\n",
       "      <td>1.0</td>\n",
       "      <td>1.0</td>\n",
       "      <td>0.0</td>\n",
       "      <td>Port Phillip City Council</td>\n",
       "      <td>-37.88465</td>\n",
       "      <td>144.99177</td>\n",
       "      <td>Southern Metropolitan</td>\n",
       "      <td>8989.0</td>\n",
       "      <td>2017</td>\n",
       "      <td>Summer</td>\n",
       "      <td>Modern</td>\n",
       "    </tr>\n",
       "    <tr>\n",
       "      <th>19446</th>\n",
       "      <td>Essendon</td>\n",
       "      <td>6/23 Daisy St</td>\n",
       "      <td>2</td>\n",
       "      <td>u</td>\n",
       "      <td>468000.0</td>\n",
       "      <td>S</td>\n",
       "      <td>Nelson</td>\n",
       "      <td>7.5</td>\n",
       "      <td>3040.0</td>\n",
       "      <td>1.0</td>\n",
       "      <td>1.0</td>\n",
       "      <td>0.0</td>\n",
       "      <td>Moonee Valley City Council</td>\n",
       "      <td>-37.75465</td>\n",
       "      <td>144.91070</td>\n",
       "      <td>Western Metropolitan</td>\n",
       "      <td>9264.0</td>\n",
       "      <td>2017</td>\n",
       "      <td>Summer</td>\n",
       "      <td>Modern</td>\n",
       "    </tr>\n",
       "    <tr>\n",
       "      <th>19459</th>\n",
       "      <td>Footscray</td>\n",
       "      <td>9/51 Napier St</td>\n",
       "      <td>2</td>\n",
       "      <td>u</td>\n",
       "      <td>370000.0</td>\n",
       "      <td>VB</td>\n",
       "      <td>Jas</td>\n",
       "      <td>5.1</td>\n",
       "      <td>3011.0</td>\n",
       "      <td>1.0</td>\n",
       "      <td>1.0</td>\n",
       "      <td>0.0</td>\n",
       "      <td>Maribyrnong City Council</td>\n",
       "      <td>-37.80474</td>\n",
       "      <td>144.90210</td>\n",
       "      <td>Western Metropolitan</td>\n",
       "      <td>7570.0</td>\n",
       "      <td>2017</td>\n",
       "      <td>Summer</td>\n",
       "      <td>Old</td>\n",
       "    </tr>\n",
       "    <tr>\n",
       "      <th>19463</th>\n",
       "      <td>Frankston</td>\n",
       "      <td>4/93 Dandenong Rd E</td>\n",
       "      <td>2</td>\n",
       "      <td>u</td>\n",
       "      <td>266000.0</td>\n",
       "      <td>S</td>\n",
       "      <td>Buxton</td>\n",
       "      <td>38.0</td>\n",
       "      <td>3199.0</td>\n",
       "      <td>1.0</td>\n",
       "      <td>1.0</td>\n",
       "      <td>0.0</td>\n",
       "      <td>Frankston City Council</td>\n",
       "      <td>-38.13275</td>\n",
       "      <td>145.13099</td>\n",
       "      <td>South-Eastern Metropolitan</td>\n",
       "      <td>17055.0</td>\n",
       "      <td>2017</td>\n",
       "      <td>Summer</td>\n",
       "      <td>Old</td>\n",
       "    </tr>\n",
       "    <tr>\n",
       "      <th>19469</th>\n",
       "      <td>Glen Huntly</td>\n",
       "      <td>1/1110 Glen Huntly Rd</td>\n",
       "      <td>2</td>\n",
       "      <td>u</td>\n",
       "      <td>450000.0</td>\n",
       "      <td>S</td>\n",
       "      <td>Woodards</td>\n",
       "      <td>10.1</td>\n",
       "      <td>3163.0</td>\n",
       "      <td>1.0</td>\n",
       "      <td>1.0</td>\n",
       "      <td>0.0</td>\n",
       "      <td>Glen Eira City Council</td>\n",
       "      <td>-37.88937</td>\n",
       "      <td>145.04038</td>\n",
       "      <td>Southern Metropolitan</td>\n",
       "      <td>2403.0</td>\n",
       "      <td>2017</td>\n",
       "      <td>Summer</td>\n",
       "      <td>Modern</td>\n",
       "    </tr>\n",
       "    <tr>\n",
       "      <th>19492</th>\n",
       "      <td>Hawthorn</td>\n",
       "      <td>18/352 Auburn Rd</td>\n",
       "      <td>2</td>\n",
       "      <td>u</td>\n",
       "      <td>580000.0</td>\n",
       "      <td>S</td>\n",
       "      <td>R&amp;H</td>\n",
       "      <td>5.3</td>\n",
       "      <td>3122.0</td>\n",
       "      <td>1.0</td>\n",
       "      <td>1.0</td>\n",
       "      <td>0.0</td>\n",
       "      <td>Boroondara City Council</td>\n",
       "      <td>-37.83197</td>\n",
       "      <td>145.04306</td>\n",
       "      <td>Southern Metropolitan</td>\n",
       "      <td>11308.0</td>\n",
       "      <td>2017</td>\n",
       "      <td>Summer</td>\n",
       "      <td>Modern</td>\n",
       "    </tr>\n",
       "    <tr>\n",
       "      <th>19495</th>\n",
       "      <td>Hawthorn East</td>\n",
       "      <td>6/712 Burwood Rd</td>\n",
       "      <td>2</td>\n",
       "      <td>u</td>\n",
       "      <td>400000.0</td>\n",
       "      <td>VB</td>\n",
       "      <td>Jellis</td>\n",
       "      <td>6.2</td>\n",
       "      <td>3123.0</td>\n",
       "      <td>1.0</td>\n",
       "      <td>1.0</td>\n",
       "      <td>0.0</td>\n",
       "      <td>Boroondara City Council</td>\n",
       "      <td>-37.82465</td>\n",
       "      <td>145.05092</td>\n",
       "      <td>Southern Metropolitan</td>\n",
       "      <td>6482.0</td>\n",
       "      <td>2017</td>\n",
       "      <td>Summer</td>\n",
       "      <td>Old</td>\n",
       "    </tr>\n",
       "    <tr>\n",
       "      <th>19532</th>\n",
       "      <td>Kingsville</td>\n",
       "      <td>5/35 Kingsville St</td>\n",
       "      <td>1</td>\n",
       "      <td>u</td>\n",
       "      <td>216000.0</td>\n",
       "      <td>SP</td>\n",
       "      <td>Jas</td>\n",
       "      <td>6.4</td>\n",
       "      <td>3012.0</td>\n",
       "      <td>1.0</td>\n",
       "      <td>1.0</td>\n",
       "      <td>0.0</td>\n",
       "      <td>Maribyrnong City Council</td>\n",
       "      <td>-37.80893</td>\n",
       "      <td>144.87878</td>\n",
       "      <td>Western Metropolitan</td>\n",
       "      <td>1808.0</td>\n",
       "      <td>2017</td>\n",
       "      <td>Summer</td>\n",
       "      <td>Modern</td>\n",
       "    </tr>\n",
       "    <tr>\n",
       "      <th>19555</th>\n",
       "      <td>Melbourne</td>\n",
       "      <td>713/118 Russell St</td>\n",
       "      <td>2</td>\n",
       "      <td>u</td>\n",
       "      <td>540000.0</td>\n",
       "      <td>PI</td>\n",
       "      <td>Harcourts</td>\n",
       "      <td>0.0</td>\n",
       "      <td>3000.0</td>\n",
       "      <td>1.0</td>\n",
       "      <td>0.0</td>\n",
       "      <td>0.0</td>\n",
       "      <td>Melbourne City Council</td>\n",
       "      <td>-37.81351</td>\n",
       "      <td>144.96908</td>\n",
       "      <td>Northern Metropolitan</td>\n",
       "      <td>17496.0</td>\n",
       "      <td>2017</td>\n",
       "      <td>Summer</td>\n",
       "      <td>Old</td>\n",
       "    </tr>\n",
       "    <tr>\n",
       "      <th>19559</th>\n",
       "      <td>Mentone</td>\n",
       "      <td>1/33 Riviera St</td>\n",
       "      <td>2</td>\n",
       "      <td>u</td>\n",
       "      <td>641000.0</td>\n",
       "      <td>S</td>\n",
       "      <td>Thomson</td>\n",
       "      <td>20.0</td>\n",
       "      <td>3194.0</td>\n",
       "      <td>1.0</td>\n",
       "      <td>1.0</td>\n",
       "      <td>0.0</td>\n",
       "      <td>Kingston City Council</td>\n",
       "      <td>-37.97836</td>\n",
       "      <td>145.07303</td>\n",
       "      <td>South-Eastern Metropolitan</td>\n",
       "      <td>6162.0</td>\n",
       "      <td>2017</td>\n",
       "      <td>Summer</td>\n",
       "      <td>Modern</td>\n",
       "    </tr>\n",
       "    <tr>\n",
       "      <th>19574</th>\n",
       "      <td>Mordialloc</td>\n",
       "      <td>4/6 Crown Av</td>\n",
       "      <td>2</td>\n",
       "      <td>u</td>\n",
       "      <td>600000.0</td>\n",
       "      <td>S</td>\n",
       "      <td>Barry</td>\n",
       "      <td>21.5</td>\n",
       "      <td>3195.0</td>\n",
       "      <td>1.0</td>\n",
       "      <td>1.0</td>\n",
       "      <td>0.0</td>\n",
       "      <td>Kingston City Council</td>\n",
       "      <td>-38.00765</td>\n",
       "      <td>145.09350</td>\n",
       "      <td>South-Eastern Metropolitan</td>\n",
       "      <td>3650.0</td>\n",
       "      <td>2017</td>\n",
       "      <td>Summer</td>\n",
       "      <td>Old</td>\n",
       "    </tr>\n",
       "    <tr>\n",
       "      <th>19589</th>\n",
       "      <td>Murrumbeena</td>\n",
       "      <td>8/25 Omama Rd</td>\n",
       "      <td>1</td>\n",
       "      <td>u</td>\n",
       "      <td>295000.0</td>\n",
       "      <td>PI</td>\n",
       "      <td>Thomson</td>\n",
       "      <td>10.1</td>\n",
       "      <td>3163.0</td>\n",
       "      <td>1.0</td>\n",
       "      <td>1.0</td>\n",
       "      <td>0.0</td>\n",
       "      <td>Glen Eira City Council</td>\n",
       "      <td>-37.89022</td>\n",
       "      <td>145.07333</td>\n",
       "      <td>Southern Metropolitan</td>\n",
       "      <td>4442.0</td>\n",
       "      <td>2017</td>\n",
       "      <td>Summer</td>\n",
       "      <td>Old</td>\n",
       "    </tr>\n",
       "    <tr>\n",
       "      <th>19607</th>\n",
       "      <td>Oak Park</td>\n",
       "      <td>2/36 Curie Av</td>\n",
       "      <td>2</td>\n",
       "      <td>t</td>\n",
       "      <td>545000.0</td>\n",
       "      <td>PI</td>\n",
       "      <td>Hodges</td>\n",
       "      <td>11.2</td>\n",
       "      <td>3046.0</td>\n",
       "      <td>1.0</td>\n",
       "      <td>1.0</td>\n",
       "      <td>0.0</td>\n",
       "      <td>Moreland City Council</td>\n",
       "      <td>-37.71652</td>\n",
       "      <td>144.92268</td>\n",
       "      <td>Northern Metropolitan</td>\n",
       "      <td>2651.0</td>\n",
       "      <td>2017</td>\n",
       "      <td>Summer</td>\n",
       "      <td>Modern</td>\n",
       "    </tr>\n",
       "    <tr>\n",
       "      <th>19645</th>\n",
       "      <td>Richmond</td>\n",
       "      <td>16/297 Church St</td>\n",
       "      <td>2</td>\n",
       "      <td>u</td>\n",
       "      <td>666000.0</td>\n",
       "      <td>S</td>\n",
       "      <td>hockingstuart</td>\n",
       "      <td>2.4</td>\n",
       "      <td>3121.0</td>\n",
       "      <td>1.0</td>\n",
       "      <td>1.0</td>\n",
       "      <td>0.0</td>\n",
       "      <td>Yarra City Council</td>\n",
       "      <td>-37.82110</td>\n",
       "      <td>144.99896</td>\n",
       "      <td>Northern Metropolitan</td>\n",
       "      <td>14949.0</td>\n",
       "      <td>2017</td>\n",
       "      <td>Summer</td>\n",
       "      <td>Modern</td>\n",
       "    </tr>\n",
       "    <tr>\n",
       "      <th>19646</th>\n",
       "      <td>Richmond</td>\n",
       "      <td>5/33 Davison St</td>\n",
       "      <td>1</td>\n",
       "      <td>u</td>\n",
       "      <td>330000.0</td>\n",
       "      <td>VB</td>\n",
       "      <td>Marshall</td>\n",
       "      <td>2.4</td>\n",
       "      <td>3121.0</td>\n",
       "      <td>1.0</td>\n",
       "      <td>1.0</td>\n",
       "      <td>0.0</td>\n",
       "      <td>Yarra City Council</td>\n",
       "      <td>-37.81317</td>\n",
       "      <td>145.00834</td>\n",
       "      <td>Northern Metropolitan</td>\n",
       "      <td>14949.0</td>\n",
       "      <td>2017</td>\n",
       "      <td>Summer</td>\n",
       "      <td>Old</td>\n",
       "    </tr>\n",
       "    <tr>\n",
       "      <th>19647</th>\n",
       "      <td>Richmond</td>\n",
       "      <td>712/8 Howard St</td>\n",
       "      <td>2</td>\n",
       "      <td>u</td>\n",
       "      <td>927000.0</td>\n",
       "      <td>S</td>\n",
       "      <td>Biggin</td>\n",
       "      <td>2.4</td>\n",
       "      <td>3121.0</td>\n",
       "      <td>1.0</td>\n",
       "      <td>2.0</td>\n",
       "      <td>0.0</td>\n",
       "      <td>Yarra City Council</td>\n",
       "      <td>-37.83305</td>\n",
       "      <td>144.99745</td>\n",
       "      <td>Northern Metropolitan</td>\n",
       "      <td>14949.0</td>\n",
       "      <td>2017</td>\n",
       "      <td>Summer</td>\n",
       "      <td>Modern</td>\n",
       "    </tr>\n",
       "    <tr>\n",
       "      <th>19650</th>\n",
       "      <td>Richmond</td>\n",
       "      <td>3/30 Tanner St</td>\n",
       "      <td>2</td>\n",
       "      <td>u</td>\n",
       "      <td>575500.0</td>\n",
       "      <td>S</td>\n",
       "      <td>hockingstuart</td>\n",
       "      <td>2.4</td>\n",
       "      <td>3121.0</td>\n",
       "      <td>1.0</td>\n",
       "      <td>1.0</td>\n",
       "      <td>0.0</td>\n",
       "      <td>Yarra City Council</td>\n",
       "      <td>-37.82328</td>\n",
       "      <td>144.99203</td>\n",
       "      <td>Northern Metropolitan</td>\n",
       "      <td>14949.0</td>\n",
       "      <td>2017</td>\n",
       "      <td>Summer</td>\n",
       "      <td>Modern</td>\n",
       "    </tr>\n",
       "    <tr>\n",
       "      <th>19664</th>\n",
       "      <td>Seaholme</td>\n",
       "      <td>1/27 Noordenne Av</td>\n",
       "      <td>1</td>\n",
       "      <td>u</td>\n",
       "      <td>312000.0</td>\n",
       "      <td>S</td>\n",
       "      <td>RT</td>\n",
       "      <td>11.0</td>\n",
       "      <td>3018.0</td>\n",
       "      <td>1.0</td>\n",
       "      <td>0.0</td>\n",
       "      <td>0.0</td>\n",
       "      <td>Hobsons Bay City Council</td>\n",
       "      <td>-37.86007</td>\n",
       "      <td>144.84578</td>\n",
       "      <td>Western Metropolitan</td>\n",
       "      <td>852.0</td>\n",
       "      <td>2017</td>\n",
       "      <td>Summer</td>\n",
       "      <td>Modern</td>\n",
       "    </tr>\n",
       "    <tr>\n",
       "      <th>19678</th>\n",
       "      <td>South Yarra</td>\n",
       "      <td>9/17 Howitt St</td>\n",
       "      <td>2</td>\n",
       "      <td>u</td>\n",
       "      <td>570000.0</td>\n",
       "      <td>VB</td>\n",
       "      <td>Ray</td>\n",
       "      <td>2.7</td>\n",
       "      <td>3141.0</td>\n",
       "      <td>1.0</td>\n",
       "      <td>1.0</td>\n",
       "      <td>0.0</td>\n",
       "      <td>Melbourne City Council</td>\n",
       "      <td>-37.84679</td>\n",
       "      <td>145.00206</td>\n",
       "      <td>Southern Metropolitan</td>\n",
       "      <td>14887.0</td>\n",
       "      <td>2017</td>\n",
       "      <td>Summer</td>\n",
       "      <td>Old</td>\n",
       "    </tr>\n",
       "    <tr>\n",
       "      <th>19679</th>\n",
       "      <td>South Yarra</td>\n",
       "      <td>10/38 Kensington Rd</td>\n",
       "      <td>1</td>\n",
       "      <td>u</td>\n",
       "      <td>555000.0</td>\n",
       "      <td>S</td>\n",
       "      <td>Jellis</td>\n",
       "      <td>2.7</td>\n",
       "      <td>3141.0</td>\n",
       "      <td>1.0</td>\n",
       "      <td>1.0</td>\n",
       "      <td>0.0</td>\n",
       "      <td>Melbourne City Council</td>\n",
       "      <td>-37.83631</td>\n",
       "      <td>145.00181</td>\n",
       "      <td>Southern Metropolitan</td>\n",
       "      <td>14887.0</td>\n",
       "      <td>2017</td>\n",
       "      <td>Summer</td>\n",
       "      <td>Modern</td>\n",
       "    </tr>\n",
       "    <tr>\n",
       "      <th>19684</th>\n",
       "      <td>St Kilda</td>\n",
       "      <td>11/22 Charnwood Cr</td>\n",
       "      <td>1</td>\n",
       "      <td>u</td>\n",
       "      <td>481000.0</td>\n",
       "      <td>S</td>\n",
       "      <td>hockingstuart</td>\n",
       "      <td>5.0</td>\n",
       "      <td>3182.0</td>\n",
       "      <td>1.0</td>\n",
       "      <td>1.0</td>\n",
       "      <td>0.0</td>\n",
       "      <td>Port Phillip City Council</td>\n",
       "      <td>-37.85984</td>\n",
       "      <td>144.98670</td>\n",
       "      <td>Southern Metropolitan</td>\n",
       "      <td>13240.0</td>\n",
       "      <td>2017</td>\n",
       "      <td>Summer</td>\n",
       "      <td>Old</td>\n",
       "    </tr>\n",
       "    <tr>\n",
       "      <th>19685</th>\n",
       "      <td>St Kilda</td>\n",
       "      <td>45/151 Fitzroy St</td>\n",
       "      <td>2</td>\n",
       "      <td>u</td>\n",
       "      <td>600000.0</td>\n",
       "      <td>VB</td>\n",
       "      <td>hockingstuart</td>\n",
       "      <td>5.0</td>\n",
       "      <td>3182.0</td>\n",
       "      <td>1.0</td>\n",
       "      <td>1.0</td>\n",
       "      <td>0.0</td>\n",
       "      <td>Port Phillip City Council</td>\n",
       "      <td>-37.85911</td>\n",
       "      <td>144.97900</td>\n",
       "      <td>Southern Metropolitan</td>\n",
       "      <td>13240.0</td>\n",
       "      <td>2017</td>\n",
       "      <td>Summer</td>\n",
       "      <td>Old</td>\n",
       "    </tr>\n",
       "    <tr>\n",
       "      <th>19696</th>\n",
       "      <td>Surrey Hills</td>\n",
       "      <td>6/91 Warrigal Rd</td>\n",
       "      <td>3</td>\n",
       "      <td>u</td>\n",
       "      <td>1050000.0</td>\n",
       "      <td>PI</td>\n",
       "      <td>hockingstuart</td>\n",
       "      <td>10.2</td>\n",
       "      <td>3127.0</td>\n",
       "      <td>2.0</td>\n",
       "      <td>2.0</td>\n",
       "      <td>0.0</td>\n",
       "      <td>Boroondara City Council</td>\n",
       "      <td>-37.83358</td>\n",
       "      <td>145.09884</td>\n",
       "      <td>Southern Metropolitan</td>\n",
       "      <td>5457.0</td>\n",
       "      <td>2017</td>\n",
       "      <td>Summer</td>\n",
       "      <td>Modern</td>\n",
       "    </tr>\n",
       "    <tr>\n",
       "      <th>19710</th>\n",
       "      <td>Tullamarine</td>\n",
       "      <td>9/200 Melrose Dr</td>\n",
       "      <td>2</td>\n",
       "      <td>u</td>\n",
       "      <td>300000.0</td>\n",
       "      <td>SP</td>\n",
       "      <td>Jason</td>\n",
       "      <td>12.9</td>\n",
       "      <td>3043.0</td>\n",
       "      <td>1.0</td>\n",
       "      <td>1.0</td>\n",
       "      <td>0.0</td>\n",
       "      <td>Brimbank City Council</td>\n",
       "      <td>-37.69815</td>\n",
       "      <td>144.88019</td>\n",
       "      <td>Western Metropolitan</td>\n",
       "      <td>3296.0</td>\n",
       "      <td>2017</td>\n",
       "      <td>Summer</td>\n",
       "      <td>Modern</td>\n",
       "    </tr>\n",
       "    <tr>\n",
       "      <th>19734</th>\n",
       "      <td>Williamstown</td>\n",
       "      <td>2/29 Dover Rd</td>\n",
       "      <td>1</td>\n",
       "      <td>u</td>\n",
       "      <td>385000.0</td>\n",
       "      <td>SP</td>\n",
       "      <td>Williams</td>\n",
       "      <td>6.8</td>\n",
       "      <td>3016.0</td>\n",
       "      <td>1.0</td>\n",
       "      <td>1.0</td>\n",
       "      <td>0.0</td>\n",
       "      <td>Hobsons Bay City Council</td>\n",
       "      <td>-37.85588</td>\n",
       "      <td>144.89936</td>\n",
       "      <td>Western Metropolitan</td>\n",
       "      <td>6380.0</td>\n",
       "      <td>2017</td>\n",
       "      <td>Summer</td>\n",
       "      <td>Old</td>\n",
       "    </tr>\n",
       "    <tr>\n",
       "      <th>19736</th>\n",
       "      <td>Windsor</td>\n",
       "      <td>201/152 Peel St</td>\n",
       "      <td>2</td>\n",
       "      <td>u</td>\n",
       "      <td>560000.0</td>\n",
       "      <td>PI</td>\n",
       "      <td>hockingstuart</td>\n",
       "      <td>4.6</td>\n",
       "      <td>3181.0</td>\n",
       "      <td>1.0</td>\n",
       "      <td>1.0</td>\n",
       "      <td>0.0</td>\n",
       "      <td>Port Phillip City Council</td>\n",
       "      <td>-37.85581</td>\n",
       "      <td>144.99025</td>\n",
       "      <td>Southern Metropolitan</td>\n",
       "      <td>4380.0</td>\n",
       "      <td>2017</td>\n",
       "      <td>Summer</td>\n",
       "      <td>Modern</td>\n",
       "    </tr>\n",
       "  </tbody>\n",
       "</table>\n",
       "<p>1944 rows × 20 columns</p>\n",
       "</div>"
      ],
      "text/plain": [
       "               Suburb                Address  Rooms Type      Price Method  \\\n",
       "17         Abbotsford     6/241 Nicholson St      1    u   300000.0      S   \n",
       "23         Abbotsford     411/8 Grosvenor St      2    u   700000.0     VB   \n",
       "25         Abbotsford    123/56 Nicholson St      2    u   750000.0      S   \n",
       "29         Abbotsford     7/20 Abbotsford St      1    u   441000.0     SP   \n",
       "40         Abbotsford     13/11 Nicholson St      3    t   900000.0      S   \n",
       "42         Abbotsford     6/219 Nicholson St      2    u   500000.0      S   \n",
       "48         Abbotsford     5/20 Abbotsford St      1    u   426000.0     SP   \n",
       "50         Abbotsford    116/56 Nicholson St      1    u   457000.0      S   \n",
       "53         Abbotsford           31 Turner St      4    h  1542000.0      S   \n",
       "57         Abbotsford        11/205 Gipps St      1    u   470000.0      S   \n",
       "67       Airport West          50 Bedford St      3    h   730000.0     VB   \n",
       "68       Airport West          50 Bedford St      3    h   770000.0     SP   \n",
       "88       Airport West            13 Etzel St      3    h   805000.0      S   \n",
       "155       Albert Park        4a Gatehouse La      3    h  1370000.0      S   \n",
       "170       Albert Park      10/140 Kerferd Rd      2    u   647000.0      S   \n",
       "177       Albert Park       13/52 Moubray St      1    u   442500.0      S   \n",
       "181       Albert Park           2b Dundas Pl      3    h  1532000.0      S   \n",
       "192       Albert Park         74 Bridport St      3    h  2800000.0     VB   \n",
       "206        Alphington          2/5 Yarana Rd      2    u   465000.0      S   \n",
       "217        Alphington          5/5 Yarana Rd      2    u   390000.0     VB   \n",
       "218        Alphington       7/7 Chandler Hwy      2    t   650000.0     SP   \n",
       "219        Alphington         1/14 Fulham Rd      2    u   512000.0      S   \n",
       "249            Altona        4/31 Millers Rd      2    u   391000.0     SP   \n",
       "250            Altona        111/112 Pier St      2    u   440000.0     SP   \n",
       "295      Altona North          1/5 Little St      3    h   720000.0     VB   \n",
       "365          Armadale         8/19 Mercer Rd      2    u   599000.0      S   \n",
       "367          Armadale       14/71 Denbigh Rd      3    u   995000.0      S   \n",
       "372          Armadale      9/55 Northcote Rd      1    u   421500.0      S   \n",
       "377          Armadale         3/16 Fulton St      2    u   678000.0      S   \n",
       "380          Armadale         3/20 Mercer Rd      3    t  1918000.0     SP   \n",
       "...               ...                    ...    ...  ...        ...    ...   \n",
       "19324  Brunswick East    603/29 Nicholson St      2    u   615000.0     SP   \n",
       "19328  Brunswick West       7/80 Hopetoun Av      2    u   400000.0     VB   \n",
       "19370    Clifton Hill     7/16 The Esplanade      2    u   591000.0      S   \n",
       "19430          Elwood         4/19 Ruskin St      3    t  1035000.0      S   \n",
       "19432          Elwood      4/505 St Kilda St      2    t   710000.0      S   \n",
       "19446        Essendon          6/23 Daisy St      2    u   468000.0      S   \n",
       "19459       Footscray         9/51 Napier St      2    u   370000.0     VB   \n",
       "19463       Frankston    4/93 Dandenong Rd E      2    u   266000.0      S   \n",
       "19469     Glen Huntly  1/1110 Glen Huntly Rd      2    u   450000.0      S   \n",
       "19492        Hawthorn       18/352 Auburn Rd      2    u   580000.0      S   \n",
       "19495   Hawthorn East       6/712 Burwood Rd      2    u   400000.0     VB   \n",
       "19532      Kingsville     5/35 Kingsville St      1    u   216000.0     SP   \n",
       "19555       Melbourne     713/118 Russell St      2    u   540000.0     PI   \n",
       "19559         Mentone        1/33 Riviera St      2    u   641000.0      S   \n",
       "19574      Mordialloc           4/6 Crown Av      2    u   600000.0      S   \n",
       "19589     Murrumbeena          8/25 Omama Rd      1    u   295000.0     PI   \n",
       "19607        Oak Park          2/36 Curie Av      2    t   545000.0     PI   \n",
       "19645        Richmond       16/297 Church St      2    u   666000.0      S   \n",
       "19646        Richmond        5/33 Davison St      1    u   330000.0     VB   \n",
       "19647        Richmond        712/8 Howard St      2    u   927000.0      S   \n",
       "19650        Richmond         3/30 Tanner St      2    u   575500.0      S   \n",
       "19664        Seaholme      1/27 Noordenne Av      1    u   312000.0      S   \n",
       "19678     South Yarra         9/17 Howitt St      2    u   570000.0     VB   \n",
       "19679     South Yarra    10/38 Kensington Rd      1    u   555000.0      S   \n",
       "19684        St Kilda     11/22 Charnwood Cr      1    u   481000.0      S   \n",
       "19685        St Kilda      45/151 Fitzroy St      2    u   600000.0     VB   \n",
       "19696    Surrey Hills       6/91 Warrigal Rd      3    u  1050000.0     PI   \n",
       "19710     Tullamarine       9/200 Melrose Dr      2    u   300000.0     SP   \n",
       "19734    Williamstown          2/29 Dover Rd      1    u   385000.0     SP   \n",
       "19736         Windsor        201/152 Peel St      2    u   560000.0     PI   \n",
       "\n",
       "             SellerG  Distance Postcode  Bathroom  Car  Landsize  \\\n",
       "17            Biggin       2.5   3067.0       1.0  1.0       0.0   \n",
       "23            Jellis       2.5   3067.0       2.0  1.0       0.0   \n",
       "25            Biggin       2.5   3067.0       2.0  1.0       0.0   \n",
       "29              Greg       2.5   3067.0       1.0  1.0       0.0   \n",
       "40            Beller       2.5   3067.0       2.0  2.0       0.0   \n",
       "42           Collins       2.5   3067.0       1.0  1.0       0.0   \n",
       "48              Greg       2.5   3067.0       1.0  1.0       0.0   \n",
       "50            Jellis       2.5   3067.0       1.0  1.0       0.0   \n",
       "53           Collins       2.5   3067.0       3.0  1.0       0.0   \n",
       "57            Nelson       2.5   3067.0       1.0  1.0       0.0   \n",
       "67            Nelson      13.5   3042.0       2.0  1.0       0.0   \n",
       "68            Nelson      13.5   3042.0       2.0  1.0       0.0   \n",
       "88            Nelson      13.5   3042.0       1.0  1.0       0.0   \n",
       "155             Greg       3.3   3206.0       2.0  2.0       0.0   \n",
       "170             Greg       3.3   3206.0       1.0  1.0       0.0   \n",
       "177         Marshall       3.3   3206.0       1.0  0.0       0.0   \n",
       "181         Chisholm       3.3   3206.0       3.0  1.0       0.0   \n",
       "192           Buxton       3.3   3206.0       3.0  1.0       0.0   \n",
       "206          McGrath       6.4   3078.0       1.0  1.0       0.0   \n",
       "217           Nelson       6.4   3078.0       1.0  1.0       0.0   \n",
       "218            Brace       6.4   3078.0       1.0  0.0       0.0   \n",
       "219             Love       6.4   3078.0       1.0  1.0       0.0   \n",
       "249             Greg      13.8   3018.0       1.0  1.0       0.0   \n",
       "250    hockingstuart      13.8   3018.0       1.0  1.0       0.0   \n",
       "295             Greg      11.1   3025.0       2.0  1.0       0.0   \n",
       "365           Jellis       6.3   3143.0       1.0  1.0       0.0   \n",
       "367         Marshall       6.3   3143.0       2.0  2.0       0.0   \n",
       "372           Biggin       6.3   3143.0       1.0  0.0       0.0   \n",
       "377    hockingstuart       6.3   3143.0       1.0  2.0       0.0   \n",
       "380           Jellis       6.3   3143.0       2.0  2.0       0.0   \n",
       "...              ...       ...      ...       ...  ...       ...   \n",
       "19324  hockingstuart       4.0   3057.0       1.0  1.0       0.0   \n",
       "19328         Nelson       5.2   3055.0       2.0  1.0       0.0   \n",
       "19370            Ray       3.6   3068.0       1.0  1.0       0.0   \n",
       "19430       Chisholm       7.2   3184.0       2.0  2.0       0.0   \n",
       "19432        McGrath       7.2   3184.0       1.0  1.0       0.0   \n",
       "19446         Nelson       7.5   3040.0       1.0  1.0       0.0   \n",
       "19459            Jas       5.1   3011.0       1.0  1.0       0.0   \n",
       "19463         Buxton      38.0   3199.0       1.0  1.0       0.0   \n",
       "19469       Woodards      10.1   3163.0       1.0  1.0       0.0   \n",
       "19492            R&H       5.3   3122.0       1.0  1.0       0.0   \n",
       "19495         Jellis       6.2   3123.0       1.0  1.0       0.0   \n",
       "19532            Jas       6.4   3012.0       1.0  1.0       0.0   \n",
       "19555      Harcourts       0.0   3000.0       1.0  0.0       0.0   \n",
       "19559        Thomson      20.0   3194.0       1.0  1.0       0.0   \n",
       "19574          Barry      21.5   3195.0       1.0  1.0       0.0   \n",
       "19589        Thomson      10.1   3163.0       1.0  1.0       0.0   \n",
       "19607         Hodges      11.2   3046.0       1.0  1.0       0.0   \n",
       "19645  hockingstuart       2.4   3121.0       1.0  1.0       0.0   \n",
       "19646       Marshall       2.4   3121.0       1.0  1.0       0.0   \n",
       "19647         Biggin       2.4   3121.0       1.0  2.0       0.0   \n",
       "19650  hockingstuart       2.4   3121.0       1.0  1.0       0.0   \n",
       "19664             RT      11.0   3018.0       1.0  0.0       0.0   \n",
       "19678            Ray       2.7   3141.0       1.0  1.0       0.0   \n",
       "19679         Jellis       2.7   3141.0       1.0  1.0       0.0   \n",
       "19684  hockingstuart       5.0   3182.0       1.0  1.0       0.0   \n",
       "19685  hockingstuart       5.0   3182.0       1.0  1.0       0.0   \n",
       "19696  hockingstuart      10.2   3127.0       2.0  2.0       0.0   \n",
       "19710          Jason      12.9   3043.0       1.0  1.0       0.0   \n",
       "19734       Williams       6.8   3016.0       1.0  1.0       0.0   \n",
       "19736  hockingstuart       4.6   3181.0       1.0  1.0       0.0   \n",
       "\n",
       "                      CouncilArea  Lattitude  Longtitude  \\\n",
       "17             Yarra City Council  -37.80080   144.99730   \n",
       "23             Yarra City Council  -37.81100   145.00670   \n",
       "25             Yarra City Council  -37.80780   144.99650   \n",
       "29             Yarra City Council  -37.80160   144.99880   \n",
       "40             Yarra City Council  -37.80930   144.99590   \n",
       "42             Yarra City Council  -37.80150   144.99720   \n",
       "48             Yarra City Council  -37.80160   144.99880   \n",
       "50             Yarra City Council  -37.80780   144.99650   \n",
       "53             Yarra City Council  -37.79940   144.99650   \n",
       "57             Yarra City Council  -37.80550   144.99610   \n",
       "67     Moonee Valley City Council  -37.72030   144.87550   \n",
       "68     Moonee Valley City Council  -37.72030   144.87550   \n",
       "88     Moonee Valley City Council  -37.72170   144.87830   \n",
       "155     Port Phillip City Council  -37.84510   144.95110   \n",
       "170     Port Phillip City Council  -37.84600   144.95420   \n",
       "177     Port Phillip City Council  -37.84210   144.95170   \n",
       "181     Port Phillip City Council  -37.84150   144.95850   \n",
       "192     Port Phillip City Council  -37.83990   144.95770   \n",
       "206          Darebin City Council  -37.77730   145.03140   \n",
       "217          Darebin City Council  -37.77730   145.03140   \n",
       "218          Darebin City Council  -37.78480   145.02500   \n",
       "219          Darebin City Council  -37.78050   145.02620   \n",
       "249      Hobsons Bay City Council  -37.86780   144.83840   \n",
       "250      Hobsons Bay City Council  -37.86590   144.83100   \n",
       "295      Hobsons Bay City Council  -37.83790   144.85830   \n",
       "365      Stonnington City Council  -37.85430   145.02620   \n",
       "367      Stonnington City Council  -37.85520   145.01600   \n",
       "372      Stonnington City Council  -37.85300   145.01670   \n",
       "377      Stonnington City Council  -37.85380   145.01270   \n",
       "380      Stonnington City Council  -37.85370   145.02670   \n",
       "...                           ...        ...         ...   \n",
       "19324       Moreland City Council  -37.77887   144.97797   \n",
       "19328       Moreland City Council  -37.75201   144.93360   \n",
       "19370          Yarra City Council  -37.78791   145.00588   \n",
       "19430   Port Phillip City Council  -37.87472   144.98235   \n",
       "19432   Port Phillip City Council  -37.88465   144.99177   \n",
       "19446  Moonee Valley City Council  -37.75465   144.91070   \n",
       "19459    Maribyrnong City Council  -37.80474   144.90210   \n",
       "19463      Frankston City Council  -38.13275   145.13099   \n",
       "19469      Glen Eira City Council  -37.88937   145.04038   \n",
       "19492     Boroondara City Council  -37.83197   145.04306   \n",
       "19495     Boroondara City Council  -37.82465   145.05092   \n",
       "19532    Maribyrnong City Council  -37.80893   144.87878   \n",
       "19555      Melbourne City Council  -37.81351   144.96908   \n",
       "19559       Kingston City Council  -37.97836   145.07303   \n",
       "19574       Kingston City Council  -38.00765   145.09350   \n",
       "19589      Glen Eira City Council  -37.89022   145.07333   \n",
       "19607       Moreland City Council  -37.71652   144.92268   \n",
       "19645          Yarra City Council  -37.82110   144.99896   \n",
       "19646          Yarra City Council  -37.81317   145.00834   \n",
       "19647          Yarra City Council  -37.83305   144.99745   \n",
       "19650          Yarra City Council  -37.82328   144.99203   \n",
       "19664    Hobsons Bay City Council  -37.86007   144.84578   \n",
       "19678      Melbourne City Council  -37.84679   145.00206   \n",
       "19679      Melbourne City Council  -37.83631   145.00181   \n",
       "19684   Port Phillip City Council  -37.85984   144.98670   \n",
       "19685   Port Phillip City Council  -37.85911   144.97900   \n",
       "19696     Boroondara City Council  -37.83358   145.09884   \n",
       "19710       Brimbank City Council  -37.69815   144.88019   \n",
       "19734    Hobsons Bay City Council  -37.85588   144.89936   \n",
       "19736   Port Phillip City Council  -37.85581   144.99025   \n",
       "\n",
       "                       Regionname  Propertycount  Year  Season AgeType  \n",
       "17          Northern Metropolitan         4019.0  2016  Summer  Modern  \n",
       "23          Northern Metropolitan         4019.0  2016    Fall  Modern  \n",
       "25          Northern Metropolitan         4019.0  2016    Fall  Modern  \n",
       "29          Northern Metropolitan         4019.0  2016  Spring  Modern  \n",
       "40          Northern Metropolitan         4019.0  2017  Winter  Modern  \n",
       "42          Northern Metropolitan         4019.0  2016  Spring     Old  \n",
       "48          Northern Metropolitan         4019.0  2016  Summer  Modern  \n",
       "50          Northern Metropolitan         4019.0  2016  Summer  Modern  \n",
       "53          Northern Metropolitan         4019.0  2016    Fall  Modern  \n",
       "57          Northern Metropolitan         4019.0  2016  Summer  Modern  \n",
       "67           Western Metropolitan         3464.0  2016  Winter     Old  \n",
       "68           Western Metropolitan         3464.0  2017  Spring     Old  \n",
       "88           Western Metropolitan         3464.0  2016    Fall     Old  \n",
       "155         Southern Metropolitan         3280.0  2016    Fall  Modern  \n",
       "170         Southern Metropolitan         3280.0  2016  Spring  Modern  \n",
       "177         Southern Metropolitan         3280.0  2017  Winter     Old  \n",
       "181         Southern Metropolitan         3280.0  2016  Summer  Modern  \n",
       "192         Southern Metropolitan         3280.0  2016  Summer  Modern  \n",
       "206         Northern Metropolitan         2211.0  2016    Fall  Modern  \n",
       "217         Northern Metropolitan         2211.0  2016  Spring     Old  \n",
       "218         Northern Metropolitan         2211.0  2016    Fall  Modern  \n",
       "219         Northern Metropolitan         2211.0  2017  Winter     Old  \n",
       "249          Western Metropolitan         5301.0  2017    Fall     Old  \n",
       "250          Western Metropolitan         5301.0  2017    Fall  Modern  \n",
       "295          Western Metropolitan         5132.0  2016  Spring  Modern  \n",
       "365         Southern Metropolitan         4836.0  2016  Winter     Old  \n",
       "367         Southern Metropolitan         4836.0  2016  Winter  Modern  \n",
       "372         Southern Metropolitan         4836.0  2016  Winter  Modern  \n",
       "377         Southern Metropolitan         4836.0  2017  Spring  Modern  \n",
       "380         Southern Metropolitan         4836.0  2017  Spring  Modern  \n",
       "...                           ...            ...   ...     ...     ...  \n",
       "19324       Northern Metropolitan         5533.0  2017  Summer  Modern  \n",
       "19328       Northern Metropolitan         7082.0  2017  Summer  Modern  \n",
       "19370       Northern Metropolitan         2954.0  2017  Summer     Old  \n",
       "19430       Southern Metropolitan         8989.0  2017  Summer  Modern  \n",
       "19432       Southern Metropolitan         8989.0  2017  Summer  Modern  \n",
       "19446        Western Metropolitan         9264.0  2017  Summer  Modern  \n",
       "19459        Western Metropolitan         7570.0  2017  Summer     Old  \n",
       "19463  South-Eastern Metropolitan        17055.0  2017  Summer     Old  \n",
       "19469       Southern Metropolitan         2403.0  2017  Summer  Modern  \n",
       "19492       Southern Metropolitan        11308.0  2017  Summer  Modern  \n",
       "19495       Southern Metropolitan         6482.0  2017  Summer     Old  \n",
       "19532        Western Metropolitan         1808.0  2017  Summer  Modern  \n",
       "19555       Northern Metropolitan        17496.0  2017  Summer     Old  \n",
       "19559  South-Eastern Metropolitan         6162.0  2017  Summer  Modern  \n",
       "19574  South-Eastern Metropolitan         3650.0  2017  Summer     Old  \n",
       "19589       Southern Metropolitan         4442.0  2017  Summer     Old  \n",
       "19607       Northern Metropolitan         2651.0  2017  Summer  Modern  \n",
       "19645       Northern Metropolitan        14949.0  2017  Summer  Modern  \n",
       "19646       Northern Metropolitan        14949.0  2017  Summer     Old  \n",
       "19647       Northern Metropolitan        14949.0  2017  Summer  Modern  \n",
       "19650       Northern Metropolitan        14949.0  2017  Summer  Modern  \n",
       "19664        Western Metropolitan          852.0  2017  Summer  Modern  \n",
       "19678       Southern Metropolitan        14887.0  2017  Summer     Old  \n",
       "19679       Southern Metropolitan        14887.0  2017  Summer  Modern  \n",
       "19684       Southern Metropolitan        13240.0  2017  Summer     Old  \n",
       "19685       Southern Metropolitan        13240.0  2017  Summer     Old  \n",
       "19696       Southern Metropolitan         5457.0  2017  Summer  Modern  \n",
       "19710        Western Metropolitan         3296.0  2017  Summer  Modern  \n",
       "19734        Western Metropolitan         6380.0  2017  Summer     Old  \n",
       "19736       Southern Metropolitan         4380.0  2017  Summer  Modern  \n",
       "\n",
       "[1944 rows x 20 columns]"
      ]
     },
     "execution_count": 25,
     "metadata": {},
     "output_type": "execute_result"
    }
   ],
   "source": [
    "df_clean[df_clean['Landsize'] < 10]"
   ]
  },
  {
   "cell_type": "markdown",
   "metadata": {},
   "source": [
    "### Removing the outliers"
   ]
  },
  {
   "cell_type": "code",
   "execution_count": 26,
   "metadata": {},
   "outputs": [],
   "source": [
    "df_clean = df_clean[df_clean['Landsize'] > 10]"
   ]
  },
  {
   "cell_type": "markdown",
   "metadata": {},
   "source": [
    "Landsizes cannot be so small and there seems to be some error. As, such values account for less number of data, they can be removed"
   ]
  },
  {
   "cell_type": "markdown",
   "metadata": {},
   "source": [
    "### Sampling and segregating data"
   ]
  },
  {
   "cell_type": "code",
   "execution_count": 27,
   "metadata": {},
   "outputs": [],
   "source": [
    "df_clean = pd.DataFrame.sample(df_clean, 5000, random_state=1000)\n",
    "df_target = df_clean.Price\n",
    "df_target = pd.DataFrame(df_target)\n",
    "df_data = df_clean.drop(['Price'],axis=1)\n",
    "df_num = df_data.select_dtypes(include=['int64','float64'])\n",
    "df_cat = df_data.select_dtypes(include='category')"
   ]
  },
  {
   "cell_type": "markdown",
   "metadata": {},
   "source": [
    "### Final null check:"
   ]
  },
  {
   "cell_type": "code",
   "execution_count": 28,
   "metadata": {},
   "outputs": [
    {
     "data": {
      "text/plain": [
       "Suburb           0.0\n",
       "Address          0.0\n",
       "Rooms            0.0\n",
       "Type             0.0\n",
       "Price            0.0\n",
       "Method           0.0\n",
       "SellerG          0.0\n",
       "Distance         0.0\n",
       "Postcode         0.0\n",
       "Bathroom         0.0\n",
       "Car              0.0\n",
       "Landsize         0.0\n",
       "CouncilArea      0.0\n",
       "Lattitude        0.0\n",
       "Longtitude       0.0\n",
       "Regionname       0.0\n",
       "Propertycount    0.0\n",
       "Year             0.0\n",
       "Season           0.0\n",
       "AgeType          0.0\n",
       "dtype: float64"
      ]
     },
     "execution_count": 28,
     "metadata": {},
     "output_type": "execute_result"
    }
   ],
   "source": [
    "df_clean.isnull().sum()/len(df_clean)*100"
   ]
  },
  {
   "cell_type": "code",
   "execution_count": 29,
   "metadata": {},
   "outputs": [
    {
     "data": {
      "text/html": [
       "<div>\n",
       "<style scoped>\n",
       "    .dataframe tbody tr th:only-of-type {\n",
       "        vertical-align: middle;\n",
       "    }\n",
       "\n",
       "    .dataframe tbody tr th {\n",
       "        vertical-align: top;\n",
       "    }\n",
       "\n",
       "    .dataframe thead th {\n",
       "        text-align: right;\n",
       "    }\n",
       "</style>\n",
       "<table border=\"1\" class=\"dataframe\">\n",
       "  <thead>\n",
       "    <tr style=\"text-align: right;\">\n",
       "      <th></th>\n",
       "      <th>count</th>\n",
       "      <th>mean</th>\n",
       "      <th>std</th>\n",
       "      <th>min</th>\n",
       "      <th>25%</th>\n",
       "      <th>50%</th>\n",
       "      <th>75%</th>\n",
       "      <th>max</th>\n",
       "    </tr>\n",
       "  </thead>\n",
       "  <tbody>\n",
       "    <tr>\n",
       "      <th>Rooms</th>\n",
       "      <td>5000.0</td>\n",
       "      <td>3.189200</td>\n",
       "      <td>0.882020</td>\n",
       "      <td>1.00000</td>\n",
       "      <td>3.000000</td>\n",
       "      <td>3.000000</td>\n",
       "      <td>4.000000</td>\n",
       "      <td>12.00000</td>\n",
       "    </tr>\n",
       "    <tr>\n",
       "      <th>Distance</th>\n",
       "      <td>5000.0</td>\n",
       "      <td>11.714800</td>\n",
       "      <td>6.664902</td>\n",
       "      <td>0.70000</td>\n",
       "      <td>7.200000</td>\n",
       "      <td>11.000000</td>\n",
       "      <td>14.500000</td>\n",
       "      <td>47.40000</td>\n",
       "    </tr>\n",
       "    <tr>\n",
       "      <th>Bathroom</th>\n",
       "      <td>5000.0</td>\n",
       "      <td>1.634400</td>\n",
       "      <td>0.715569</td>\n",
       "      <td>0.00000</td>\n",
       "      <td>1.000000</td>\n",
       "      <td>2.000000</td>\n",
       "      <td>2.000000</td>\n",
       "      <td>9.00000</td>\n",
       "    </tr>\n",
       "    <tr>\n",
       "      <th>Car</th>\n",
       "      <td>5000.0</td>\n",
       "      <td>1.776400</td>\n",
       "      <td>1.055190</td>\n",
       "      <td>0.00000</td>\n",
       "      <td>1.000000</td>\n",
       "      <td>2.000000</td>\n",
       "      <td>2.000000</td>\n",
       "      <td>18.00000</td>\n",
       "    </tr>\n",
       "    <tr>\n",
       "      <th>Landsize</th>\n",
       "      <td>5000.0</td>\n",
       "      <td>657.184000</td>\n",
       "      <td>2725.078209</td>\n",
       "      <td>14.00000</td>\n",
       "      <td>304.000000</td>\n",
       "      <td>552.000000</td>\n",
       "      <td>678.000000</td>\n",
       "      <td>146699.00000</td>\n",
       "    </tr>\n",
       "    <tr>\n",
       "      <th>Lattitude</th>\n",
       "      <td>5000.0</td>\n",
       "      <td>-37.803080</td>\n",
       "      <td>0.092237</td>\n",
       "      <td>-38.17095</td>\n",
       "      <td>-37.859200</td>\n",
       "      <td>-37.795535</td>\n",
       "      <td>-37.743093</td>\n",
       "      <td>-37.41953</td>\n",
       "    </tr>\n",
       "    <tr>\n",
       "      <th>Longtitude</th>\n",
       "      <td>5000.0</td>\n",
       "      <td>144.993136</td>\n",
       "      <td>0.124814</td>\n",
       "      <td>144.43940</td>\n",
       "      <td>144.914885</td>\n",
       "      <td>145.001845</td>\n",
       "      <td>145.072900</td>\n",
       "      <td>145.47282</td>\n",
       "    </tr>\n",
       "    <tr>\n",
       "      <th>Propertycount</th>\n",
       "      <td>5000.0</td>\n",
       "      <td>7405.466600</td>\n",
       "      <td>4361.927007</td>\n",
       "      <td>249.00000</td>\n",
       "      <td>4242.000000</td>\n",
       "      <td>6482.000000</td>\n",
       "      <td>10331.000000</td>\n",
       "      <td>21650.00000</td>\n",
       "    </tr>\n",
       "  </tbody>\n",
       "</table>\n",
       "</div>"
      ],
      "text/plain": [
       "                count         mean          std        min          25%  \\\n",
       "Rooms          5000.0     3.189200     0.882020    1.00000     3.000000   \n",
       "Distance       5000.0    11.714800     6.664902    0.70000     7.200000   \n",
       "Bathroom       5000.0     1.634400     0.715569    0.00000     1.000000   \n",
       "Car            5000.0     1.776400     1.055190    0.00000     1.000000   \n",
       "Landsize       5000.0   657.184000  2725.078209   14.00000   304.000000   \n",
       "Lattitude      5000.0   -37.803080     0.092237  -38.17095   -37.859200   \n",
       "Longtitude     5000.0   144.993136     0.124814  144.43940   144.914885   \n",
       "Propertycount  5000.0  7405.466600  4361.927007  249.00000  4242.000000   \n",
       "\n",
       "                       50%           75%           max  \n",
       "Rooms             3.000000      4.000000      12.00000  \n",
       "Distance         11.000000     14.500000      47.40000  \n",
       "Bathroom          2.000000      2.000000       9.00000  \n",
       "Car               2.000000      2.000000      18.00000  \n",
       "Landsize        552.000000    678.000000  146699.00000  \n",
       "Lattitude       -37.795535    -37.743093     -37.41953  \n",
       "Longtitude      145.001845    145.072900     145.47282  \n",
       "Propertycount  6482.000000  10331.000000   21650.00000  "
      ]
     },
     "execution_count": 29,
     "metadata": {},
     "output_type": "execute_result"
    }
   ],
   "source": [
    "df_data.describe().transpose()"
   ]
  },
  {
   "cell_type": "markdown",
   "metadata": {},
   "source": [
    "### Graphs"
   ]
  },
  {
   "cell_type": "markdown",
   "metadata": {},
   "source": [
    "Price Distibution:"
   ]
  },
  {
   "cell_type": "code",
   "execution_count": 30,
   "metadata": {},
   "outputs": [
    {
     "name": "stderr",
     "output_type": "stream",
     "text": [
      "C:\\Users\\somen\\Anaconda3\\lib\\site-packages\\scipy\\stats\\stats.py:1713: FutureWarning: Using a non-tuple sequence for multidimensional indexing is deprecated; use `arr[tuple(seq)]` instead of `arr[seq]`. In the future this will be interpreted as an array index, `arr[np.array(seq)]`, which will result either in an error or a different result.\n",
      "  return np.add.reduce(sorted[indexer] * weights, axis=axis) / sumval\n"
     ]
    },
    {
     "data": {
      "text/plain": [
       "<matplotlib.axes._subplots.AxesSubplot at 0x210fe5c5d88>"
      ]
     },
     "execution_count": 30,
     "metadata": {},
     "output_type": "execute_result"
    },
    {
     "data": {
      "image/png": "[encoded data removed]",
      "text/plain": [
       "<Figure size 432x288 with 1 Axes>"
      ]
     },
     "metadata": {
      "needs_background": "light"
     },
     "output_type": "display_data"
    }
   ],
   "source": [
    "sns.distplot(df_clean['Price'])"
   ]
  },
  {
   "cell_type": "markdown",
   "metadata": {},
   "source": [
    "### Log transformation as the data for Price is skewed"
   ]
  },
  {
   "cell_type": "code",
   "execution_count": 31,
   "metadata": {},
   "outputs": [],
   "source": [
    "main_price = df_clean.Price\n",
    "df_target['lnPrice'] = np.log(df_target.Price)\n",
    "df_target = df_target.drop(['Price'], axis=1)"
   ]
  },
  {
   "cell_type": "markdown",
   "metadata": {},
   "source": [
    "Comparision Graphs:"
   ]
  },
  {
   "cell_type": "code",
   "execution_count": 32,
   "metadata": {},
   "outputs": [
    {
     "data": {
      "image/png": "[encoded data removed]",
      "text/plain": [
       "<Figure size 1440x1440 with 4 Axes>"
      ]
     },
     "metadata": {
      "needs_background": "light"
     },
     "output_type": "display_data"
    }
   ],
   "source": [
    "fig,axis = plt.subplots(2,2,figsize=[20,20])\n",
    "sns.distplot( df_target['lnPrice'],ax=axis[0,0] )\n",
    "axis[0,0].set_xlabel('Price')\n",
    "axis[0,0].set_ylabel('Distribution')\n",
    "axis[0,0].set_title('Price Distribution')\n",
    "\n",
    "sns.boxplot(x='Season',y='Price',data=df_clean ,ax=axis[0,1])\n",
    "axis[0,1].set_xlabel('Season')\n",
    "axis[0,1].set_ylabel('Price')\n",
    "axis[0,1].set_title('Price vs Season')\n",
    "\n",
    "sns.boxplot(x='Bathroom',y='Price',data=df_clean ,ax=axis[1,0])\n",
    "axis[1,0].set_xlabel('Bathroom')\n",
    "axis[1,0].set_ylabel('Price')\n",
    "axis[1,0].set_title('Price vs Bathroom')\n",
    "\n",
    "sns.boxplot( x='Type',y='Price',data=df_clean ,ax=axis[1,1])\n",
    "axis[1,1].set_xlabel('Type')\n",
    "axis[1,1].set_ylabel('Price')\n",
    "axis[1,1].set_title('Price vs Type')\n",
    "plt.show()"
   ]
  },
  {
   "cell_type": "markdown",
   "metadata": {},
   "source": [
    "Correlation Matrix:"
   ]
  },
  {
   "cell_type": "code",
   "execution_count": 33,
   "metadata": {},
   "outputs": [
    {
     "data": {
      "text/plain": [
       "<matplotlib.axes._subplots.AxesSubplot at 0x210fe531208>"
      ]
     },
     "execution_count": 33,
     "metadata": {},
     "output_type": "execute_result"
    },
    {
     "data": {
      "image/png": "[encoded data removed]",
      "text/plain": [
       "<Figure size 720x360 with 2 Axes>"
      ]
     },
     "metadata": {
      "needs_background": "light"
     },
     "output_type": "display_data"
    }
   ],
   "source": [
    "plt.figure(figsize=(10,5))\n",
    "sns.heatmap(df_clean.corr(),linewidth = 1,annot= True)"
   ]
  },
  {
   "cell_type": "markdown",
   "metadata": {},
   "source": [
    "After Careful analysis of the features and their correlation matrices,\n",
    "we can see that all the features in the data are not correlated.\n",
    "\n",
    "If there was highly correlated data, it would have provided same information and would not be helpful in developing machine learning models."
   ]
  },
  {
   "cell_type": "markdown",
   "metadata": {},
   "source": [
    "### Removing non-important categorical columns"
   ]
  },
  {
   "cell_type": "code",
   "execution_count": 34,
   "metadata": {},
   "outputs": [],
   "source": [
    "df_cat = df_cat.drop(['Suburb','Address','SellerG','Method','Postcode','CouncilArea','Regionname'],axis=1)"
   ]
  },
  {
   "cell_type": "markdown",
   "metadata": {},
   "source": [
    "### Hot encoding the data"
   ]
  },
  {
   "cell_type": "code",
   "execution_count": 35,
   "metadata": {},
   "outputs": [],
   "source": [
    "encoded_data = pd.get_dummies(df_cat[df_cat.columns])"
   ]
  },
  {
   "cell_type": "markdown",
   "metadata": {},
   "source": [
    "### Creating the final dataset for the model"
   ]
  },
  {
   "cell_type": "code",
   "execution_count": 36,
   "metadata": {},
   "outputs": [],
   "source": [
    "df_data = pd.concat([df_num, encoded_data], axis = 1)"
   ]
  },
  {
   "cell_type": "markdown",
   "metadata": {},
   "source": [
    "### Splitting the data in test and train"
   ]
  },
  {
   "cell_type": "code",
   "execution_count": 37,
   "metadata": {},
   "outputs": [],
   "source": [
    "X_train, X_test, y_train, y_test = train_test_split(df_data,df_target, test_size = .30, random_state=1000)"
   ]
  },
  {
   "cell_type": "markdown",
   "metadata": {},
   "source": [
    "### Polynomial Featuring"
   ]
  },
  {
   "cell_type": "markdown",
   "metadata": {},
   "source": [
    "Generate polynomial and interaction features"
   ]
  },
  {
   "cell_type": "code",
   "execution_count": 38,
   "metadata": {},
   "outputs": [],
   "source": [
    "pol = PolynomialFeatures(2)\n",
    "X_pol_num = pol.fit_transform(df_data[df_num.columns])\n",
    "X_pol = np.concatenate((X_pol_num, encoded_data.values), axis=1)\n",
    "\n",
    "X_pol_train, X_pol_test, y_pol_train,y_pol_test = train_test_split(X_pol, df_target, test_size = .30, random_state=1000)"
   ]
  },
  {
   "cell_type": "markdown",
   "metadata": {},
   "source": [
    "### Scaling"
   ]
  },
  {
   "cell_type": "markdown",
   "metadata": {},
   "source": [
    "Normalizing the range of the data"
   ]
  },
  {
   "cell_type": "markdown",
   "metadata": {},
   "source": [
    "Standardscaler:\n",
    "It assumes that data has normally distributed features and will scale them to zero mean and 1 standard deviation.\n",
    " After applying the scaler all features will be of same scale .\n",
    "Minmaxscaler shrinks the data within the range of -1 to 1(if there are negative values)"
   ]
  },
  {
   "cell_type": "code",
   "execution_count": 39,
   "metadata": {},
   "outputs": [],
   "source": [
    "scale = StandardScaler()\n",
    "scale.fit(X_train)\n",
    "X_train_sl = scale.transform(X_train)\n",
    "X_test_sl = scale.transform(X_test)\n",
    "X_train_sl = pd.DataFrame(X_train_sl, columns=X_train.columns.values)\n",
    "X_test_sl = pd.DataFrame(X_test_sl, columns=X_test.columns.values)"
   ]
  },
  {
   "cell_type": "markdown",
   "metadata": {},
   "source": [
    "Scaling polynomial dataset"
   ]
  },
  {
   "cell_type": "code",
   "execution_count": 40,
   "metadata": {},
   "outputs": [],
   "source": [
    "scale = StandardScaler()\n",
    "scale.fit(X_pol_train)\n",
    "X_pol_train = scale.transform(X_pol_train)\n",
    "X_pol_test = scale.transform(X_pol_test)"
   ]
  },
  {
   "cell_type": "markdown",
   "metadata": {},
   "source": [
    "### Creating a loop to run all the models"
   ]
  },
  {
   "cell_type": "code",
   "execution_count": 41,
   "metadata": {},
   "outputs": [
    {
     "name": "stderr",
     "output_type": "stream",
     "text": [
      "C:\\Users\\somen\\Anaconda3\\lib\\site-packages\\sklearn\\utils\\validation.py:578: DataConversionWarning: A column-vector y was passed when a 1d array was expected. Please change the shape of y to (n_samples, ), for example using ravel().\n",
      "  y = column_or_1d(y, warn=True)\n"
     ]
    },
    {
     "name": "stdout",
     "output_type": "stream",
     "text": [
      "Datatype: default_df\n",
      "Model: SVR\n",
      "Parameter(optimum): {'C': 10, 'epsilon': 0.01, 'gamma': 0.01, 'kernel': 'rbf'}\n",
      "Cross-validation score: 0.77\n",
      "\n",
      "\n",
      "\n",
      "Datatype: default_df\n",
      "Model: KNN-Reg\n",
      "Parameter(optimum): {'n_neighbors': 6}\n",
      "Cross-validation score: 0.61\n",
      "\n",
      "\n",
      "\n",
      "Datatype: default_df\n",
      "Model: Linear-Reg\n",
      "Parameter(optimum): {}\n",
      "Cross-validation score: 0.65\n",
      "\n",
      "\n",
      "\n",
      "Datatype: default_df\n",
      "Model: Lasso-Reg\n",
      "Parameter(optimum): {'alpha': 0.01}\n",
      "Cross-validation score: 0.64\n",
      "\n",
      "\n",
      "\n",
      "Datatype: default_df\n",
      "Model: Ridge-Reg\n",
      "Parameter(optimum): {'alpha': 20}\n",
      "Cross-validation score: 0.65\n",
      "\n",
      "\n",
      "\n"
     ]
    },
    {
     "name": "stderr",
     "output_type": "stream",
     "text": [
      "C:\\Users\\somen\\Anaconda3\\lib\\site-packages\\sklearn\\utils\\validation.py:578: DataConversionWarning: A column-vector y was passed when a 1d array was expected. Please change the shape of y to (n_samples, ), for example using ravel().\n",
      "  y = column_or_1d(y, warn=True)\n"
     ]
    },
    {
     "name": "stdout",
     "output_type": "stream",
     "text": [
      "Datatype: poly_df\n",
      "Model: SVR\n",
      "Parameter(optimum): {'C': 1, 'epsilon': 0.01, 'gamma': 0.01, 'kernel': 'rbf'}\n",
      "Cross-validation score: 0.78\n",
      "\n",
      "\n",
      "\n",
      "Datatype: poly_df\n",
      "Model: KNN-Reg\n",
      "Parameter(optimum): {'n_neighbors': 10}\n",
      "Cross-validation score: 0.65\n",
      "\n",
      "\n",
      "\n",
      "Datatype: poly_df\n",
      "Model: Linear-Reg\n",
      "Parameter(optimum): {}\n",
      "Cross-validation score: 0.01\n",
      "\n",
      "\n",
      "\n"
     ]
    },
    {
     "name": "stderr",
     "output_type": "stream",
     "text": [
      "C:\\Users\\somen\\Anaconda3\\lib\\site-packages\\sklearn\\linear_model\\coordinate_descent.py:491: ConvergenceWarning: Objective did not converge. You might want to increase the number of iterations. Fitting data with very small alpha may cause precision problems.\n",
      "  ConvergenceWarning)\n"
     ]
    },
    {
     "name": "stdout",
     "output_type": "stream",
     "text": [
      "Datatype: poly_df\n",
      "Model: Lasso-Reg\n",
      "Parameter(optimum): {'alpha': 0.01}\n",
      "Cross-validation score: 0.65\n",
      "\n",
      "\n",
      "\n",
      "Datatype: poly_df\n",
      "Model: Ridge-Reg\n",
      "Parameter(optimum): {'alpha': 100}\n",
      "Cross-validation score: 0.67\n",
      "\n",
      "\n",
      "\n"
     ]
    }
   ],
   "source": [
    "input_df = {\n",
    "    \"default_df\": {\"X_train\": X_train_sl, \"X_test\": X_test_sl},\n",
    "    \"poly_df\": {\"X_train\": X_pol_train, \"X_test\": X_pol_test}\n",
    "}\n",
    "\n",
    "mods = {\n",
    "        \"SVR\": SVR(),\n",
    "        \"KNN-Reg\": KNeighborsRegressor(),\n",
    "        \"Linear-Reg\": LinearRegression(),\n",
    "        \"Lasso-Reg\": linear_model.Lasso(),\n",
    "        \"Ridge-Reg\": linear_model.Ridge(),\n",
    "        }\n",
    "\n",
    "par = {\n",
    "        \"SVR\": {'C': [0.01, 0.1, 1, 10],'gamma': [0.01, 0.1, 1, 10],'epsilon': [0.01, 0.1, 1],'kernel': ['rbf']},\n",
    "        \"KNN-Reg\": {'n_neighbors': [3, 4, 5, 6, 7, 8, 9, 10]},\n",
    "        \"Linear-Reg\": {},\n",
    "        \"Lasso-Reg\": {\"alpha\": [0.01, 0.1, 1, 10]},\n",
    "        \"Ridge-Reg\": {\"alpha\": [0.01, 0.1, 1, 10, 20, 50, 100, 200, 500]},\n",
    "        \"Linear SVM\": {},\n",
    "        }\n",
    "\n",
    "best_est = {}\n",
    "\n",
    "for datatype, data in input_df.items():\n",
    "    X_train = data[\"X_train\"]\n",
    "    X_test = data[\"X_test\"]\n",
    "    \n",
    "    for model_name, model in mods.items():\n",
    "        grid_search = GridSearchCV(model, par[model_name], cv=3, n_jobs=-1)\n",
    "        grid_search.fit(X_train, y_train)\n",
    "\n",
    "        print(\"Datatype:\", datatype)\n",
    "        print(\"Model:\", model_name)\n",
    "        print(\"Parameter(optimum): {}\".format(grid_search.best_params_))\n",
    "        print(\"Cross-validation score: {:.2f}\".format(grid_search.best_score_))\n",
    "        \n",
    "        best_est.setdefault(model_name, {})\n",
    "        best_est[model_name].setdefault(\"estimators\", {})\n",
    "        best_est[model_name][\"estimators\"][datatype] = grid_search.best_estimator_\n",
    "        print(\"\\n\\n\")"
   ]
  },
  {
   "cell_type": "markdown",
   "metadata": {},
   "source": [
    "### Viewing the best estimators for the dataset"
   ]
  },
  {
   "cell_type": "code",
   "execution_count": 42,
   "metadata": {},
   "outputs": [
    {
     "data": {
      "text/plain": [
       "{'SVR': {'estimators': {'default_df': SVR(C=10, cache_size=200, coef0=0.0, degree=3, epsilon=0.01, gamma=0.01,\n",
       "     kernel='rbf', max_iter=-1, shrinking=True, tol=0.001, verbose=False),\n",
       "   'poly_df': SVR(C=1, cache_size=200, coef0=0.0, degree=3, epsilon=0.01, gamma=0.01,\n",
       "     kernel='rbf', max_iter=-1, shrinking=True, tol=0.001, verbose=False)}},\n",
       " 'KNN-Reg': {'estimators': {'default_df': KNeighborsRegressor(algorithm='auto', leaf_size=30, metric='minkowski',\n",
       "             metric_params=None, n_jobs=1, n_neighbors=6, p=2,\n",
       "             weights='uniform'),\n",
       "   'poly_df': KNeighborsRegressor(algorithm='auto', leaf_size=30, metric='minkowski',\n",
       "             metric_params=None, n_jobs=1, n_neighbors=10, p=2,\n",
       "             weights='uniform')}},\n",
       " 'Linear-Reg': {'estimators': {'default_df': LinearRegression(copy_X=True, fit_intercept=True, n_jobs=1, normalize=False),\n",
       "   'poly_df': LinearRegression(copy_X=True, fit_intercept=True, n_jobs=1, normalize=False)}},\n",
       " 'Lasso-Reg': {'estimators': {'default_df': Lasso(alpha=0.01, copy_X=True, fit_intercept=True, max_iter=1000,\n",
       "      normalize=False, positive=False, precompute=False, random_state=None,\n",
       "      selection='cyclic', tol=0.0001, warm_start=False),\n",
       "   'poly_df': Lasso(alpha=0.01, copy_X=True, fit_intercept=True, max_iter=1000,\n",
       "      normalize=False, positive=False, precompute=False, random_state=None,\n",
       "      selection='cyclic', tol=0.0001, warm_start=False)}},\n",
       " 'Ridge-Reg': {'estimators': {'default_df': Ridge(alpha=20, copy_X=True, fit_intercept=True, max_iter=None,\n",
       "      normalize=False, random_state=None, solver='auto', tol=0.001),\n",
       "   'poly_df': Ridge(alpha=100, copy_X=True, fit_intercept=True, max_iter=None,\n",
       "      normalize=False, random_state=None, solver='auto', tol=0.001)}}}"
      ]
     },
     "execution_count": 42,
     "metadata": {},
     "output_type": "execute_result"
    }
   ],
   "source": [
    "best_est"
   ]
  },
  {
   "cell_type": "code",
   "execution_count": 43,
   "metadata": {},
   "outputs": [],
   "source": [
    "model_perf = pd.DataFrame({\"model_name\": [], \"R2-Score\": []})"
   ]
  },
  {
   "cell_type": "markdown",
   "metadata": {},
   "source": [
    "### Selecting the best model for analysis"
   ]
  },
  {
   "cell_type": "code",
   "execution_count": 44,
   "metadata": {},
   "outputs": [],
   "source": [
    "chosen_est = best_est[\"Lasso-Reg\"][\"estimators\"][\"poly_df\"]\n",
    "X_test = input_df[\"poly_df\"][\"X_test\"]\n",
    "\n",
    "log_pred = chosen_est.predict(X_test)\n",
    "price_pred = np.exp(log_pred)\n",
    "price_test = np.exp(y_test)"
   ]
  },
  {
   "cell_type": "markdown",
   "metadata": {},
   "source": [
    "### Explained Variance Score"
   ]
  },
  {
   "cell_type": "code",
   "execution_count": 45,
   "metadata": {},
   "outputs": [
    {
     "name": "stdout",
     "output_type": "stream",
     "text": [
      "Explained Variance Score: 54.77 %\n"
     ]
    }
   ],
   "source": [
    "score = explained_variance_score(price_test, price_pred)\n",
    "print(\"Explained Variance Score:\", round(score*100, 2), \"%\")"
   ]
  },
  {
   "cell_type": "markdown",
   "metadata": {},
   "source": [
    "### Mean Absolute error"
   ]
  },
  {
   "cell_type": "code",
   "execution_count": 46,
   "metadata": {},
   "outputs": [
    {
     "name": "stdout",
     "output_type": "stream",
     "text": [
      "Mean Absolute Error: 279197.9157638853\n"
     ]
    }
   ],
   "source": [
    "mae = mean_absolute_error(price_test, price_pred)\n",
    "print(\"Mean Absolute Error:\", mae)"
   ]
  },
  {
   "cell_type": "markdown",
   "metadata": {},
   "source": [
    "### Median Absolute error"
   ]
  },
  {
   "cell_type": "code",
   "execution_count": 47,
   "metadata": {},
   "outputs": [
    {
     "name": "stdout",
     "output_type": "stream",
     "text": [
      "Median Absolute Error: 174600.67670650315\n"
     ]
    }
   ],
   "source": [
    "mdae = median_absolute_error(price_test, price_pred)\n",
    "print(\"Median Absolute Error:\", mdae)"
   ]
  },
  {
   "cell_type": "markdown",
   "metadata": {},
   "source": [
    "### Mean Squared error"
   ]
  },
  {
   "cell_type": "code",
   "execution_count": 48,
   "metadata": {},
   "outputs": [
    {
     "name": "stdout",
     "output_type": "stream",
     "text": [
      "Mean Squared Error: 211986794819.20715\n"
     ]
    }
   ],
   "source": [
    "mse = mean_squared_error(price_test, price_pred)\n",
    "print(\"Mean Squared Error:\", mse)"
   ]
  },
  {
   "cell_type": "markdown",
   "metadata": {},
   "source": [
    "### Mean Squared Log Errors"
   ]
  },
  {
   "cell_type": "code",
   "execution_count": 49,
   "metadata": {},
   "outputs": [
    {
     "name": "stdout",
     "output_type": "stream",
     "text": [
      "Mean Squared Log Errors: 0.0944050894874527\n"
     ]
    }
   ],
   "source": [
    "msle = mean_squared_log_error(price_test, price_pred)\n",
    "print(\"Mean Squared Log Errors:\", msle)"
   ]
  },
  {
   "cell_type": "markdown",
   "metadata": {},
   "source": [
    "### R^2 Score"
   ]
  },
  {
   "cell_type": "code",
   "execution_count": 50,
   "metadata": {
    "scrolled": true
   },
   "outputs": [
    {
     "name": "stdout",
     "output_type": "stream",
     "text": [
      "R2 Score: 0.5266865387426957\n"
     ]
    }
   ],
   "source": [
    "r2 = r2_score(price_test, price_pred)\n",
    "print(\"R2 Score:\", r2)"
   ]
  },
  {
   "cell_type": "code",
   "execution_count": 51,
   "metadata": {},
   "outputs": [],
   "source": [
    "model_perf = model_perf.append({\"model_name\": \"Lasso-Reg\", \"R2-Score\": r2}, ignore_index=True)"
   ]
  },
  {
   "cell_type": "markdown",
   "metadata": {},
   "source": [
    "### Selecting the second best model for analysis"
   ]
  },
  {
   "cell_type": "code",
   "execution_count": 52,
   "metadata": {},
   "outputs": [],
   "source": [
    "chosen_est = best_est[\"SVR\"][\"estimators\"][\"default_df\"]\n",
    "X_test = input_df[\"default_df\"][\"X_test\"]\n",
    "\n",
    "log_pred = chosen_est.predict(X_test)\n",
    "price_pred = np.exp(log_pred)\n",
    "price_test = np.exp(y_test)"
   ]
  },
  {
   "cell_type": "markdown",
   "metadata": {},
   "source": [
    "### Explained Variance Score"
   ]
  },
  {
   "cell_type": "code",
   "execution_count": 53,
   "metadata": {},
   "outputs": [
    {
     "name": "stdout",
     "output_type": "stream",
     "text": [
      "Explained Variance Score: 69.8 %\n"
     ]
    }
   ],
   "source": [
    "score = explained_variance_score(price_test, price_pred)\n",
    "print(\"Explained Variance Score:\", round(score*100, 2), \"%\")"
   ]
  },
  {
   "cell_type": "markdown",
   "metadata": {},
   "source": [
    "### Mean Absolute error"
   ]
  },
  {
   "cell_type": "code",
   "execution_count": 54,
   "metadata": {},
   "outputs": [
    {
     "name": "stdout",
     "output_type": "stream",
     "text": [
      "Mean Absolute Error: 219464.0916219988\n"
     ]
    }
   ],
   "source": [
    "mae = mean_absolute_error(price_test, price_pred)\n",
    "print(\"Mean Absolute Error:\", mae)"
   ]
  },
  {
   "cell_type": "markdown",
   "metadata": {},
   "source": [
    "### Median Absolute error"
   ]
  },
  {
   "cell_type": "code",
   "execution_count": 55,
   "metadata": {},
   "outputs": [
    {
     "name": "stdout",
     "output_type": "stream",
     "text": [
      "Median Absolute Error: 127686.12661102507\n"
     ]
    }
   ],
   "source": [
    "mdae = median_absolute_error(price_test, price_pred)\n",
    "print(\"Median Absolute Error:\", mdae)"
   ]
  },
  {
   "cell_type": "markdown",
   "metadata": {},
   "source": [
    "### Mean Squared error"
   ]
  },
  {
   "cell_type": "code",
   "execution_count": 56,
   "metadata": {},
   "outputs": [
    {
     "name": "stdout",
     "output_type": "stream",
     "text": [
      "Mean Squared Error: 139883004063.9081\n"
     ]
    }
   ],
   "source": [
    "mse = mean_squared_error(price_test, price_pred)\n",
    "print(\"Mean Squared Error:\", mse)"
   ]
  },
  {
   "cell_type": "markdown",
   "metadata": {},
   "source": [
    "### Mean Squared Log Errors"
   ]
  },
  {
   "cell_type": "code",
   "execution_count": 57,
   "metadata": {},
   "outputs": [
    {
     "name": "stdout",
     "output_type": "stream",
     "text": [
      "Mean Squared Log Errors: 0.05623548348014024\n"
     ]
    }
   ],
   "source": [
    "msle = mean_squared_log_error(price_test, price_pred)\n",
    "print(\"Mean Squared Log Errors:\", msle)"
   ]
  },
  {
   "cell_type": "markdown",
   "metadata": {},
   "source": [
    "### R^2 Score"
   ]
  },
  {
   "cell_type": "code",
   "execution_count": 58,
   "metadata": {
    "scrolled": true
   },
   "outputs": [
    {
     "name": "stdout",
     "output_type": "stream",
     "text": [
      "R2 Score: 0.6876762588866735\n"
     ]
    }
   ],
   "source": [
    "r2 = r2_score(price_test, price_pred)\n",
    "print(\"R2 Score:\", r2)"
   ]
  },
  {
   "cell_type": "code",
   "execution_count": 59,
   "metadata": {},
   "outputs": [],
   "source": [
    "model_perf = model_perf.append({\"model_name\": \"SVR\", \"R2-Score\": r2}, ignore_index=True)"
   ]
  },
  {
   "cell_type": "markdown",
   "metadata": {},
   "source": [
    "### Model Performance"
   ]
  },
  {
   "cell_type": "code",
   "execution_count": 60,
   "metadata": {},
   "outputs": [
    {
     "data": {
      "text/html": [
       "<div>\n",
       "<style scoped>\n",
       "    .dataframe tbody tr th:only-of-type {\n",
       "        vertical-align: middle;\n",
       "    }\n",
       "\n",
       "    .dataframe tbody tr th {\n",
       "        vertical-align: top;\n",
       "    }\n",
       "\n",
       "    .dataframe thead th {\n",
       "        text-align: right;\n",
       "    }\n",
       "</style>\n",
       "<table border=\"1\" class=\"dataframe\">\n",
       "  <thead>\n",
       "    <tr style=\"text-align: right;\">\n",
       "      <th></th>\n",
       "      <th>model_name</th>\n",
       "      <th>R2-Score</th>\n",
       "    </tr>\n",
       "  </thead>\n",
       "  <tbody>\n",
       "    <tr>\n",
       "      <th>0</th>\n",
       "      <td>Lasso-Reg</td>\n",
       "      <td>0.526687</td>\n",
       "    </tr>\n",
       "    <tr>\n",
       "      <th>1</th>\n",
       "      <td>SVR</td>\n",
       "      <td>0.687676</td>\n",
       "    </tr>\n",
       "  </tbody>\n",
       "</table>\n",
       "</div>"
      ],
      "text/plain": [
       "  model_name  R2-Score\n",
       "0  Lasso-Reg  0.526687\n",
       "1        SVR  0.687676"
      ]
     },
     "execution_count": 60,
     "metadata": {},
     "output_type": "execute_result"
    }
   ],
   "source": [
    "model_perf"
   ]
  },
  {
   "cell_type": "markdown",
   "metadata": {},
   "source": [
    "Best model for Regression is Lasso Regression"
   ]
  },
  {
   "cell_type": "markdown",
   "metadata": {},
   "source": [
    "# Classification Problem"
   ]
  },
  {
   "cell_type": "markdown",
   "metadata": {},
   "source": [
    "### Packages required:"
   ]
  },
  {
   "cell_type": "code",
   "execution_count": 61,
   "metadata": {},
   "outputs": [],
   "source": [
    "import pandas as pd\n",
    "import numpy as np\n",
    "import matplotlib.pyplot as plt\n",
    "import seaborn as sns\n",
    "from scipy import stats\n",
    "from sklearn import preprocessing\n",
    "from sklearn.preprocessing import StandardScaler\n",
    "\n",
    "from sklearn.model_selection import GridSearchCV\n",
    "from sklearn.neighbors import KNeighborsClassifier\n",
    "from sklearn.linear_model import LogisticRegression\n",
    "from sklearn.svm import LinearSVC\n",
    "from sklearn.svm import SVC\n",
    "from sklearn.tree import DecisionTreeClassifier\n",
    "\n",
    "from sklearn.metrics import accuracy_score, f1_score, confusion_matrix, precision_recall_curve, average_precision_score, roc_curve, auc, roc_auc_score"
   ]
  },
  {
   "cell_type": "markdown",
   "metadata": {},
   "source": [
    "### Read the datafile and describe the data"
   ]
  },
  {
   "cell_type": "code",
   "execution_count": 62,
   "metadata": {},
   "outputs": [
    {
     "name": "stdout",
     "output_type": "stream",
     "text": [
      "(142193, 24)\n"
     ]
    }
   ],
   "source": [
    "weatherAUS = pd.read_csv(\"weatherAUS.csv\")\n",
    "print(weatherAUS.shape)"
   ]
  },
  {
   "cell_type": "code",
   "execution_count": 63,
   "metadata": {},
   "outputs": [
    {
     "data": {
      "text/plain": [
       "Sunshine          74377\n",
       "Evaporation       81350\n",
       "Cloud3pm          85099\n",
       "Cloud9am          88536\n",
       "Pressure9am      128179\n",
       "Pressure3pm      128212\n",
       "WindDir9am       132180\n",
       "WindGustDir      132863\n",
       "WindGustSpeed    132923\n",
       "WindDir3pm       138415\n",
       "Humidity3pm      138583\n",
       "Temp3pm          139467\n",
       "WindSpeed3pm     139563\n",
       "Humidity9am      140419\n",
       "RainToday        140787\n",
       "Rainfall         140787\n",
       "WindSpeed9am     140845\n",
       "Temp9am          141289\n",
       "MinTemp          141556\n",
       "MaxTemp          141871\n",
       "Date             142193\n",
       "Location         142193\n",
       "RISK_MM          142193\n",
       "RainTomorrow     142193\n",
       "dtype: int64"
      ]
     },
     "execution_count": 63,
     "metadata": {},
     "output_type": "execute_result"
    }
   ],
   "source": [
    "weatherAUS.count().sort_values()"
   ]
  },
  {
   "cell_type": "markdown",
   "metadata": {},
   "source": [
    "### Dropping the columns with 50% data"
   ]
  },
  {
   "cell_type": "code",
   "execution_count": 64,
   "metadata": {},
   "outputs": [],
   "source": [
    "weatherAUS_new = weatherAUS.drop(columns=['Sunshine','Evaporation','Cloud3pm','Cloud9am','Location','Date'],axis=1)"
   ]
  },
  {
   "cell_type": "code",
   "execution_count": 65,
   "metadata": {},
   "outputs": [
    {
     "data": {
      "text/plain": [
       "(142193, 18)"
      ]
     },
     "execution_count": 65,
     "metadata": {},
     "output_type": "execute_result"
    }
   ],
   "source": [
    "weatherAUS_new.shape"
   ]
  },
  {
   "cell_type": "markdown",
   "metadata": {},
   "source": [
    "### Removing null values"
   ]
  },
  {
   "cell_type": "code",
   "execution_count": 66,
   "metadata": {},
   "outputs": [],
   "source": [
    "weatherAUS_new = weatherAUS_new.dropna(how='any')"
   ]
  },
  {
   "cell_type": "code",
   "execution_count": 67,
   "metadata": {},
   "outputs": [
    {
     "data": {
      "text/plain": [
       "(112925, 18)"
      ]
     },
     "execution_count": 67,
     "metadata": {},
     "output_type": "execute_result"
    }
   ],
   "source": [
    "weatherAUS_new.shape"
   ]
  },
  {
   "cell_type": "markdown",
   "metadata": {},
   "source": [
    "### Removing the outliers by calculating the Zscore"
   ]
  },
  {
   "cell_type": "code",
   "execution_count": 68,
   "metadata": {},
   "outputs": [
    {
     "data": {
      "text/plain": [
       "(106447, 18)"
      ]
     },
     "execution_count": 68,
     "metadata": {},
     "output_type": "execute_result"
    }
   ],
   "source": [
    "z=np.abs(stats.zscore(weatherAUS_new._get_numeric_data()))\n",
    "threshold = 3\n",
    "weatherAUS_new= weatherAUS_new[(z < 3).all(axis=1)]\n",
    "weatherAUS_new.shape\n"
   ]
  },
  {
   "cell_type": "markdown",
   "metadata": {},
   "source": [
    "### Handling the categorical data.\n"
   ]
  },
  {
   "cell_type": "markdown",
   "metadata": {},
   "source": [
    "Replacing Yes/No to 1/0"
   ]
  },
  {
   "cell_type": "code",
   "execution_count": 69,
   "metadata": {},
   "outputs": [],
   "source": [
    "weatherAUS_new['RainToday'].replace({'No': 0, 'Yes': 1},inplace = True)\n",
    "weatherAUS_new['RainTomorrow'].replace({'No': 0, 'Yes': 1},inplace = True)"
   ]
  },
  {
   "cell_type": "code",
   "execution_count": 70,
   "metadata": {},
   "outputs": [
    {
     "data": {
      "text/html": [
       "<div>\n",
       "<style scoped>\n",
       "    .dataframe tbody tr th:only-of-type {\n",
       "        vertical-align: middle;\n",
       "    }\n",
       "\n",
       "    .dataframe tbody tr th {\n",
       "        vertical-align: top;\n",
       "    }\n",
       "\n",
       "    .dataframe thead th {\n",
       "        text-align: right;\n",
       "    }\n",
       "</style>\n",
       "<table border=\"1\" class=\"dataframe\">\n",
       "  <thead>\n",
       "    <tr style=\"text-align: right;\">\n",
       "      <th></th>\n",
       "      <th>MinTemp</th>\n",
       "      <th>MaxTemp</th>\n",
       "      <th>Rainfall</th>\n",
       "      <th>WindGustDir</th>\n",
       "      <th>WindGustSpeed</th>\n",
       "      <th>WindDir9am</th>\n",
       "      <th>WindDir3pm</th>\n",
       "      <th>WindSpeed9am</th>\n",
       "      <th>WindSpeed3pm</th>\n",
       "      <th>Humidity9am</th>\n",
       "      <th>Humidity3pm</th>\n",
       "      <th>Pressure9am</th>\n",
       "      <th>Pressure3pm</th>\n",
       "      <th>Temp9am</th>\n",
       "      <th>Temp3pm</th>\n",
       "      <th>RainToday</th>\n",
       "      <th>RISK_MM</th>\n",
       "      <th>RainTomorrow</th>\n",
       "    </tr>\n",
       "  </thead>\n",
       "  <tbody>\n",
       "    <tr>\n",
       "      <th>0</th>\n",
       "      <td>13.4</td>\n",
       "      <td>22.9</td>\n",
       "      <td>0.6</td>\n",
       "      <td>W</td>\n",
       "      <td>44.0</td>\n",
       "      <td>W</td>\n",
       "      <td>WNW</td>\n",
       "      <td>20.0</td>\n",
       "      <td>24.0</td>\n",
       "      <td>71.0</td>\n",
       "      <td>22.0</td>\n",
       "      <td>1007.7</td>\n",
       "      <td>1007.1</td>\n",
       "      <td>16.9</td>\n",
       "      <td>21.8</td>\n",
       "      <td>0</td>\n",
       "      <td>0.0</td>\n",
       "      <td>0</td>\n",
       "    </tr>\n",
       "    <tr>\n",
       "      <th>1</th>\n",
       "      <td>7.4</td>\n",
       "      <td>25.1</td>\n",
       "      <td>0.0</td>\n",
       "      <td>WNW</td>\n",
       "      <td>44.0</td>\n",
       "      <td>NNW</td>\n",
       "      <td>WSW</td>\n",
       "      <td>4.0</td>\n",
       "      <td>22.0</td>\n",
       "      <td>44.0</td>\n",
       "      <td>25.0</td>\n",
       "      <td>1010.6</td>\n",
       "      <td>1007.8</td>\n",
       "      <td>17.2</td>\n",
       "      <td>24.3</td>\n",
       "      <td>0</td>\n",
       "      <td>0.0</td>\n",
       "      <td>0</td>\n",
       "    </tr>\n",
       "    <tr>\n",
       "      <th>2</th>\n",
       "      <td>12.9</td>\n",
       "      <td>25.7</td>\n",
       "      <td>0.0</td>\n",
       "      <td>WSW</td>\n",
       "      <td>46.0</td>\n",
       "      <td>W</td>\n",
       "      <td>WSW</td>\n",
       "      <td>19.0</td>\n",
       "      <td>26.0</td>\n",
       "      <td>38.0</td>\n",
       "      <td>30.0</td>\n",
       "      <td>1007.6</td>\n",
       "      <td>1008.7</td>\n",
       "      <td>21.0</td>\n",
       "      <td>23.2</td>\n",
       "      <td>0</td>\n",
       "      <td>0.0</td>\n",
       "      <td>0</td>\n",
       "    </tr>\n",
       "    <tr>\n",
       "      <th>3</th>\n",
       "      <td>9.2</td>\n",
       "      <td>28.0</td>\n",
       "      <td>0.0</td>\n",
       "      <td>NE</td>\n",
       "      <td>24.0</td>\n",
       "      <td>SE</td>\n",
       "      <td>E</td>\n",
       "      <td>11.0</td>\n",
       "      <td>9.0</td>\n",
       "      <td>45.0</td>\n",
       "      <td>16.0</td>\n",
       "      <td>1017.6</td>\n",
       "      <td>1012.8</td>\n",
       "      <td>18.1</td>\n",
       "      <td>26.5</td>\n",
       "      <td>0</td>\n",
       "      <td>1.0</td>\n",
       "      <td>0</td>\n",
       "    </tr>\n",
       "    <tr>\n",
       "      <th>4</th>\n",
       "      <td>17.5</td>\n",
       "      <td>32.3</td>\n",
       "      <td>1.0</td>\n",
       "      <td>W</td>\n",
       "      <td>41.0</td>\n",
       "      <td>ENE</td>\n",
       "      <td>NW</td>\n",
       "      <td>7.0</td>\n",
       "      <td>20.0</td>\n",
       "      <td>82.0</td>\n",
       "      <td>33.0</td>\n",
       "      <td>1010.8</td>\n",
       "      <td>1006.0</td>\n",
       "      <td>17.8</td>\n",
       "      <td>29.7</td>\n",
       "      <td>0</td>\n",
       "      <td>0.2</td>\n",
       "      <td>0</td>\n",
       "    </tr>\n",
       "  </tbody>\n",
       "</table>\n",
       "</div>"
      ],
      "text/plain": [
       "   MinTemp  MaxTemp  Rainfall WindGustDir  WindGustSpeed WindDir9am  \\\n",
       "0     13.4     22.9       0.6           W           44.0          W   \n",
       "1      7.4     25.1       0.0         WNW           44.0        NNW   \n",
       "2     12.9     25.7       0.0         WSW           46.0          W   \n",
       "3      9.2     28.0       0.0          NE           24.0         SE   \n",
       "4     17.5     32.3       1.0           W           41.0        ENE   \n",
       "\n",
       "  WindDir3pm  WindSpeed9am  WindSpeed3pm  Humidity9am  Humidity3pm  \\\n",
       "0        WNW          20.0          24.0         71.0         22.0   \n",
       "1        WSW           4.0          22.0         44.0         25.0   \n",
       "2        WSW          19.0          26.0         38.0         30.0   \n",
       "3          E          11.0           9.0         45.0         16.0   \n",
       "4         NW           7.0          20.0         82.0         33.0   \n",
       "\n",
       "   Pressure9am  Pressure3pm  Temp9am  Temp3pm  RainToday  RISK_MM  \\\n",
       "0       1007.7       1007.1     16.9     21.8          0      0.0   \n",
       "1       1010.6       1007.8     17.2     24.3          0      0.0   \n",
       "2       1007.6       1008.7     21.0     23.2          0      0.0   \n",
       "3       1017.6       1012.8     18.1     26.5          0      1.0   \n",
       "4       1010.8       1006.0     17.8     29.7          0      0.2   \n",
       "\n",
       "   RainTomorrow  \n",
       "0             0  \n",
       "1             0  \n",
       "2             0  \n",
       "3             0  \n",
       "4             0  "
      ]
     },
     "execution_count": 70,
     "metadata": {},
     "output_type": "execute_result"
    }
   ],
   "source": [
    "weatherAUS_new.head()"
   ]
  },
  {
   "cell_type": "code",
   "execution_count": 71,
   "metadata": {},
   "outputs": [
    {
     "data": {
      "text/html": [
       "<div>\n",
       "<style scoped>\n",
       "    .dataframe tbody tr th:only-of-type {\n",
       "        vertical-align: middle;\n",
       "    }\n",
       "\n",
       "    .dataframe tbody tr th {\n",
       "        vertical-align: top;\n",
       "    }\n",
       "\n",
       "    .dataframe thead th {\n",
       "        text-align: right;\n",
       "    }\n",
       "</style>\n",
       "<table border=\"1\" class=\"dataframe\">\n",
       "  <thead>\n",
       "    <tr style=\"text-align: right;\">\n",
       "      <th></th>\n",
       "      <th>MinTemp</th>\n",
       "      <th>MaxTemp</th>\n",
       "      <th>Rainfall</th>\n",
       "      <th>WindGustSpeed</th>\n",
       "      <th>WindSpeed9am</th>\n",
       "      <th>WindSpeed3pm</th>\n",
       "      <th>Humidity9am</th>\n",
       "      <th>Humidity3pm</th>\n",
       "      <th>Pressure9am</th>\n",
       "      <th>Pressure3pm</th>\n",
       "      <th>...</th>\n",
       "      <th>WindDir9am_NNW</th>\n",
       "      <th>WindDir9am_NW</th>\n",
       "      <th>WindDir9am_S</th>\n",
       "      <th>WindDir9am_SE</th>\n",
       "      <th>WindDir9am_SSE</th>\n",
       "      <th>WindDir9am_SSW</th>\n",
       "      <th>WindDir9am_SW</th>\n",
       "      <th>WindDir9am_W</th>\n",
       "      <th>WindDir9am_WNW</th>\n",
       "      <th>WindDir9am_WSW</th>\n",
       "    </tr>\n",
       "  </thead>\n",
       "  <tbody>\n",
       "    <tr>\n",
       "      <th>4</th>\n",
       "      <td>17.5</td>\n",
       "      <td>32.3</td>\n",
       "      <td>1.0</td>\n",
       "      <td>41.0</td>\n",
       "      <td>7.0</td>\n",
       "      <td>20.0</td>\n",
       "      <td>82.0</td>\n",
       "      <td>33.0</td>\n",
       "      <td>1010.8</td>\n",
       "      <td>1006.0</td>\n",
       "      <td>...</td>\n",
       "      <td>0</td>\n",
       "      <td>0</td>\n",
       "      <td>0</td>\n",
       "      <td>0</td>\n",
       "      <td>0</td>\n",
       "      <td>0</td>\n",
       "      <td>0</td>\n",
       "      <td>0</td>\n",
       "      <td>0</td>\n",
       "      <td>0</td>\n",
       "    </tr>\n",
       "    <tr>\n",
       "      <th>5</th>\n",
       "      <td>14.6</td>\n",
       "      <td>29.7</td>\n",
       "      <td>0.2</td>\n",
       "      <td>56.0</td>\n",
       "      <td>19.0</td>\n",
       "      <td>24.0</td>\n",
       "      <td>55.0</td>\n",
       "      <td>23.0</td>\n",
       "      <td>1009.2</td>\n",
       "      <td>1005.4</td>\n",
       "      <td>...</td>\n",
       "      <td>0</td>\n",
       "      <td>0</td>\n",
       "      <td>0</td>\n",
       "      <td>0</td>\n",
       "      <td>0</td>\n",
       "      <td>0</td>\n",
       "      <td>0</td>\n",
       "      <td>1</td>\n",
       "      <td>0</td>\n",
       "      <td>0</td>\n",
       "    </tr>\n",
       "    <tr>\n",
       "      <th>6</th>\n",
       "      <td>14.3</td>\n",
       "      <td>25.0</td>\n",
       "      <td>0.0</td>\n",
       "      <td>50.0</td>\n",
       "      <td>20.0</td>\n",
       "      <td>24.0</td>\n",
       "      <td>49.0</td>\n",
       "      <td>19.0</td>\n",
       "      <td>1009.6</td>\n",
       "      <td>1008.2</td>\n",
       "      <td>...</td>\n",
       "      <td>0</td>\n",
       "      <td>0</td>\n",
       "      <td>0</td>\n",
       "      <td>0</td>\n",
       "      <td>0</td>\n",
       "      <td>0</td>\n",
       "      <td>1</td>\n",
       "      <td>0</td>\n",
       "      <td>0</td>\n",
       "      <td>0</td>\n",
       "    </tr>\n",
       "    <tr>\n",
       "      <th>7</th>\n",
       "      <td>7.7</td>\n",
       "      <td>26.7</td>\n",
       "      <td>0.0</td>\n",
       "      <td>35.0</td>\n",
       "      <td>6.0</td>\n",
       "      <td>17.0</td>\n",
       "      <td>48.0</td>\n",
       "      <td>19.0</td>\n",
       "      <td>1013.4</td>\n",
       "      <td>1010.1</td>\n",
       "      <td>...</td>\n",
       "      <td>0</td>\n",
       "      <td>0</td>\n",
       "      <td>0</td>\n",
       "      <td>0</td>\n",
       "      <td>1</td>\n",
       "      <td>0</td>\n",
       "      <td>0</td>\n",
       "      <td>0</td>\n",
       "      <td>0</td>\n",
       "      <td>0</td>\n",
       "    </tr>\n",
       "    <tr>\n",
       "      <th>8</th>\n",
       "      <td>9.7</td>\n",
       "      <td>31.9</td>\n",
       "      <td>0.0</td>\n",
       "      <td>80.0</td>\n",
       "      <td>7.0</td>\n",
       "      <td>28.0</td>\n",
       "      <td>42.0</td>\n",
       "      <td>9.0</td>\n",
       "      <td>1008.9</td>\n",
       "      <td>1003.6</td>\n",
       "      <td>...</td>\n",
       "      <td>0</td>\n",
       "      <td>0</td>\n",
       "      <td>0</td>\n",
       "      <td>1</td>\n",
       "      <td>0</td>\n",
       "      <td>0</td>\n",
       "      <td>0</td>\n",
       "      <td>0</td>\n",
       "      <td>0</td>\n",
       "      <td>0</td>\n",
       "    </tr>\n",
       "  </tbody>\n",
       "</table>\n",
       "<p>5 rows × 63 columns</p>\n",
       "</div>"
      ],
      "text/plain": [
       "   MinTemp  MaxTemp  Rainfall  WindGustSpeed  WindSpeed9am  WindSpeed3pm  \\\n",
       "4     17.5     32.3       1.0           41.0           7.0          20.0   \n",
       "5     14.6     29.7       0.2           56.0          19.0          24.0   \n",
       "6     14.3     25.0       0.0           50.0          20.0          24.0   \n",
       "7      7.7     26.7       0.0           35.0           6.0          17.0   \n",
       "8      9.7     31.9       0.0           80.0           7.0          28.0   \n",
       "\n",
       "   Humidity9am  Humidity3pm  Pressure9am  Pressure3pm       ...        \\\n",
       "4         82.0         33.0       1010.8       1006.0       ...         \n",
       "5         55.0         23.0       1009.2       1005.4       ...         \n",
       "6         49.0         19.0       1009.6       1008.2       ...         \n",
       "7         48.0         19.0       1013.4       1010.1       ...         \n",
       "8         42.0          9.0       1008.9       1003.6       ...         \n",
       "\n",
       "   WindDir9am_NNW  WindDir9am_NW  WindDir9am_S  WindDir9am_SE  WindDir9am_SSE  \\\n",
       "4               0              0             0              0               0   \n",
       "5               0              0             0              0               0   \n",
       "6               0              0             0              0               0   \n",
       "7               0              0             0              0               1   \n",
       "8               0              0             0              1               0   \n",
       "\n",
       "   WindDir9am_SSW  WindDir9am_SW  WindDir9am_W  WindDir9am_WNW  WindDir9am_WSW  \n",
       "4               0              0             0               0               0  \n",
       "5               0              0             1               0               0  \n",
       "6               0              1             0               0               0  \n",
       "7               0              0             0               0               0  \n",
       "8               0              0             0               0               0  \n",
       "\n",
       "[5 rows x 63 columns]"
      ]
     },
     "execution_count": 71,
     "metadata": {},
     "output_type": "execute_result"
    }
   ],
   "source": [
    "dummy_col = ['WindGustDir', 'WindDir3pm', 'WindDir9am']\n",
    "weatherAUS_new = pd.get_dummies(weatherAUS_new, columns=dummy_col)\n",
    "weatherAUS_new.iloc[4:9]"
   ]
  },
  {
   "cell_type": "markdown",
   "metadata": {},
   "source": [
    "### Standardizing the data"
   ]
  },
  {
   "cell_type": "code",
   "execution_count": 72,
   "metadata": {},
   "outputs": [
    {
     "data": {
      "text/html": [
       "<div>\n",
       "<style scoped>\n",
       "    .dataframe tbody tr th:only-of-type {\n",
       "        vertical-align: middle;\n",
       "    }\n",
       "\n",
       "    .dataframe tbody tr th {\n",
       "        vertical-align: top;\n",
       "    }\n",
       "\n",
       "    .dataframe thead th {\n",
       "        text-align: right;\n",
       "    }\n",
       "</style>\n",
       "<table border=\"1\" class=\"dataframe\">\n",
       "  <thead>\n",
       "    <tr style=\"text-align: right;\">\n",
       "      <th></th>\n",
       "      <th>MinTemp</th>\n",
       "      <th>MaxTemp</th>\n",
       "      <th>Rainfall</th>\n",
       "      <th>WindGustSpeed</th>\n",
       "      <th>WindSpeed9am</th>\n",
       "      <th>WindSpeed3pm</th>\n",
       "      <th>Humidity9am</th>\n",
       "      <th>Humidity3pm</th>\n",
       "      <th>Pressure9am</th>\n",
       "      <th>Pressure3pm</th>\n",
       "      <th>...</th>\n",
       "      <th>WindDir9am_NNW</th>\n",
       "      <th>WindDir9am_NW</th>\n",
       "      <th>WindDir9am_S</th>\n",
       "      <th>WindDir9am_SE</th>\n",
       "      <th>WindDir9am_SSE</th>\n",
       "      <th>WindDir9am_SSW</th>\n",
       "      <th>WindDir9am_SW</th>\n",
       "      <th>WindDir9am_W</th>\n",
       "      <th>WindDir9am_WNW</th>\n",
       "      <th>WindDir9am_WSW</th>\n",
       "    </tr>\n",
       "  </thead>\n",
       "  <tbody>\n",
       "    <tr>\n",
       "      <th>4</th>\n",
       "      <td>0.628342</td>\n",
       "      <td>0.696296</td>\n",
       "      <td>0.035714</td>\n",
       "      <td>0.465753</td>\n",
       "      <td>0.135135</td>\n",
       "      <td>0.428571</td>\n",
       "      <td>0.797753</td>\n",
       "      <td>0.33</td>\n",
       "      <td>0.342043</td>\n",
       "      <td>0.282974</td>\n",
       "      <td>...</td>\n",
       "      <td>0.0</td>\n",
       "      <td>0.0</td>\n",
       "      <td>0.0</td>\n",
       "      <td>0.0</td>\n",
       "      <td>0.0</td>\n",
       "      <td>0.0</td>\n",
       "      <td>0.0</td>\n",
       "      <td>0.0</td>\n",
       "      <td>0.0</td>\n",
       "      <td>0.0</td>\n",
       "    </tr>\n",
       "    <tr>\n",
       "      <th>5</th>\n",
       "      <td>0.550802</td>\n",
       "      <td>0.632099</td>\n",
       "      <td>0.007143</td>\n",
       "      <td>0.671233</td>\n",
       "      <td>0.459459</td>\n",
       "      <td>0.523810</td>\n",
       "      <td>0.494382</td>\n",
       "      <td>0.23</td>\n",
       "      <td>0.304038</td>\n",
       "      <td>0.268585</td>\n",
       "      <td>...</td>\n",
       "      <td>0.0</td>\n",
       "      <td>0.0</td>\n",
       "      <td>0.0</td>\n",
       "      <td>0.0</td>\n",
       "      <td>0.0</td>\n",
       "      <td>0.0</td>\n",
       "      <td>0.0</td>\n",
       "      <td>1.0</td>\n",
       "      <td>0.0</td>\n",
       "      <td>0.0</td>\n",
       "    </tr>\n",
       "    <tr>\n",
       "      <th>6</th>\n",
       "      <td>0.542781</td>\n",
       "      <td>0.516049</td>\n",
       "      <td>0.000000</td>\n",
       "      <td>0.589041</td>\n",
       "      <td>0.486486</td>\n",
       "      <td>0.523810</td>\n",
       "      <td>0.426966</td>\n",
       "      <td>0.19</td>\n",
       "      <td>0.313539</td>\n",
       "      <td>0.335731</td>\n",
       "      <td>...</td>\n",
       "      <td>0.0</td>\n",
       "      <td>0.0</td>\n",
       "      <td>0.0</td>\n",
       "      <td>0.0</td>\n",
       "      <td>0.0</td>\n",
       "      <td>0.0</td>\n",
       "      <td>1.0</td>\n",
       "      <td>0.0</td>\n",
       "      <td>0.0</td>\n",
       "      <td>0.0</td>\n",
       "    </tr>\n",
       "    <tr>\n",
       "      <th>7</th>\n",
       "      <td>0.366310</td>\n",
       "      <td>0.558025</td>\n",
       "      <td>0.000000</td>\n",
       "      <td>0.383562</td>\n",
       "      <td>0.108108</td>\n",
       "      <td>0.357143</td>\n",
       "      <td>0.415730</td>\n",
       "      <td>0.19</td>\n",
       "      <td>0.403800</td>\n",
       "      <td>0.381295</td>\n",
       "      <td>...</td>\n",
       "      <td>0.0</td>\n",
       "      <td>0.0</td>\n",
       "      <td>0.0</td>\n",
       "      <td>0.0</td>\n",
       "      <td>1.0</td>\n",
       "      <td>0.0</td>\n",
       "      <td>0.0</td>\n",
       "      <td>0.0</td>\n",
       "      <td>0.0</td>\n",
       "      <td>0.0</td>\n",
       "    </tr>\n",
       "    <tr>\n",
       "      <th>8</th>\n",
       "      <td>0.419786</td>\n",
       "      <td>0.686420</td>\n",
       "      <td>0.000000</td>\n",
       "      <td>1.000000</td>\n",
       "      <td>0.135135</td>\n",
       "      <td>0.619048</td>\n",
       "      <td>0.348315</td>\n",
       "      <td>0.09</td>\n",
       "      <td>0.296912</td>\n",
       "      <td>0.225420</td>\n",
       "      <td>...</td>\n",
       "      <td>0.0</td>\n",
       "      <td>0.0</td>\n",
       "      <td>0.0</td>\n",
       "      <td>1.0</td>\n",
       "      <td>0.0</td>\n",
       "      <td>0.0</td>\n",
       "      <td>0.0</td>\n",
       "      <td>0.0</td>\n",
       "      <td>0.0</td>\n",
       "      <td>0.0</td>\n",
       "    </tr>\n",
       "    <tr>\n",
       "      <th>9</th>\n",
       "      <td>0.510695</td>\n",
       "      <td>0.641975</td>\n",
       "      <td>0.050000</td>\n",
       "      <td>0.287671</td>\n",
       "      <td>0.351351</td>\n",
       "      <td>0.214286</td>\n",
       "      <td>0.528090</td>\n",
       "      <td>0.27</td>\n",
       "      <td>0.251781</td>\n",
       "      <td>0.275779</td>\n",
       "      <td>...</td>\n",
       "      <td>0.0</td>\n",
       "      <td>0.0</td>\n",
       "      <td>1.0</td>\n",
       "      <td>0.0</td>\n",
       "      <td>0.0</td>\n",
       "      <td>0.0</td>\n",
       "      <td>0.0</td>\n",
       "      <td>0.0</td>\n",
       "      <td>0.0</td>\n",
       "      <td>0.0</td>\n",
       "    </tr>\n",
       "  </tbody>\n",
       "</table>\n",
       "<p>6 rows × 63 columns</p>\n",
       "</div>"
      ],
      "text/plain": [
       "    MinTemp   MaxTemp  Rainfall  WindGustSpeed  WindSpeed9am  WindSpeed3pm  \\\n",
       "4  0.628342  0.696296  0.035714       0.465753      0.135135      0.428571   \n",
       "5  0.550802  0.632099  0.007143       0.671233      0.459459      0.523810   \n",
       "6  0.542781  0.516049  0.000000       0.589041      0.486486      0.523810   \n",
       "7  0.366310  0.558025  0.000000       0.383562      0.108108      0.357143   \n",
       "8  0.419786  0.686420  0.000000       1.000000      0.135135      0.619048   \n",
       "9  0.510695  0.641975  0.050000       0.287671      0.351351      0.214286   \n",
       "\n",
       "   Humidity9am  Humidity3pm  Pressure9am  Pressure3pm       ...        \\\n",
       "4     0.797753         0.33     0.342043     0.282974       ...         \n",
       "5     0.494382         0.23     0.304038     0.268585       ...         \n",
       "6     0.426966         0.19     0.313539     0.335731       ...         \n",
       "7     0.415730         0.19     0.403800     0.381295       ...         \n",
       "8     0.348315         0.09     0.296912     0.225420       ...         \n",
       "9     0.528090         0.27     0.251781     0.275779       ...         \n",
       "\n",
       "   WindDir9am_NNW  WindDir9am_NW  WindDir9am_S  WindDir9am_SE  WindDir9am_SSE  \\\n",
       "4             0.0            0.0           0.0            0.0             0.0   \n",
       "5             0.0            0.0           0.0            0.0             0.0   \n",
       "6             0.0            0.0           0.0            0.0             0.0   \n",
       "7             0.0            0.0           0.0            0.0             1.0   \n",
       "8             0.0            0.0           0.0            1.0             0.0   \n",
       "9             0.0            0.0           1.0            0.0             0.0   \n",
       "\n",
       "   WindDir9am_SSW  WindDir9am_SW  WindDir9am_W  WindDir9am_WNW  WindDir9am_WSW  \n",
       "4             0.0            0.0           0.0             0.0             0.0  \n",
       "5             0.0            0.0           1.0             0.0             0.0  \n",
       "6             0.0            1.0           0.0             0.0             0.0  \n",
       "7             0.0            0.0           0.0             0.0             0.0  \n",
       "8             0.0            0.0           0.0             0.0             0.0  \n",
       "9             0.0            0.0           0.0             0.0             0.0  \n",
       "\n",
       "[6 rows x 63 columns]"
      ]
     },
     "execution_count": 72,
     "metadata": {},
     "output_type": "execute_result"
    }
   ],
   "source": [
    "minmax = preprocessing.MinMaxScaler()\n",
    "minmax.fit(weatherAUS_new)\n",
    "weatherAUS_new = pd.DataFrame(minmax.transform(weatherAUS_new), index=weatherAUS_new.index, columns=weatherAUS_new.columns)\n",
    "weatherAUS_new.iloc[4:10]"
   ]
  },
  {
   "cell_type": "markdown",
   "metadata": {},
   "source": [
    "### Graphs"
   ]
  },
  {
   "cell_type": "code",
   "execution_count": 73,
   "metadata": {},
   "outputs": [
    {
     "data": {
      "image/png": "[encoded data removed]",
      "text/plain": [
       "<Figure size 432x288 with 1 Axes>"
      ]
     },
     "metadata": {
      "needs_background": "light"
     },
     "output_type": "display_data"
    }
   ],
   "source": [
    "ax = sns.countplot(x=\"RainTomorrow\", data=weatherAUS_new)"
   ]
  },
  {
   "cell_type": "code",
   "execution_count": 74,
   "metadata": {},
   "outputs": [
    {
     "name": "stderr",
     "output_type": "stream",
     "text": [
      "C:\\Users\\somen\\Anaconda3\\lib\\site-packages\\scipy\\stats\\stats.py:1713: FutureWarning: Using a non-tuple sequence for multidimensional indexing is deprecated; use `arr[tuple(seq)]` instead of `arr[seq]`. In the future this will be interpreted as an array index, `arr[np.array(seq)]`, which will result either in an error or a different result.\n",
      "  return np.add.reduce(sorted[indexer] * weights, axis=axis) / sumval\n"
     ]
    },
    {
     "data": {
      "image/png": "[encoded data removed]",
      "text/plain": [
       "<Figure size 1440x1440 with 4 Axes>"
      ]
     },
     "metadata": {
      "needs_background": "light"
     },
     "output_type": "display_data"
    }
   ],
   "source": [
    "fig,axis = plt.subplots(2,2,figsize=[20,20])\n",
    "sns.distplot(weatherAUS_new['Rainfall'],ax=axis[0,0] )\n",
    "axis[0,0].set_xlabel('Rainfall')\n",
    "axis[0,0].set_ylabel('RainTomorrow')\n",
    "axis[0,0].set_title('Rainfall vs RainTomorrow')\n",
    "\n",
    "sns.distplot(weatherAUS_new['WindGustSpeed'],ax=axis[0,1] )\n",
    "axis[0,1].set_xlabel('WindGustSpeed')\n",
    "axis[0,1].set_ylabel('RainTomorrow')\n",
    "axis[0,1].set_title('WindGustSpeed vs RainTomorrow')\n",
    "\n",
    "sns.distplot(weatherAUS_new['WindSpeed9am'],ax=axis[1,0] )\n",
    "axis[1,0].set_xlabel('WindSpeed9am')\n",
    "axis[1,0].set_ylabel('RainTomorrow')\n",
    "axis[1,0].set_title('WindSpeed9am vs RainTomorrow')\n",
    "\n",
    "sns.distplot(weatherAUS_new['WindSpeed3pm'],ax=axis[1,1] )\n",
    "axis[1,1].set_xlabel('WindSpeed3pm')\n",
    "axis[1,1].set_ylabel('RainTomorrow')\n",
    "axis[1,1].set_title('WindSpeed3pm vs RainTomorrow')\n",
    "plt.show()"
   ]
  },
  {
   "cell_type": "markdown",
   "metadata": {},
   "source": [
    "### Correlation"
   ]
  },
  {
   "cell_type": "code",
   "execution_count": 75,
   "metadata": {
    "scrolled": true
   },
   "outputs": [],
   "source": [
    "correlation = weatherAUS_new.corr()"
   ]
  },
  {
   "cell_type": "markdown",
   "metadata": {},
   "source": [
    "### Preparing the dataset for models"
   ]
  },
  {
   "cell_type": "code",
   "execution_count": 76,
   "metadata": {},
   "outputs": [],
   "source": [
    "weatherAUS_final = pd.DataFrame.sample(weatherAUS_new, 10000, random_state=1000)"
   ]
  },
  {
   "cell_type": "code",
   "execution_count": 77,
   "metadata": {},
   "outputs": [],
   "source": [
    "df_data = weatherAUS_final.drop([\"RainTomorrow\",\"RISK_MM\"], axis=1)\n",
    "df_target = weatherAUS_final[\"RainTomorrow\"]"
   ]
  },
  {
   "cell_type": "markdown",
   "metadata": {},
   "source": [
    "### Splitting training and test dataset"
   ]
  },
  {
   "cell_type": "code",
   "execution_count": 78,
   "metadata": {},
   "outputs": [],
   "source": [
    "X_train, X_test, y_train, y_test = train_test_split(df_data,df_target, test_size = .30, random_state=1000)"
   ]
  },
  {
   "cell_type": "markdown",
   "metadata": {},
   "source": [
    "### Scaling"
   ]
  },
  {
   "cell_type": "code",
   "execution_count": 79,
   "metadata": {},
   "outputs": [],
   "source": [
    "scaler = StandardScaler()\n",
    "scaler.fit(X_train)\n",
    "X_train_sl = scaler.transform(X_train)\n",
    "X_test_sl = scaler.transform(X_test)\n",
    "X_train_sl = pd.DataFrame(X_train_sl, columns=X_train.columns.values)\n",
    "X_test_sl = pd.DataFrame(X_test_sl, columns=X_test.columns.values)"
   ]
  },
  {
   "cell_type": "markdown",
   "metadata": {},
   "source": [
    "### Creating a loop to run all the models"
   ]
  },
  {
   "cell_type": "code",
   "execution_count": 80,
   "metadata": {
    "scrolled": false
   },
   "outputs": [
    {
     "name": "stdout",
     "output_type": "stream",
     "text": [
      "Datatype: scaled_df\n",
      "Model: KNN-Classifier\n",
      "Parameter(Optimum): {'n_neighbors': 20}\n",
      "Cross-validation score: 0.81\n",
      "\n",
      "\n",
      "\n",
      "Datatype: scaled_df\n",
      "Model: Logistic Reg\n",
      "Parameter(Optimum): {'C': 1}\n",
      "Cross-validation score: 0.85\n",
      "\n",
      "\n",
      "\n",
      "Datatype: scaled_df\n",
      "Model: LinearSVC\n",
      "Parameter(Optimum): {'C': 0.01}\n",
      "Cross-validation score: 0.85\n",
      "\n",
      "\n",
      "\n",
      "Datatype: scaled_df\n",
      "Model: SVM Kernelized\n",
      "Parameter(Optimum): {'C': 1, 'gamma': 0.01, 'kernel': 'rbf'}\n",
      "Cross-validation score: 0.85\n",
      "\n",
      "\n",
      "\n",
      "Datatype: scaled_df\n",
      "Model: Decision Tree\n",
      "Parameter(Optimum): {}\n",
      "Cross-validation score: 0.79\n",
      "\n",
      "\n",
      "\n",
      "Datatype: default_df\n",
      "Model: KNN-Classifier\n",
      "Parameter(Optimum): {'n_neighbors': 15}\n",
      "Cross-validation score: 0.81\n",
      "\n",
      "\n",
      "\n",
      "Datatype: default_df\n",
      "Model: Logistic Reg\n",
      "Parameter(Optimum): {'C': 10}\n",
      "Cross-validation score: 0.85\n",
      "\n",
      "\n",
      "\n",
      "Datatype: default_df\n",
      "Model: LinearSVC\n",
      "Parameter(Optimum): {'C': 1}\n",
      "Cross-validation score: 0.85\n",
      "\n",
      "\n",
      "\n",
      "Datatype: default_df\n",
      "Model: SVM Kernelized\n",
      "Parameter(Optimum): {'C': 10, 'gamma': 0.1, 'kernel': 'rbf'}\n",
      "Cross-validation score: 0.85\n",
      "\n",
      "\n",
      "\n",
      "Datatype: default_df\n",
      "Model: Decision Tree\n",
      "Parameter(Optimum): {}\n",
      "Cross-validation score: 0.79\n",
      "\n",
      "\n",
      "\n"
     ]
    }
   ],
   "source": [
    "input_df = {\n",
    "            \"scaled_df\": {\"X_train\": X_train_sl, \"X_test\": X_test_sl},\n",
    "            \"default_df\": {\"X_train\": X_train, \"X_test\": X_test},\n",
    "            }\n",
    "\n",
    "mods = {\n",
    "        \"KNN-Classifier\": KNeighborsClassifier(),\n",
    "        \"Logistic Reg\": LogisticRegression(),\n",
    "        \"LinearSVC\": LinearSVC(),\n",
    "        \"SVM Kernelized\": SVC(),\n",
    "        \"Decision Tree\": DecisionTreeClassifier(),\n",
    "        }\n",
    "\n",
    "par = {\n",
    "        \"KNN-Classifier\": {'n_neighbors': [3, 5, 8, 10, 15, 20]},\n",
    "        \"Logistic Reg\": {'C': [0.01, 0.1, 1, 10]},\n",
    "        \"LinearSVC\": {'C': [0.01, 0.1, 1, 10]},\n",
    "        \"SVM Kernelized\": {'C': [0.01, 0.1, 1, 10], 'gamma': [0.01, 0.1, 1, 10], 'kernel': ['rbf']},\n",
    "        \"Decision Tree\": {},\n",
    "        }\n",
    "\n",
    "best_est = {}\n",
    "\n",
    "for datatype, data in input_df.items():\n",
    "    X_tr = data[\"X_train\"]\n",
    "    \n",
    "    for model_name, model in mods.items():\n",
    "        grid_search = GridSearchCV(model, par[model_name], cv=3, n_jobs=-1)\n",
    "        grid_search.fit(X_tr, y_train)\n",
    "\n",
    "        print(\"Datatype:\", datatype)\n",
    "        print(\"Model:\", model_name)\n",
    "        print(\"Parameter(Optimum): {}\".format(grid_search.best_params_))\n",
    "        print(\"Cross-validation score: {:.2f}\".format(grid_search.best_score_))\n",
    "        \n",
    "        best_est.setdefault(model_name, {})\n",
    "        best_est[model_name].setdefault(\"estimators\", {})\n",
    "        best_est[model_name][\"estimators\"][datatype] = grid_search.best_estimator_\n",
    "        \n",
    "        print(\"\\n\\n\")"
   ]
  },
  {
   "cell_type": "markdown",
   "metadata": {},
   "source": [
    "### Viewing the best estimators for the dataset"
   ]
  },
  {
   "cell_type": "code",
   "execution_count": 81,
   "metadata": {},
   "outputs": [
    {
     "data": {
      "text/plain": [
       "{'KNN-Classifier': {'estimators': {'scaled_df': KNeighborsClassifier(algorithm='auto', leaf_size=30, metric='minkowski',\n",
       "              metric_params=None, n_jobs=1, n_neighbors=20, p=2,\n",
       "              weights='uniform'),\n",
       "   'default_df': KNeighborsClassifier(algorithm='auto', leaf_size=30, metric='minkowski',\n",
       "              metric_params=None, n_jobs=1, n_neighbors=15, p=2,\n",
       "              weights='uniform')}},\n",
       " 'Logistic Reg': {'estimators': {'scaled_df': LogisticRegression(C=1, class_weight=None, dual=False, fit_intercept=True,\n",
       "             intercept_scaling=1, max_iter=100, multi_class='ovr', n_jobs=1,\n",
       "             penalty='l2', random_state=None, solver='liblinear', tol=0.0001,\n",
       "             verbose=0, warm_start=False),\n",
       "   'default_df': LogisticRegression(C=10, class_weight=None, dual=False, fit_intercept=True,\n",
       "             intercept_scaling=1, max_iter=100, multi_class='ovr', n_jobs=1,\n",
       "             penalty='l2', random_state=None, solver='liblinear', tol=0.0001,\n",
       "             verbose=0, warm_start=False)}},\n",
       " 'LinearSVC': {'estimators': {'scaled_df': LinearSVC(C=0.01, class_weight=None, dual=True, fit_intercept=True,\n",
       "        intercept_scaling=1, loss='squared_hinge', max_iter=1000,\n",
       "        multi_class='ovr', penalty='l2', random_state=None, tol=0.0001,\n",
       "        verbose=0),\n",
       "   'default_df': LinearSVC(C=1, class_weight=None, dual=True, fit_intercept=True,\n",
       "        intercept_scaling=1, loss='squared_hinge', max_iter=1000,\n",
       "        multi_class='ovr', penalty='l2', random_state=None, tol=0.0001,\n",
       "        verbose=0)}},\n",
       " 'SVM Kernelized': {'estimators': {'scaled_df': SVC(C=1, cache_size=200, class_weight=None, coef0=0.0,\n",
       "     decision_function_shape='ovr', degree=3, gamma=0.01, kernel='rbf',\n",
       "     max_iter=-1, probability=False, random_state=None, shrinking=True,\n",
       "     tol=0.001, verbose=False),\n",
       "   'default_df': SVC(C=10, cache_size=200, class_weight=None, coef0=0.0,\n",
       "     decision_function_shape='ovr', degree=3, gamma=0.1, kernel='rbf',\n",
       "     max_iter=-1, probability=False, random_state=None, shrinking=True,\n",
       "     tol=0.001, verbose=False)}},\n",
       " 'Decision Tree': {'estimators': {'scaled_df': DecisionTreeClassifier(class_weight=None, criterion='gini', max_depth=None,\n",
       "               max_features=None, max_leaf_nodes=None,\n",
       "               min_impurity_decrease=0.0, min_impurity_split=None,\n",
       "               min_samples_leaf=1, min_samples_split=2,\n",
       "               min_weight_fraction_leaf=0.0, presort=False, random_state=None,\n",
       "               splitter='best'),\n",
       "   'default_df': DecisionTreeClassifier(class_weight=None, criterion='gini', max_depth=None,\n",
       "               max_features=None, max_leaf_nodes=None,\n",
       "               min_impurity_decrease=0.0, min_impurity_split=None,\n",
       "               min_samples_leaf=1, min_samples_split=2,\n",
       "               min_weight_fraction_leaf=0.0, presort=False, random_state=None,\n",
       "               splitter='best')}}}"
      ]
     },
     "execution_count": 81,
     "metadata": {},
     "output_type": "execute_result"
    }
   ],
   "source": [
    "best_est"
   ]
  },
  {
   "cell_type": "code",
   "execution_count": 82,
   "metadata": {},
   "outputs": [],
   "source": [
    "model_perf = pd.DataFrame({\"model_name\": [], \"F1-Score\": []})"
   ]
  },
  {
   "cell_type": "markdown",
   "metadata": {},
   "source": [
    "### Selecting the best model for analysis"
   ]
  },
  {
   "cell_type": "code",
   "execution_count": 83,
   "metadata": {},
   "outputs": [],
   "source": [
    "chosen_est = best_est[\"Logistic Reg\"][\"estimators\"][\"default_df\"]\n",
    "X_test = input_df[\"default_df\"][\"X_test\"]\n",
    "\n",
    "preds = chosen_est.predict(X_test)"
   ]
  },
  {
   "cell_type": "markdown",
   "metadata": {},
   "source": [
    "### Accuracy"
   ]
  },
  {
   "cell_type": "code",
   "execution_count": 84,
   "metadata": {},
   "outputs": [
    {
     "name": "stdout",
     "output_type": "stream",
     "text": [
      "Accuracy:  85.77 %\n"
     ]
    }
   ],
   "source": [
    "acc = accuracy_score(y_test, preds)\n",
    "print(\"Accuracy: \", round(acc*100, 2), \"%\")"
   ]
  },
  {
   "cell_type": "markdown",
   "metadata": {},
   "source": [
    "### F1-Score"
   ]
  },
  {
   "cell_type": "code",
   "execution_count": 85,
   "metadata": {},
   "outputs": [
    {
     "name": "stdout",
     "output_type": "stream",
     "text": [
      "F1-Score:  54.04 %\n"
     ]
    }
   ],
   "source": [
    "f1 = f1_score(y_test, preds)\n",
    "print(\"F1-Score: \", round(f1*100, 2), \"%\")"
   ]
  },
  {
   "cell_type": "code",
   "execution_count": 86,
   "metadata": {},
   "outputs": [],
   "source": [
    "model_perf = model_perf.append({\"model_name\": \"Logistic Reg\", \"F1-Score\": f1}, ignore_index=True)"
   ]
  },
  {
   "cell_type": "markdown",
   "metadata": {},
   "source": [
    "### Confusion Matrix"
   ]
  },
  {
   "cell_type": "code",
   "execution_count": 87,
   "metadata": {},
   "outputs": [
    {
     "name": "stdout",
     "output_type": "stream",
     "text": [
      "[[2322   99]\n",
      " [ 328  251]]\n"
     ]
    },
    {
     "data": {
      "text/plain": [
       "<matplotlib.axes._subplots.AxesSubplot at 0x2108b80eb08>"
      ]
     },
     "execution_count": 87,
     "metadata": {},
     "output_type": "execute_result"
    },
    {
     "data": {
      "image/png": "[encoded data removed]",
      "text/plain": [
       "<Figure size 720x504 with 2 Axes>"
      ]
     },
     "metadata": {
      "needs_background": "light"
     },
     "output_type": "display_data"
    }
   ],
   "source": [
    "conf_m = confusion_matrix(y_test, preds)\n",
    "print(conf_m)\n",
    "\n",
    "conf_df = pd.DataFrame(conf_m, index = [\"Actual 0\", \"Actual 1\"], columns = [\"Predicted: 0\", \"Predicted 1\"])\n",
    "plt.figure(figsize = (10,7))\n",
    "sns.heatmap(conf_df, annot=True, fmt='g')"
   ]
  },
  {
   "cell_type": "markdown",
   "metadata": {},
   "source": [
    "### Precision Recall"
   ]
  },
  {
   "cell_type": "code",
   "execution_count": 88,
   "metadata": {},
   "outputs": [
    {
     "data": {
      "text/plain": [
       "Text(0.5,1,'Average Precision =42.02%')"
      ]
     },
     "execution_count": 88,
     "metadata": {},
     "output_type": "execute_result"
    },
    {
     "data": {
      "image/png": "[encoded data removed]",
      "text/plain": [
       "<Figure size 432x288 with 1 Axes>"
      ]
     },
     "metadata": {
      "needs_background": "light"
     },
     "output_type": "display_data"
    }
   ],
   "source": [
    "precision, recall, threshold = precision_recall_curve(y_test, preds)\n",
    "average_precision = average_precision_score(y_test, preds)\n",
    "\n",
    "plt.step(recall, precision, alpha=0.5,where='post')\n",
    "\n",
    "plt.fill_between(recall, precision, alpha=0.5)\n",
    "plt.xlabel('Recall')\n",
    "plt.ylabel('Precision')\n",
    "plt.ylim([0.0, 1.05])\n",
    "plt.xlim([0.0, 1.0])\n",
    "plt.title('Average Precision =' + str(round(average_precision*100, 2)) + \"%\")"
   ]
  },
  {
   "cell_type": "markdown",
   "metadata": {},
   "source": [
    "### ROC Curve"
   ]
  },
  {
   "cell_type": "code",
   "execution_count": 89,
   "metadata": {
    "scrolled": true
   },
   "outputs": [
    {
     "data": {
      "image/png": "[encoded data removed]",
      "text/plain": [
       "<Figure size 432x288 with 1 Axes>"
      ]
     },
     "metadata": {
      "needs_background": "light"
     },
     "output_type": "display_data"
    }
   ],
   "source": [
    "fpr, tpr, thresholds = roc_curve(y_test, preds)\n",
    "plt.figure()\n",
    "\n",
    "class_num = 2\n",
    "roc_auc = auc(fpr, tpr)\n",
    "\n",
    "plt.plot(fpr, tpr, lw=2, label='ROC curve (area = %0.2f)' % roc_auc)\n",
    "plt.plot([0, 1], [0, 1], lw=2, linestyle='--')\n",
    "plt.xlim([0.0, 1.0])\n",
    "plt.ylim([0.0, 1.05])\n",
    "plt.xlabel('False Positive Rate')\n",
    "plt.ylabel('True Positive Rate')\n",
    "plt.title('Receiver operating characteristic')\n",
    "plt.legend(loc=\"lower right\")\n",
    "plt.show()"
   ]
  },
  {
   "cell_type": "markdown",
   "metadata": {},
   "source": [
    "### Selecting the second best model for analysis"
   ]
  },
  {
   "cell_type": "code",
   "execution_count": 90,
   "metadata": {},
   "outputs": [],
   "source": [
    "chosen_est = best_est[\"SVM Kernelized\"][\"estimators\"][\"scaled_df\"]\n",
    "X_test = input_df[\"scaled_df\"][\"X_test\"]\n",
    "\n",
    "preds = chosen_est.predict(X_test)"
   ]
  },
  {
   "cell_type": "markdown",
   "metadata": {},
   "source": [
    "### Accuracy"
   ]
  },
  {
   "cell_type": "code",
   "execution_count": 91,
   "metadata": {},
   "outputs": [
    {
     "name": "stdout",
     "output_type": "stream",
     "text": [
      "Accuracy:  85.6 %\n"
     ]
    }
   ],
   "source": [
    "acc = accuracy_score(y_test, preds)\n",
    "print(\"Accuracy: \", round(acc*100, 2), \"%\")"
   ]
  },
  {
   "cell_type": "markdown",
   "metadata": {},
   "source": [
    "### F1-Score"
   ]
  },
  {
   "cell_type": "code",
   "execution_count": 92,
   "metadata": {},
   "outputs": [
    {
     "name": "stdout",
     "output_type": "stream",
     "text": [
      "F1-Score:  49.41 %\n"
     ]
    }
   ],
   "source": [
    "f1 = f1_score(y_test, preds)\n",
    "print(\"F1-Score: \", round(f1*100, 2), \"%\")"
   ]
  },
  {
   "cell_type": "code",
   "execution_count": 93,
   "metadata": {},
   "outputs": [],
   "source": [
    "model_perf = model_perf.append({\"model_name\": \"SVM Kernelized\", \"F1-Score\": f1}, ignore_index=True)"
   ]
  },
  {
   "cell_type": "markdown",
   "metadata": {},
   "source": [
    "### Model Performance"
   ]
  },
  {
   "cell_type": "code",
   "execution_count": 94,
   "metadata": {},
   "outputs": [
    {
     "data": {
      "text/html": [
       "<div>\n",
       "<style scoped>\n",
       "    .dataframe tbody tr th:only-of-type {\n",
       "        vertical-align: middle;\n",
       "    }\n",
       "\n",
       "    .dataframe tbody tr th {\n",
       "        vertical-align: top;\n",
       "    }\n",
       "\n",
       "    .dataframe thead th {\n",
       "        text-align: right;\n",
       "    }\n",
       "</style>\n",
       "<table border=\"1\" class=\"dataframe\">\n",
       "  <thead>\n",
       "    <tr style=\"text-align: right;\">\n",
       "      <th></th>\n",
       "      <th>model_name</th>\n",
       "      <th>F1-Score</th>\n",
       "    </tr>\n",
       "  </thead>\n",
       "  <tbody>\n",
       "    <tr>\n",
       "      <th>0</th>\n",
       "      <td>Logistic Reg</td>\n",
       "      <td>0.540366</td>\n",
       "    </tr>\n",
       "    <tr>\n",
       "      <th>1</th>\n",
       "      <td>SVM Kernelized</td>\n",
       "      <td>0.494145</td>\n",
       "    </tr>\n",
       "  </tbody>\n",
       "</table>\n",
       "</div>"
      ],
      "text/plain": [
       "       model_name  F1-Score\n",
       "0    Logistic Reg  0.540366\n",
       "1  SVM Kernelized  0.494145"
      ]
     },
     "execution_count": 94,
     "metadata": {},
     "output_type": "execute_result"
    }
   ],
   "source": [
    "model_perf"
   ]
  },
  {
   "cell_type": "markdown",
   "metadata": {},
   "source": [
    "### Confusion Matrix"
   ]
  },
  {
   "cell_type": "code",
   "execution_count": 95,
   "metadata": {},
   "outputs": [
    {
     "name": "stdout",
     "output_type": "stream",
     "text": [
      "[[2357   64]\n",
      " [ 368  211]]\n"
     ]
    },
    {
     "data": {
      "text/plain": [
       "<matplotlib.axes._subplots.AxesSubplot at 0x210fe611fc8>"
      ]
     },
     "execution_count": 95,
     "metadata": {},
     "output_type": "execute_result"
    },
    {
     "data": {
      "image/png": "[encoded data removed]",
      "text/plain": [
       "<Figure size 720x504 with 2 Axes>"
      ]
     },
     "metadata": {
      "needs_background": "light"
     },
     "output_type": "display_data"
    }
   ],
   "source": [
    "conf_m = confusion_matrix(y_test, preds)\n",
    "print(conf_m)\n",
    "\n",
    "conf_df = pd.DataFrame(conf_m, index = [\"Actual 0\", \"Actual 1\"], columns = [\"Predicted: 0\", \"Predicted 1\"])\n",
    "plt.figure(figsize = (10,7))\n",
    "sns.heatmap(conf_df, annot=True, fmt='g')"
   ]
  },
  {
   "cell_type": "markdown",
   "metadata": {},
   "source": [
    "### Precision Recall"
   ]
  },
  {
   "cell_type": "code",
   "execution_count": 96,
   "metadata": {},
   "outputs": [
    {
     "data": {
      "text/plain": [
       "Text(0.5,1,'Average Precision =40.23%')"
      ]
     },
     "execution_count": 96,
     "metadata": {},
     "output_type": "execute_result"
    },
    {
     "data": {
      "image/png": "[encoded data removed]",
      "text/plain": [
       "<Figure size 432x288 with 1 Axes>"
      ]
     },
     "metadata": {
      "needs_background": "light"
     },
     "output_type": "display_data"
    }
   ],
   "source": [
    "precision, recall, threshold = precision_recall_curve(y_test, preds)\n",
    "average_precision = average_precision_score(y_test, preds)\n",
    "\n",
    "plt.step(recall, precision, alpha=0.5,where='post')\n",
    "\n",
    "plt.fill_between(recall, precision, alpha=0.5)\n",
    "plt.xlabel('Recall')\n",
    "plt.ylabel('Precision')\n",
    "plt.ylim([0.0, 1.05])\n",
    "plt.xlim([0.0, 1.0])\n",
    "plt.title('Average Precision =' + str(round(average_precision*100, 2)) + \"%\")"
   ]
  },
  {
   "cell_type": "markdown",
   "metadata": {},
   "source": [
    "### ROC Curve"
   ]
  },
  {
   "cell_type": "code",
   "execution_count": 97,
   "metadata": {
    "scrolled": true
   },
   "outputs": [
    {
     "data": {
      "image/png": "[encoded data removed]",
      "text/plain": [
       "<Figure size 432x288 with 1 Axes>"
      ]
     },
     "metadata": {
      "needs_background": "light"
     },
     "output_type": "display_data"
    }
   ],
   "source": [
    "fpr, tpr, thresholds = roc_curve(y_test, preds)\n",
    "plt.figure()\n",
    "\n",
    "class_num = 2\n",
    "roc_auc = auc(fpr, tpr)\n",
    "\n",
    "plt.plot(fpr, tpr, lw=2, label='ROC curve (area = %0.2f)' % roc_auc)\n",
    "plt.plot([0, 1], [0, 1], lw=2, linestyle='--')\n",
    "plt.xlim([0.0, 1.0])\n",
    "plt.ylim([0.0, 1.05])\n",
    "plt.xlabel('False Positive Rate')\n",
    "plt.ylabel('True Positive Rate')\n",
    "plt.title('Receiver operating characteristic')\n",
    "plt.legend(loc=\"lower right\")\n",
    "plt.show()"
   ]
  },
  {
   "cell_type": "markdown",
   "metadata": {},
   "source": [
    "Best model for Classification is Logistic Regression"
   ]
  }
 ],
 "metadata": {
  "kernelspec": {
   "display_name": "Python 3",
   "language": "python",
   "name": "python3"
  },
  "language_info": {
   "codemirror_mode": {
    "name": "ipython",
    "version": 3
   },
   "file_extension": ".py",
   "mimetype": "text/x-python",
   "name": "python",
   "nbconvert_exporter": "python",
   "pygments_lexer": "ipython3",
   "version": "3.7.1"
  }
 },
 "nbformat": 4,
 "nbformat_minor": 2
}
